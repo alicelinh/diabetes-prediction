{
 "cells": [
  {
   "cell_type": "markdown",
   "id": "d0366d67-b727-42c1-b494-d5e271e8cbc9",
   "metadata": {},
   "source": [
    "# Part I. Data Extraction"
   ]
  },
  {
   "cell_type": "code",
   "execution_count": 3,
   "id": "0735c13f-7c11-486b-b6e1-8f01a458bcf2",
   "metadata": {},
   "outputs": [],
   "source": [
    "import pandas as pd\n",
    "import seaborn as sns\n",
    "import matplotlib.pyplot as plt\n",
    "import numpy as np\n",
    "from sklearn.experimental import enable_iterative_imputer\n",
    "from sklearn.impute import IterativeImputer\n",
    "from sklearn.model_selection import train_test_split, GridSearchCV, StratifiedKFold\n",
    "from imblearn.over_sampling import SMOTENC\n",
    "from sklearn.preprocessing import RobustScaler\n",
    "from sklearn.preprocessing import StandardScaler\n",
    "from sklearn.linear_model import LogisticRegression\n",
    "from sklearn.tree import DecisionTreeClassifier\n",
    "from sklearn.dummy import DummyClassifier\n",
    "from sklearn.metrics import accuracy_score, precision_score, recall_score, f1_score, roc_auc_score, classification_report, confusion_matrix\n",
    "from sklearn.feature_selection import SelectKBest, f_classif, VarianceThreshold, RFE, SequentialFeatureSelector, SelectFromModel\n",
    "from sklearn.neighbors import KNeighborsClassifier\n",
    "from sklearn.svm import SVC, LinearSVC\n",
    "from tensorflow.keras.models import Sequential\n",
    "from tensorflow.keras.layers import Dense\n",
    "from tensorflow.keras.optimizers import Adam\n",
    "from tensorflow.keras.metrics import Recall\n",
    "from sklearn.inspection import permutation_importance\n",
    "from scikeras.wrappers import KerasClassifier\n",
    "from sklearn.ensemble import RandomForestClassifier, VotingClassifier, StackingClassifier\n",
    "from xgboost import XGBClassifier\n",
    "from lightgbm import LGBMClassifier"
   ]
  },
  {
   "cell_type": "code",
   "execution_count": 4,
   "id": "b49b3240-398d-444e-9a8d-702315de7454",
   "metadata": {},
   "outputs": [],
   "source": [
    "master_data = pd.read_csv(\"C:/Users/Admin/Downloads/diabetes.csv\")"
   ]
  },
  {
   "cell_type": "code",
   "execution_count": 5,
   "id": "707bd56f-9e25-4196-9cf9-a002b17d7646",
   "metadata": {},
   "outputs": [],
   "source": [
    "pd.set_option('display.max_columns', None)"
   ]
  },
  {
   "cell_type": "code",
   "execution_count": null,
   "id": "a26012e8-9c3a-4425-911b-7b9418d4a793",
   "metadata": {},
   "outputs": [],
   "source": []
  },
  {
   "cell_type": "markdown",
   "id": "82787b76-bde4-4e59-9adf-a45f12fc41fd",
   "metadata": {},
   "source": [
    "# Part II. Exploratory Data Analysis"
   ]
  },
  {
   "cell_type": "code",
   "execution_count": 6,
   "id": "82a0f8c1-8e35-4ecd-ac13-31d66637b65a",
   "metadata": {},
   "outputs": [
    {
     "data": {
      "text/html": [
       "<div>\n",
       "<style scoped>\n",
       "    .dataframe tbody tr th:only-of-type {\n",
       "        vertical-align: middle;\n",
       "    }\n",
       "\n",
       "    .dataframe tbody tr th {\n",
       "        vertical-align: top;\n",
       "    }\n",
       "\n",
       "    .dataframe thead th {\n",
       "        text-align: right;\n",
       "    }\n",
       "</style>\n",
       "<table border=\"1\" class=\"dataframe\">\n",
       "  <thead>\n",
       "    <tr style=\"text-align: right;\">\n",
       "      <th></th>\n",
       "      <th>Age</th>\n",
       "      <th>Gender</th>\n",
       "      <th>BMI</th>\n",
       "      <th>SBP</th>\n",
       "      <th>DBP</th>\n",
       "      <th>FPG</th>\n",
       "      <th>Chol</th>\n",
       "      <th>Tri</th>\n",
       "      <th>HDL</th>\n",
       "      <th>LDL</th>\n",
       "      <th>ALT</th>\n",
       "      <th>BUN</th>\n",
       "      <th>CCR</th>\n",
       "      <th>FFPG</th>\n",
       "      <th>smoking</th>\n",
       "      <th>drinking</th>\n",
       "      <th>family_histroy</th>\n",
       "      <th>Diabetes</th>\n",
       "    </tr>\n",
       "  </thead>\n",
       "  <tbody>\n",
       "    <tr>\n",
       "      <th>0</th>\n",
       "      <td>26</td>\n",
       "      <td>1</td>\n",
       "      <td>20.1</td>\n",
       "      <td>119</td>\n",
       "      <td>81</td>\n",
       "      <td>5.80</td>\n",
       "      <td>4.36</td>\n",
       "      <td>0.86</td>\n",
       "      <td>0.90</td>\n",
       "      <td>2.43</td>\n",
       "      <td>12.0</td>\n",
       "      <td>5.40</td>\n",
       "      <td>63.8</td>\n",
       "      <td>5.40</td>\n",
       "      <td>3.0</td>\n",
       "      <td>3.0</td>\n",
       "      <td>0</td>\n",
       "      <td>0</td>\n",
       "    </tr>\n",
       "    <tr>\n",
       "      <th>1</th>\n",
       "      <td>40</td>\n",
       "      <td>1</td>\n",
       "      <td>17.7</td>\n",
       "      <td>97</td>\n",
       "      <td>54</td>\n",
       "      <td>4.60</td>\n",
       "      <td>3.70</td>\n",
       "      <td>1.02</td>\n",
       "      <td>1.50</td>\n",
       "      <td>2.04</td>\n",
       "      <td>9.2</td>\n",
       "      <td>3.70</td>\n",
       "      <td>70.3</td>\n",
       "      <td>4.10</td>\n",
       "      <td>1.0</td>\n",
       "      <td>1.0</td>\n",
       "      <td>0</td>\n",
       "      <td>0</td>\n",
       "    </tr>\n",
       "    <tr>\n",
       "      <th>2</th>\n",
       "      <td>40</td>\n",
       "      <td>2</td>\n",
       "      <td>19.7</td>\n",
       "      <td>85</td>\n",
       "      <td>53</td>\n",
       "      <td>5.30</td>\n",
       "      <td>5.87</td>\n",
       "      <td>1.29</td>\n",
       "      <td>1.75</td>\n",
       "      <td>3.37</td>\n",
       "      <td>10.1</td>\n",
       "      <td>4.10</td>\n",
       "      <td>61.1</td>\n",
       "      <td>4.85</td>\n",
       "      <td>3.0</td>\n",
       "      <td>3.0</td>\n",
       "      <td>0</td>\n",
       "      <td>0</td>\n",
       "    </tr>\n",
       "    <tr>\n",
       "      <th>3</th>\n",
       "      <td>43</td>\n",
       "      <td>1</td>\n",
       "      <td>23.1</td>\n",
       "      <td>111</td>\n",
       "      <td>71</td>\n",
       "      <td>4.50</td>\n",
       "      <td>4.05</td>\n",
       "      <td>0.74</td>\n",
       "      <td>1.27</td>\n",
       "      <td>2.60</td>\n",
       "      <td>36.5</td>\n",
       "      <td>4.38</td>\n",
       "      <td>73.4</td>\n",
       "      <td>5.30</td>\n",
       "      <td>2.0</td>\n",
       "      <td>3.0</td>\n",
       "      <td>0</td>\n",
       "      <td>0</td>\n",
       "    </tr>\n",
       "    <tr>\n",
       "      <th>4</th>\n",
       "      <td>36</td>\n",
       "      <td>1</td>\n",
       "      <td>26.5</td>\n",
       "      <td>130</td>\n",
       "      <td>82</td>\n",
       "      <td>5.54</td>\n",
       "      <td>6.69</td>\n",
       "      <td>3.49</td>\n",
       "      <td>0.91</td>\n",
       "      <td>3.64</td>\n",
       "      <td>69.3</td>\n",
       "      <td>3.86</td>\n",
       "      <td>67.5</td>\n",
       "      <td>5.53</td>\n",
       "      <td>3.0</td>\n",
       "      <td>3.0</td>\n",
       "      <td>0</td>\n",
       "      <td>0</td>\n",
       "    </tr>\n",
       "  </tbody>\n",
       "</table>\n",
       "</div>"
      ],
      "text/plain": [
       "   Age  Gender   BMI  SBP  DBP   FPG  Chol   Tri   HDL   LDL   ALT   BUN  \\\n",
       "0   26       1  20.1  119   81  5.80  4.36  0.86  0.90  2.43  12.0  5.40   \n",
       "1   40       1  17.7   97   54  4.60  3.70  1.02  1.50  2.04   9.2  3.70   \n",
       "2   40       2  19.7   85   53  5.30  5.87  1.29  1.75  3.37  10.1  4.10   \n",
       "3   43       1  23.1  111   71  4.50  4.05  0.74  1.27  2.60  36.5  4.38   \n",
       "4   36       1  26.5  130   82  5.54  6.69  3.49  0.91  3.64  69.3  3.86   \n",
       "\n",
       "    CCR  FFPG  smoking  drinking  family_histroy  Diabetes  \n",
       "0  63.8  5.40      3.0       3.0               0         0  \n",
       "1  70.3  4.10      1.0       1.0               0         0  \n",
       "2  61.1  4.85      3.0       3.0               0         0  \n",
       "3  73.4  5.30      2.0       3.0               0         0  \n",
       "4  67.5  5.53      3.0       3.0               0         0  "
      ]
     },
     "execution_count": 6,
     "metadata": {},
     "output_type": "execute_result"
    }
   ],
   "source": [
    "master_data.head()"
   ]
  },
  {
   "cell_type": "code",
   "execution_count": 7,
   "id": "fb8a8410-4e70-4982-979c-d3b36f965b7f",
   "metadata": {},
   "outputs": [
    {
     "data": {
      "text/plain": [
       "(4299, 18)"
      ]
     },
     "execution_count": 7,
     "metadata": {},
     "output_type": "execute_result"
    }
   ],
   "source": [
    "master_data.shape"
   ]
  },
  {
   "cell_type": "code",
   "execution_count": 9,
   "id": "ef129dcf-215e-4b57-98e9-a746ec046c52",
   "metadata": {},
   "outputs": [
    {
     "data": {
      "image/png": "[encoded data removed]",
      "text/plain": [
       "<Figure size 600x600 with 1 Axes>"
      ]
     },
     "metadata": {},
     "output_type": "display_data"
    }
   ],
   "source": [
    "# Count number of people for each diabetes status\n",
    "counts = master_data['Diabetes'].value_counts().sort_index()  # Ensures order: 0, 1\n",
    "\n",
    "# Plot\n",
    "plt.figure(figsize=(6, 6))\n",
    "plt.bar(counts.index.astype(str), counts.values, color='pink', edgecolor='black')\n",
    "\n",
    "plt.xlabel(\"Status of diabetes\")\n",
    "plt.ylabel(\"Number of people\")\n",
    "plt.title(\"\")\n",
    "\n",
    "plt.show()"
   ]
  },
  {
   "cell_type": "code",
   "execution_count": 7,
   "id": "76813aa3-416c-4ab9-9b2d-6f5c772652c9",
   "metadata": {},
   "outputs": [
    {
     "data": {
      "image/png": "[encoded data removed]",
      "text/plain": [
       "<Figure size 1500x2000 with 13 Axes>"
      ]
     },
     "metadata": {},
     "output_type": "display_data"
    }
   ],
   "source": [
    "variables = ['Age', 'BMI', 'SBP', 'DBP', 'FPG', 'Chol', 'Tri', 'HDL', 'LDL', 'ALT', 'BUN', 'CCR', 'FFPG']\n",
    "\n",
    "# Set up the plotting area\n",
    "n_cols = 3\n",
    "n_rows = -(-len(variables) // n_cols)  # Ceiling division\n",
    "\n",
    "plt.figure(figsize=(n_cols * 5, n_rows * 4))\n",
    "\n",
    "for i, var in enumerate(variables, 1):\n",
    "    plt.subplot(n_rows, n_cols, i)\n",
    "    sns.boxplot(x='Diabetes', y=var, data=master_data)\n",
    "    plt.title(f'{var} by Diabetes Status')\n",
    "    plt.xlabel('Diabetes (0 = No, 1 = Yes)')\n",
    "    plt.ylabel(var)\n",
    "    plt.xticks([0, 1], ['No', 'Yes'])\n",
    "\n",
    "plt.tight_layout()\n",
    "plt.show()"
   ]
  },
  {
   "cell_type": "code",
   "execution_count": 11,
   "id": "da760f2f-de05-4a55-a629-f5f9fa73d0aa",
   "metadata": {},
   "outputs": [
    {
     "data": {
      "image/png": "[encoded data removed]",
      "text/plain": [
       "<Figure size 1200x1000 with 8 Axes>"
      ]
     },
     "metadata": {},
     "output_type": "display_data"
    }
   ],
   "source": [
    "# Make sure to match the actual diabetes column name\n",
    "diabetes_col = 'Diabetes'  # adjust if needed\n",
    "predictors = ['Gender', 'smoking', 'drinking', 'family_histroy']\n",
    "\n",
    "n_cols = 2\n",
    "n_rows = -(-len(predictors) // n_cols)\n",
    "\n",
    "plt.figure(figsize=(n_cols * 6, n_rows * 5))\n",
    "\n",
    "for i, predictor in enumerate(predictors, 1):\n",
    "    if predictor in master_data.columns:\n",
    "        # Normalize by row: % of diabetes statuses within each predictor group\n",
    "        crosstab = pd.crosstab(master_data[predictor], master_data[diabetes_col], normalize='index') * 100\n",
    "        \n",
    "        plt.subplot(n_rows, n_cols, i)\n",
    "        sns.heatmap(crosstab, annot=True, fmt=\".1f\", cmap=\"Blues\")\n",
    "        plt.title(f'% Diabetes Status by {predictor}')\n",
    "        plt.xlabel('Diabetes')\n",
    "        plt.ylabel(predictor)\n",
    "\n",
    "plt.tight_layout()\n",
    "plt.show()"
   ]
  },
  {
   "cell_type": "code",
   "execution_count": null,
   "id": "14883abc-a25b-45eb-98b1-2049b4d27e49",
   "metadata": {},
   "outputs": [],
   "source": []
  },
  {
   "cell_type": "markdown",
   "id": "fb58695b-4afb-4347-b73d-b8ce7f9a9d59",
   "metadata": {},
   "source": [
    "# Part III. Data Preprocessing"
   ]
  },
  {
   "cell_type": "markdown",
   "id": "a7becca7-f934-4484-a0a6-a1fa4895d9cd",
   "metadata": {},
   "source": [
    "## Data Cleaning (Master Data)"
   ]
  },
  {
   "cell_type": "code",
   "execution_count": 6,
   "id": "977c032c-e90e-481c-900c-945f624f7726",
   "metadata": {},
   "outputs": [],
   "source": [
    "master_data = master_data.replace(4.860753, np.nan)"
   ]
  },
  {
   "cell_type": "code",
   "execution_count": 7,
   "id": "40726359-c6c8-4f7a-9fc2-803621418232",
   "metadata": {},
   "outputs": [],
   "source": [
    "# Rename column\n",
    "master_data = master_data.rename(columns={'family_histroy': 'family_history'})"
   ]
  },
  {
   "cell_type": "code",
   "execution_count": 8,
   "id": "1aae64e1-0712-4481-ad1e-7a1d797676af",
   "metadata": {},
   "outputs": [
    {
     "name": "stdout",
     "output_type": "stream",
     "text": [
      "<class 'pandas.core.frame.DataFrame'>\n",
      "RangeIndex: 4299 entries, 0 to 4298\n",
      "Data columns (total 18 columns):\n",
      " #   Column          Non-Null Count  Dtype  \n",
      "---  ------          --------------  -----  \n",
      " 0   Age             4299 non-null   int64  \n",
      " 1   Gender          4299 non-null   int64  \n",
      " 2   BMI             4299 non-null   float64\n",
      " 3   SBP             4299 non-null   int64  \n",
      " 4   DBP             4299 non-null   int64  \n",
      " 5   FPG             4299 non-null   float64\n",
      " 6   Chol            4285 non-null   float64\n",
      " 7   Tri             4285 non-null   float64\n",
      " 8   HDL             3888 non-null   float64\n",
      " 9   LDL             3905 non-null   float64\n",
      " 10  ALT             4290 non-null   float64\n",
      " 11  BUN             4203 non-null   float64\n",
      " 12  CCR             4265 non-null   float64\n",
      " 13  FFPG            4299 non-null   float64\n",
      " 14  smoking         3413 non-null   float64\n",
      " 15  drinking        3413 non-null   float64\n",
      " 16  family_history  4299 non-null   int64  \n",
      " 17  Diabetes        4299 non-null   int64  \n",
      "dtypes: float64(12), int64(6)\n",
      "memory usage: 604.7 KB\n"
     ]
    }
   ],
   "source": [
    "master_data.info()"
   ]
  },
  {
   "cell_type": "markdown",
   "id": "5277d735-8f2a-4396-b034-21dcaee2dfc8",
   "metadata": {},
   "source": [
    "The dataset has 4303 data points and 18 features"
   ]
  },
  {
   "cell_type": "markdown",
   "id": "d47bbafe-d7f1-479b-a04e-7107dadbea12",
   "metadata": {},
   "source": []
  },
  {
   "cell_type": "markdown",
   "id": "2327da1f-9d34-4ff7-a9a1-c7d0b29a867b",
   "metadata": {},
   "source": [
    "### Handle missing values for categorical features"
   ]
  },
  {
   "cell_type": "code",
   "execution_count": 9,
   "id": "3a061a12-0f4b-4cb6-8e90-6a3800793efc",
   "metadata": {},
   "outputs": [
    {
     "name": "stderr",
     "output_type": "stream",
     "text": [
      "C:\\Users\\Admin\\AppData\\Local\\Temp\\ipykernel_19568\\3986873101.py:2: FutureWarning: A value is trying to be set on a copy of a DataFrame or Series through chained assignment using an inplace method.\n",
      "The behavior will change in pandas 3.0. This inplace method will never work because the intermediate object on which we are setting values always behaves as a copy.\n",
      "\n",
      "For example, when doing 'df[col].method(value, inplace=True)', try using 'df.method({col: value}, inplace=True)' or df[col] = df[col].method(value) instead, to perform the operation inplace on the original object.\n",
      "\n",
      "\n",
      "  master_data['smoking'].fillna(master_data['smoking'].mode()[0], inplace=True)\n",
      "C:\\Users\\Admin\\AppData\\Local\\Temp\\ipykernel_19568\\3986873101.py:3: FutureWarning: A value is trying to be set on a copy of a DataFrame or Series through chained assignment using an inplace method.\n",
      "The behavior will change in pandas 3.0. This inplace method will never work because the intermediate object on which we are setting values always behaves as a copy.\n",
      "\n",
      "For example, when doing 'df[col].method(value, inplace=True)', try using 'df.method({col: value}, inplace=True)' or df[col] = df[col].method(value) instead, to perform the operation inplace on the original object.\n",
      "\n",
      "\n",
      "  master_data['drinking'].fillna(master_data['drinking'].mode()[0], inplace=True)\n"
     ]
    }
   ],
   "source": [
    "# Handle missing values for smoking, drinking\n",
    "master_data['smoking'].fillna(master_data['smoking'].mode()[0], inplace=True)\n",
    "master_data['drinking'].fillna(master_data['drinking'].mode()[0], inplace=True)"
   ]
  },
  {
   "cell_type": "code",
   "execution_count": 10,
   "id": "c82c104d-e1a3-4e84-88bd-62883daa490e",
   "metadata": {},
   "outputs": [],
   "source": [
    "master_data['smoking'] = master_data['smoking'].astype(int)\n",
    "master_data['drinking'] = master_data['drinking'].astype(int)"
   ]
  },
  {
   "cell_type": "code",
   "execution_count": null,
   "id": "21185212-6d6e-4d44-b526-8b1349d9b145",
   "metadata": {},
   "outputs": [],
   "source": []
  },
  {
   "cell_type": "markdown",
   "id": "f24500d4-f51f-4d98-b3e2-006f38d088e2",
   "metadata": {},
   "source": [
    "### Handle misssing values for numeric features"
   ]
  },
  {
   "cell_type": "code",
   "execution_count": 11,
   "id": "f2b1c286-85eb-400f-aee9-0fac47fd7f6d",
   "metadata": {},
   "outputs": [
    {
     "name": "stderr",
     "output_type": "stream",
     "text": [
      "C:\\Users\\Admin\\AppData\\Local\\Temp\\ipykernel_19568\\841667338.py:3: FutureWarning: A value is trying to be set on a copy of a DataFrame or Series through chained assignment using an inplace method.\n",
      "The behavior will change in pandas 3.0. This inplace method will never work because the intermediate object on which we are setting values always behaves as a copy.\n",
      "\n",
      "For example, when doing 'df[col].method(value, inplace=True)', try using 'df.method({col: value}, inplace=True)' or df[col] = df[col].method(value) instead, to perform the operation inplace on the original object.\n",
      "\n",
      "\n",
      "  master_data[col].fillna(master_data[col].median(), inplace=True)\n",
      "C:\\Users\\Admin\\AppData\\Local\\Temp\\ipykernel_19568\\841667338.py:3: FutureWarning: A value is trying to be set on a copy of a DataFrame or Series through chained assignment using an inplace method.\n",
      "The behavior will change in pandas 3.0. This inplace method will never work because the intermediate object on which we are setting values always behaves as a copy.\n",
      "\n",
      "For example, when doing 'df[col].method(value, inplace=True)', try using 'df.method({col: value}, inplace=True)' or df[col] = df[col].method(value) instead, to perform the operation inplace on the original object.\n",
      "\n",
      "\n",
      "  master_data[col].fillna(master_data[col].median(), inplace=True)\n",
      "C:\\Users\\Admin\\AppData\\Local\\Temp\\ipykernel_19568\\841667338.py:3: FutureWarning: A value is trying to be set on a copy of a DataFrame or Series through chained assignment using an inplace method.\n",
      "The behavior will change in pandas 3.0. This inplace method will never work because the intermediate object on which we are setting values always behaves as a copy.\n",
      "\n",
      "For example, when doing 'df[col].method(value, inplace=True)', try using 'df.method({col: value}, inplace=True)' or df[col] = df[col].method(value) instead, to perform the operation inplace on the original object.\n",
      "\n",
      "\n",
      "  master_data[col].fillna(master_data[col].median(), inplace=True)\n",
      "C:\\Users\\Admin\\AppData\\Local\\Temp\\ipykernel_19568\\841667338.py:3: FutureWarning: A value is trying to be set on a copy of a DataFrame or Series through chained assignment using an inplace method.\n",
      "The behavior will change in pandas 3.0. This inplace method will never work because the intermediate object on which we are setting values always behaves as a copy.\n",
      "\n",
      "For example, when doing 'df[col].method(value, inplace=True)', try using 'df.method({col: value}, inplace=True)' or df[col] = df[col].method(value) instead, to perform the operation inplace on the original object.\n",
      "\n",
      "\n",
      "  master_data[col].fillna(master_data[col].median(), inplace=True)\n",
      "C:\\Users\\Admin\\AppData\\Local\\Temp\\ipykernel_19568\\841667338.py:3: FutureWarning: A value is trying to be set on a copy of a DataFrame or Series through chained assignment using an inplace method.\n",
      "The behavior will change in pandas 3.0. This inplace method will never work because the intermediate object on which we are setting values always behaves as a copy.\n",
      "\n",
      "For example, when doing 'df[col].method(value, inplace=True)', try using 'df.method({col: value}, inplace=True)' or df[col] = df[col].method(value) instead, to perform the operation inplace on the original object.\n",
      "\n",
      "\n",
      "  master_data[col].fillna(master_data[col].median(), inplace=True)\n"
     ]
    }
   ],
   "source": [
    "# Handle missing values for Chol, Tri, ALT, BUN, CCR (less than 5% missing)\n",
    "for col in ['Chol', 'Tri', 'ALT', 'BUN', 'CCR']:\n",
    "    master_data[col].fillna(master_data[col].median(), inplace=True)"
   ]
  },
  {
   "cell_type": "code",
   "execution_count": 12,
   "id": "076153c4-3b4a-439c-af24-f9a57f3e64c5",
   "metadata": {},
   "outputs": [],
   "source": [
    "# Handle missing values for HDL, LDL (more than 10% missing)\n",
    "# Use IterativeImputer\n",
    "\n",
    "features_for_imputation = [\n",
    "    'HDL', 'LDL', 'Chol', 'Tri', 'FPG', 'FFPG',\n",
    "    'ALT', 'BUN', 'CCR', 'Age', 'Gender', 'BMI', 'SBP', 'DBP',\n",
    "    'smoking', 'drinking', 'family_history'\n",
    "]\n",
    "\n",
    "# One-hot encode nominal categorical features\n",
    "impute_df = master_data[features_for_imputation].copy()\n",
    "impute_df = pd.get_dummies(impute_df, columns=['Gender', 'smoking', 'drinking'], drop_first=True)\n",
    "\n",
    "# Impute\n",
    "imputer = IterativeImputer(random_state=42)\n",
    "imputed_data = imputer.fit_transform(impute_df)\n",
    "\n",
    "# Assign back HDL and LDL\n",
    "master_data['HDL'] = imputed_data[:, impute_df.columns.get_loc('HDL')]\n",
    "master_data['LDL'] = imputed_data[:, impute_df.columns.get_loc('LDL')]"
   ]
  },
  {
   "cell_type": "code",
   "execution_count": null,
   "id": "d0c340e6-3b4f-45d0-bdbc-b2c46f35f68e",
   "metadata": {},
   "outputs": [],
   "source": []
  },
  {
   "cell_type": "markdown",
   "id": "5462e11a-93ec-49e0-8caa-fcf0a34ea0d8",
   "metadata": {},
   "source": [
    "## Feature Engineering (Master Data)"
   ]
  },
  {
   "cell_type": "code",
   "execution_count": 13,
   "id": "9985b487-d33a-4fca-8308-ccb2b550881c",
   "metadata": {},
   "outputs": [],
   "source": [
    "master_data[\"MAP\"] = (2*master_data[\"DBP\"] + master_data[\"SBP\"]) / 3"
   ]
  },
  {
   "cell_type": "code",
   "execution_count": 14,
   "id": "8263f352-1f8d-49b8-b5c1-ecb4bd7463b0",
   "metadata": {},
   "outputs": [],
   "source": [
    "master_data['Glucose_Change'] = master_data['FFPG'] - master_data['FPG']"
   ]
  },
  {
   "cell_type": "code",
   "execution_count": 15,
   "id": "d6a15ab4-762d-4fef-86e4-94c1aa8b7094",
   "metadata": {},
   "outputs": [],
   "source": [
    "master_data['Chol_HDL_Ratio'] = master_data['Chol'] / master_data['HDL']"
   ]
  },
  {
   "cell_type": "code",
   "execution_count": 16,
   "id": "61c1dc35-86e9-4df9-bff8-ec1458f66222",
   "metadata": {},
   "outputs": [],
   "source": [
    "master_data['LDL_HDL_Ratio'] = master_data['LDL'] / master_data['HDL']"
   ]
  },
  {
   "cell_type": "code",
   "execution_count": 17,
   "id": "57b8d340-e0cb-4157-b2ff-728a8da3ea90",
   "metadata": {},
   "outputs": [],
   "source": [
    "master_data['BUN_CCR_Ratio'] = master_data['BUN'] / master_data['CCR']"
   ]
  },
  {
   "cell_type": "code",
   "execution_count": 18,
   "id": "bb9482be-9489-4f17-a321-946529f81216",
   "metadata": {},
   "outputs": [],
   "source": [
    "master_data['BMI_Age'] = master_data['BMI'] * master_data['Age']"
   ]
  },
  {
   "cell_type": "code",
   "execution_count": 19,
   "id": "98bf0d66-430c-4656-a3e6-cddcc74e42d5",
   "metadata": {},
   "outputs": [],
   "source": [
    "master_data['FPG_BMI'] = master_data['FPG'] * master_data['BMI']"
   ]
  },
  {
   "cell_type": "code",
   "execution_count": 20,
   "id": "9300a032-ce05-4c3f-8b85-d9d4a9b3302d",
   "metadata": {},
   "outputs": [],
   "source": [
    "master_data['Tri_HDL_Ratio'] = master_data['Tri'] / master_data['HDL']"
   ]
  },
  {
   "cell_type": "code",
   "execution_count": 21,
   "id": "f75859ea-a254-4746-bd0b-af79204a659b",
   "metadata": {},
   "outputs": [],
   "source": [
    "master_data['ALT_per_BMI'] = master_data['ALT'] / master_data['BMI']"
   ]
  },
  {
   "cell_type": "code",
   "execution_count": 22,
   "id": "fb3ec7c8-e9e2-496b-86fa-f537a77b657c",
   "metadata": {},
   "outputs": [],
   "source": [
    "master_data[\"Non_HDL\"] = master_data[\"Chol\"] - master_data[\"HDL\"]"
   ]
  },
  {
   "cell_type": "code",
   "execution_count": 23,
   "id": "1a9978ae-4c56-4173-be49-b331706e6f13",
   "metadata": {},
   "outputs": [],
   "source": [
    "master_data[\"Pulse_Pressure\"] = master_data[\"SBP\"] - master_data[\"DBP\"]"
   ]
  },
  {
   "cell_type": "code",
   "execution_count": 24,
   "id": "0a8cf464-44a4-4fea-8a60-a42fe6d377f7",
   "metadata": {},
   "outputs": [],
   "source": [
    "master_data[\"Obesity_Class\"] = pd.cut(master_data[\"BMI\"], [0,25,30,35,40,np.inf], labels=[0,1,2,3,4])"
   ]
  },
  {
   "cell_type": "code",
   "execution_count": 25,
   "id": "c666d271-fdf5-40b2-a359-a10ecd87c329",
   "metadata": {},
   "outputs": [],
   "source": [
    "master_data[\"TG_HDL_Obesity\"] = master_data[\"Tri_HDL_Ratio\"] * master_data[\"BMI\"]"
   ]
  },
  {
   "cell_type": "code",
   "execution_count": 26,
   "id": "2de5d8ed-ae7d-4198-8e6e-cafaba730d13",
   "metadata": {},
   "outputs": [],
   "source": [
    "master_data[\"ALT_to_CCR\"] = master_data[\"ALT\"] / master_data[\"CCR\"]"
   ]
  },
  {
   "cell_type": "code",
   "execution_count": 27,
   "id": "30a21a20-3331-4b44-bb80-cdefd58a11c0",
   "metadata": {},
   "outputs": [],
   "source": [
    "master_data[\"Impaired_FPG_Flag\"] = (master_data[\"FPG\"] >= 5.6) & (master_data[\"FPG\"] < 7)"
   ]
  },
  {
   "cell_type": "code",
   "execution_count": null,
   "id": "e842a154-e2c5-4f29-bf4c-984552a5c610",
   "metadata": {},
   "outputs": [],
   "source": []
  },
  {
   "cell_type": "markdown",
   "id": "16b04556-9d23-4eeb-96fc-4d3b39dfd62d",
   "metadata": {},
   "source": [
    "## Split Data (Master Data)"
   ]
  },
  {
   "cell_type": "code",
   "execution_count": 28,
   "id": "18a06870-c1fb-4496-a621-e97747233a99",
   "metadata": {},
   "outputs": [],
   "source": [
    "X = master_data.drop('Diabetes', axis=1)\n",
    "y = master_data['Diabetes']\n",
    "\n",
    "X_train, X_test, y_train, y_test = train_test_split(\n",
    "    X, y,\n",
    "    test_size=0.2,\n",
    "    stratify=y,       # ensures class balance in train/test\n",
    "    random_state=42\n",
    ")"
   ]
  },
  {
   "cell_type": "code",
   "execution_count": null,
   "id": "cfb3a08d-1579-443f-992d-13c88c059242",
   "metadata": {},
   "outputs": [],
   "source": []
  },
  {
   "cell_type": "markdown",
   "id": "62eb654d-4a00-48d0-a0f7-a7ee852e1cd5",
   "metadata": {},
   "source": [
    "## Handle Class Imbalance (Training Data)"
   ]
  },
  {
   "cell_type": "code",
   "execution_count": 29,
   "id": "9faf2cc4-5118-4109-a532-5b16f36a87b4",
   "metadata": {},
   "outputs": [
    {
     "name": "stdout",
     "output_type": "stream",
     "text": [
      "Class Counts:\n",
      "Diabetes\n",
      "0    2998\n",
      "1    1301\n",
      "Name: count, dtype: int64\n",
      "\n",
      "Class Percentages:\n",
      "Diabetes\n",
      "0    69.737148\n",
      "1    30.262852\n",
      "Name: proportion, dtype: float64\n"
     ]
    }
   ],
   "source": [
    "# Check counts and percentage of each class\n",
    "class_counts = master_data['Diabetes'].value_counts()\n",
    "class_percent = master_data['Diabetes'].value_counts(normalize=True) * 100\n",
    "\n",
    "print(\"Class Counts:\")\n",
    "print(class_counts)\n",
    "\n",
    "print(\"\\nClass Percentages:\")\n",
    "print(class_percent)"
   ]
  },
  {
   "cell_type": "code",
   "execution_count": 30,
   "id": "7403ce9b-214c-4750-9599-6b9d75cea219",
   "metadata": {},
   "outputs": [
    {
     "name": "stdout",
     "output_type": "stream",
     "text": [
      "Class distribution:\n",
      "Diabetes\n",
      "0    2398\n",
      "1    1041\n",
      "Name: count, dtype: int64\n",
      "\n",
      "Class percentage:\n",
      "Diabetes\n",
      "0    69.729573\n",
      "1    30.270427\n",
      "Name: proportion, dtype: float64\n"
     ]
    }
   ],
   "source": [
    "# Check class distribution\n",
    "class_counts = y_train.value_counts()\n",
    "print(\"Class distribution:\")\n",
    "print(class_counts)\n",
    "\n",
    "# Calculate percentage\n",
    "class_percentages = y_train.value_counts(normalize=True) * 100\n",
    "print(\"\\nClass percentage:\")\n",
    "print(class_percentages)"
   ]
  },
  {
   "cell_type": "code",
   "execution_count": 31,
   "id": "0e454475-78a2-4d52-a52f-55dc88c80a10",
   "metadata": {},
   "outputs": [],
   "source": [
    "# Convert categorical features to 'category' dtype\n",
    "X_train[\"Impaired_FPG_Flag\"] = X_train[\"Impaired_FPG_Flag\"].astype(int).astype(\"category\")\n",
    "categorical_cols = [\"Gender\", \"smoking\", \"drinking\", \"family_history\", \"Obesity_Class\"]\n",
    "X_train[categorical_cols] = X_train[categorical_cols].astype(\"category\")\n",
    "categorical_cols.append(\"Impaired_FPG_Flag\")\n",
    "\n",
    "# Get column indices of categorical features (needed for SMOTENC)\n",
    "categorical_indices = [X_train.columns.get_loc(col) for col in categorical_cols]\n",
    "\n",
    "# Initialize SMOTENC\n",
    "smote_nc = SMOTENC(categorical_features=categorical_indices, random_state=42)\n",
    "\n",
    "# Apply SMOTENC to training data\n",
    "X_resampled, y_resampled = smote_nc.fit_resample(X_train, y_train)"
   ]
  },
  {
   "cell_type": "code",
   "execution_count": null,
   "id": "264818c9-d214-41e8-bc55-774a51ca0134",
   "metadata": {},
   "outputs": [],
   "source": []
  },
  {
   "cell_type": "code",
   "execution_count": 32,
   "id": "00dca0e2-5424-4e34-b822-6bbd2e91658e",
   "metadata": {},
   "outputs": [],
   "source": [
    "# Prepare data\n",
    "for model in ['logistic', 'knn', 'svm', 'neural', 'decisiontree', 'randomforest', 'xgboost', 'lightgbm']:\n",
    "    globals()[f\"{model}_X_train\"] = X_resampled.copy()\n",
    "    globals()[f\"{model}_X_test\"] = X_test.copy()\n",
    "    globals()[f\"{model}_y_train\"] = y_resampled.copy()\n",
    "    globals()[f\"{model}_y_test\"] = y_test.copy()"
   ]
  },
  {
   "cell_type": "markdown",
   "id": "80928a1e-e0ad-4e7f-b0e8-63f89ed83db4",
   "metadata": {},
   "source": [
    "## Encode Categorical Features (Master Data)"
   ]
  },
  {
   "cell_type": "code",
   "execution_count": 33,
   "id": "df78a820-adfa-4dc5-b230-e7041b7f4233",
   "metadata": {},
   "outputs": [],
   "source": [
    "# One-hot encode all categorical features\n",
    "logistic_X_train = pd.get_dummies(logistic_X_train, columns=['Gender', 'smoking', 'drinking', 'family_history', 'Obesity_Class', 'Impaired_FPG_Flag'], drop_first=True)\n",
    "logistic_X_test = pd.get_dummies(logistic_X_test, columns=['Gender', 'smoking', 'drinking', 'family_history', 'Obesity_Class', 'Impaired_FPG_Flag'], drop_first=True)\n",
    "svm_X_train = pd.get_dummies(svm_X_train, columns=['Gender', 'smoking', 'drinking', 'family_history', 'Obesity_Class', 'Impaired_FPG_Flag'], drop_first=True)\n",
    "svm_X_test = pd.get_dummies(svm_X_test, columns=['Gender', 'smoking', 'drinking', 'family_history', 'Obesity_Class', 'Impaired_FPG_Flag'], drop_first=True)\n",
    "knn_X_train = pd.get_dummies(knn_X_train, columns=['Gender', 'smoking', 'drinking', 'family_history', 'Obesity_Class', 'Impaired_FPG_Flag'], drop_first=True)\n",
    "knn_X_test = pd.get_dummies(knn_X_test, columns=['Gender', 'smoking', 'drinking', 'family_history', 'Obesity_Class', 'Impaired_FPG_Flag'], drop_first=True)\n",
    "neural_X_train = pd.get_dummies(neural_X_train, columns=['Gender', 'smoking', 'drinking', 'family_history', 'Obesity_Class', 'Impaired_FPG_Flag'], drop_first=True)\n",
    "neural_X_test = pd.get_dummies(neural_X_test, columns=['Gender', 'smoking', 'drinking', 'family_history', 'Obesity_Class', 'Impaired_FPG_Flag'], drop_first=True)"
   ]
  },
  {
   "cell_type": "markdown",
   "id": "498b206c-3e62-41e9-b084-2a1be4d6633f",
   "metadata": {},
   "source": [
    "## Scale/Standardize Numeric Features (fit_transform on train, transform on test)"
   ]
  },
  {
   "cell_type": "markdown",
   "id": "db46200a-4c1c-4590-b039-7a24c60a95f9",
   "metadata": {},
   "source": [
    "### Visualize outliers"
   ]
  },
  {
   "cell_type": "code",
   "execution_count": 34,
   "id": "9e09ee7e-776c-43ac-b644-50aa7da94d50",
   "metadata": {},
   "outputs": [
    {
     "data": {
      "image/png": "[encoded data removed]",
      "text/plain": [
       "<Figure size 500x150 with 1 Axes>"
      ]
     },
     "metadata": {},
     "output_type": "display_data"
    },
    {
     "data": {
      "image/png": "[encoded data removed]",
      "text/plain": [
       "<Figure size 500x150 with 1 Axes>"
      ]
     },
     "metadata": {},
     "output_type": "display_data"
    },
    {
     "data": {
      "image/png": "[encoded data removed]",
      "text/plain": [
       "<Figure size 500x150 with 1 Axes>"
      ]
     },
     "metadata": {},
     "output_type": "display_data"
    },
    {
     "data": {
      "image/png": "[encoded data removed]",
      "text/plain": [
       "<Figure size 500x150 with 1 Axes>"
      ]
     },
     "metadata": {},
     "output_type": "display_data"
    },
    {
     "data": {
      "image/png": "[encoded data removed]",
      "text/plain": [
       "<Figure size 500x150 with 1 Axes>"
      ]
     },
     "metadata": {},
     "output_type": "display_data"
    },
    {
     "data": {
      "image/png": "[encoded data removed]",
      "text/plain": [
       "<Figure size 500x150 with 1 Axes>"
      ]
     },
     "metadata": {},
     "output_type": "display_data"
    },
    {
     "data": {
      "image/png": "[encoded data removed]",
      "text/plain": [
       "<Figure size 500x150 with 1 Axes>"
      ]
     },
     "metadata": {},
     "output_type": "display_data"
    },
    {
     "data": {
      "image/png": "[encoded data removed]",
      "text/plain": [
       "<Figure size 500x150 with 1 Axes>"
      ]
     },
     "metadata": {},
     "output_type": "display_data"
    },
    {
     "data": {
      "image/png": "[encoded data removed]",
      "text/plain": [
       "<Figure size 500x150 with 1 Axes>"
      ]
     },
     "metadata": {},
     "output_type": "display_data"
    },
    {
     "data": {
      "image/png": "[encoded data removed]",
      "text/plain": [
       "<Figure size 500x150 with 1 Axes>"
      ]
     },
     "metadata": {},
     "output_type": "display_data"
    },
    {
     "data": {
      "image/png": "[encoded data removed]",
      "text/plain": [
       "<Figure size 500x150 with 1 Axes>"
      ]
     },
     "metadata": {},
     "output_type": "display_data"
    },
    {
     "data": {
      "image/png": "[encoded data removed]",
      "text/plain": [
       "<Figure size 500x150 with 1 Axes>"
      ]
     },
     "metadata": {},
     "output_type": "display_data"
    },
    {
     "data": {
      "image/png": "[encoded data removed]",
      "text/plain": [
       "<Figure size 500x150 with 1 Axes>"
      ]
     },
     "metadata": {},
     "output_type": "display_data"
    },
    {
     "data": {
      "image/png": "[encoded data removed]",
      "text/plain": [
       "<Figure size 500x150 with 1 Axes>"
      ]
     },
     "metadata": {},
     "output_type": "display_data"
    },
    {
     "data": {
      "image/png": "[encoded data removed]",
      "text/plain": [
       "<Figure size 500x150 with 1 Axes>"
      ]
     },
     "metadata": {},
     "output_type": "display_data"
    },
    {
     "data": {
      "image/png": "[encoded data removed]",
      "text/plain": [
       "<Figure size 500x150 with 1 Axes>"
      ]
     },
     "metadata": {},
     "output_type": "display_data"
    },
    {
     "data": {
      "image/png": "[encoded data removed]",
      "text/plain": [
       "<Figure size 500x150 with 1 Axes>"
      ]
     },
     "metadata": {},
     "output_type": "display_data"
    },
    {
     "data": {
      "image/png": "[encoded data removed]",
      "text/plain": [
       "<Figure size 500x150 with 1 Axes>"
      ]
     },
     "metadata": {},
     "output_type": "display_data"
    },
    {
     "data": {
      "image/png": "[encoded data removed]",
      "text/plain": [
       "<Figure size 500x150 with 1 Axes>"
      ]
     },
     "metadata": {},
     "output_type": "display_data"
    },
    {
     "data": {
      "image/png": "[encoded data removed]",
      "text/plain": [
       "<Figure size 500x150 with 1 Axes>"
      ]
     },
     "metadata": {},
     "output_type": "display_data"
    },
    {
     "data": {
      "image/png": "[encoded data removed]",
      "text/plain": [
       "<Figure size 500x150 with 1 Axes>"
      ]
     },
     "metadata": {},
     "output_type": "display_data"
    },
    {
     "data": {
      "image/png": "[encoded data removed]",
      "text/plain": [
       "<Figure size 500x150 with 1 Axes>"
      ]
     },
     "metadata": {},
     "output_type": "display_data"
    },
    {
     "data": {
      "image/png": "[encoded data removed]",
      "text/plain": [
       "<Figure size 500x150 with 1 Axes>"
      ]
     },
     "metadata": {},
     "output_type": "display_data"
    },
    {
     "data": {
      "image/png": "[encoded data removed]",
      "text/plain": [
       "<Figure size 500x150 with 1 Axes>"
      ]
     },
     "metadata": {},
     "output_type": "display_data"
    },
    {
     "data": {
      "image/png": "[encoded data removed]",
      "text/plain": [
       "<Figure size 500x150 with 1 Axes>"
      ]
     },
     "metadata": {},
     "output_type": "display_data"
    },
    {
     "data": {
      "image/png": "[encoded data removed]",
      "text/plain": [
       "<Figure size 500x150 with 1 Axes>"
      ]
     },
     "metadata": {},
     "output_type": "display_data"
    }
   ],
   "source": [
    "features = ['Age', 'BMI', 'SBP', 'DBP', 'FPG', 'Chol', 'Tri', 'HDL', 'LDL', 'ALT', 'BUN', 'CCR', 'FFPG', 'MAP', 'Glucose_Change', 'Chol_HDL_Ratio', 'LDL_HDL_Ratio',\n",
    "            'BUN_CCR_Ratio', 'BMI_Age', 'FPG_BMI', 'Tri_HDL_Ratio', 'ALT_per_BMI', 'Non_HDL', 'Pulse_Pressure', 'TG_HDL_Obesity', 'ALT_to_CCR']\n",
    "\n",
    "for col in features:\n",
    "    plt.figure(figsize=(5, 1.5))\n",
    "    sns.boxplot(x=master_data[col])\n",
    "    plt.title(col)\n",
    "    plt.show()"
   ]
  },
  {
   "cell_type": "markdown",
   "id": "f8065d3e-a4c2-4ae4-88d7-2daff0e5b24a",
   "metadata": {},
   "source": [
    "When handling outliers, if the models are tree-based models, we don't remove the outliers because these models are robust to outliers. However, if we build scale-sensitive models such as Logistic Regression and SVM, we have to scale the feature"
   ]
  },
  {
   "cell_type": "code",
   "execution_count": 35,
   "id": "6825d430-9e04-454e-8e45-73a571bd4006",
   "metadata": {},
   "outputs": [],
   "source": [
    "# Handling outliers for BMI, SBP, DBP, Chol, Tri, HDL, LDL, ALT, BUN, CCR, FFPG, MAP, Glucose_Change, Chol_HDL_Ratio, LDL_HDL_Ratio, BUN_CCR_Ratio, BMI_Age, FPG_BMI,\n",
    "# Tri_HDL_Ratio, ALT_per_BMI, Non_HDL, Pulse_Pressure, TG_HDL_Obesity, ALT_to_CCR,\n",
    "# Use RobustScaler\n",
    "\n",
    "# List of columns to scale\n",
    "columns_to_scale = [\n",
    "    'Age','BMI', 'SBP', 'DBP', 'Chol', 'Tri', 'HDL', 'LDL', 'ALT', 'BUN', 'CCR', 'FFPG', 'MAP',\n",
    "    'Glucose_Change', 'Chol_HDL_Ratio', 'LDL_HDL_Ratio', 'BUN_CCR_Ratio', 'BMI_Age',\n",
    "    'FPG_BMI', 'Tri_HDL_Ratio', 'ALT_per_BMI', 'Non_HDL', 'Pulse_Pressure',\n",
    "    'TG_HDL_Obesity', 'ALT_to_CCR'\n",
    "]\n",
    "\n",
    "# Logistic model\n",
    "scaler_logistic = RobustScaler()\n",
    "logistic_X_train[columns_to_scale] = scaler_logistic.fit_transform(logistic_X_train[columns_to_scale])\n",
    "logistic_X_test[columns_to_scale] = scaler_logistic.transform(logistic_X_test[columns_to_scale])\n",
    "\n",
    "# SVM model\n",
    "scaler_svm = RobustScaler()\n",
    "svm_X_train[columns_to_scale] = scaler_svm.fit_transform(svm_X_train[columns_to_scale])\n",
    "svm_X_test[columns_to_scale] = scaler_svm.transform(svm_X_test[columns_to_scale])\n",
    "\n",
    "# KNN model\n",
    "scaler_knn = RobustScaler()\n",
    "knn_X_train[columns_to_scale] = scaler_knn.fit_transform(knn_X_train[columns_to_scale])\n",
    "knn_X_test[columns_to_scale] = scaler_knn.transform(knn_X_test[columns_to_scale])\n",
    "\n",
    "# Neural network model\n",
    "scaler_neural = RobustScaler()\n",
    "neural_X_train[columns_to_scale] = scaler_neural.fit_transform(neural_X_train[columns_to_scale])\n",
    "neural_X_test[columns_to_scale] = scaler_neural.transform(neural_X_test[columns_to_scale])"
   ]
  },
  {
   "cell_type": "code",
   "execution_count": 36,
   "id": "68e49780-db04-4390-b77b-aa098ebbbf25",
   "metadata": {},
   "outputs": [],
   "source": [
    "# Handling outliers for FPG\n",
    "# Use StandardScaler\n",
    "\n",
    "# List of columns to scale\n",
    "columns_to_scale = ['FPG']\n",
    "\n",
    "# Logistic model\n",
    "scaler_logistic = StandardScaler()\n",
    "logistic_X_train[columns_to_scale] = scaler_logistic.fit_transform(logistic_X_train[columns_to_scale])\n",
    "logistic_X_test[columns_to_scale] = scaler_logistic.transform(logistic_X_test[columns_to_scale])\n",
    "\n",
    "# SVM model\n",
    "scaler_svm = StandardScaler()\n",
    "svm_X_train[columns_to_scale] = scaler_svm.fit_transform(svm_X_train[columns_to_scale])\n",
    "svm_X_test[columns_to_scale] = scaler_svm.transform(svm_X_test[columns_to_scale])\n",
    "\n",
    "# KNN model\n",
    "scaler_knn = StandardScaler()\n",
    "knn_X_train[columns_to_scale] = scaler_knn.fit_transform(knn_X_train[columns_to_scale])\n",
    "knn_X_test[columns_to_scale] = scaler_knn.transform(knn_X_test[columns_to_scale])\n",
    "\n",
    "# Neural network model\n",
    "scaler_neural = StandardScaler()\n",
    "neural_X_train[columns_to_scale] = scaler_neural.fit_transform(neural_X_train[columns_to_scale])\n",
    "neural_X_test[columns_to_scale] = scaler_neural.transform(neural_X_test[columns_to_scale])"
   ]
  },
  {
   "cell_type": "code",
   "execution_count": 37,
   "id": "c9a99d1c-ef96-4174-b51c-ab16da48df92",
   "metadata": {},
   "outputs": [],
   "source": [
    "decisiontree_X_train['Obesity_Class'] = decisiontree_X_train['Obesity_Class'].astype(int)\n",
    "decisiontree_X_test['Obesity_Class'] = decisiontree_X_test['Obesity_Class'].astype(int)\n",
    "randomforest_X_train['Obesity_Class'] = randomforest_X_train['Obesity_Class'].astype(int)\n",
    "randomforest_X_test['Obesity_Class'] = randomforest_X_test['Obesity_Class'].astype(int)\n",
    "xgboost_X_train['Obesity_Class'] = xgboost_X_train['Obesity_Class'].astype(int)\n",
    "xgboost_X_test['Obesity_Class'] = xgboost_X_test['Obesity_Class'].astype(int)\n",
    "lightgbm_X_train['Obesity_Class'] = lightgbm_X_train['Obesity_Class'].astype(int)\n",
    "lightgbm_X_test['Obesity_Class'] = lightgbm_X_test['Obesity_Class'].astype(int)"
   ]
  },
  {
   "cell_type": "code",
   "execution_count": 38,
   "id": "57b1be48-20d2-4438-809d-4b3d2089460b",
   "metadata": {},
   "outputs": [],
   "source": [
    "logistic_X_test = logistic_X_test.rename(columns={'Impaired_FPG_Flag_True': 'Impaired_FPG_Flag_1'})\n",
    "svm_X_test = svm_X_test.rename(columns={'Impaired_FPG_Flag_True': 'Impaired_FPG_Flag_1'})\n",
    "knn_X_test = knn_X_test.rename(columns={'Impaired_FPG_Flag_True': 'Impaired_FPG_Flag_1'})\n",
    "neural_X_test = neural_X_test.rename(columns={'Impaired_FPG_Flag_True': 'Impaired_FPG_Flag_1'})"
   ]
  },
  {
   "cell_type": "code",
   "execution_count": null,
   "id": "d3cca26e-a3a5-4c9e-b2c1-9e4b86bb6c7a",
   "metadata": {},
   "outputs": [],
   "source": []
  },
  {
   "cell_type": "markdown",
   "id": "00db810e-3e0b-4297-8bec-9b855cfa49df",
   "metadata": {},
   "source": [
    "## Baseline Models"
   ]
  },
  {
   "cell_type": "code",
   "execution_count": 39,
   "id": "1f32efb5-817e-4de2-8096-390941935674",
   "metadata": {},
   "outputs": [
    {
     "name": "stdout",
     "output_type": "stream",
     "text": [
      "                   Model  Accuracy  Precision    Recall  F1 Score   ROC AUC\n",
      "0    Logistic Regression  0.896512   0.810909  0.857692  0.833645  0.935500\n",
      "1          Decision Tree  0.881395   0.786232  0.834615  0.809701  0.907946\n",
      "2  Dummy (Most Frequent)  0.697674   0.000000  0.000000  0.000000  0.500000\n"
     ]
    }
   ],
   "source": [
    "# Initialize models\n",
    "models = {\n",
    "    \"Logistic Regression\": LogisticRegression(max_iter=1000, random_state=42),\n",
    "    \"Decision Tree\": DecisionTreeClassifier(max_depth=3, random_state=42),\n",
    "    \"Dummy (Most Frequent)\": DummyClassifier(strategy=\"most_frequent\", random_state=42)\n",
    "}\n",
    "\n",
    "# Fit models and evaluate\n",
    "results = []\n",
    "\n",
    "for name, model in models.items():\n",
    "    if name == \"Logistic Regression\":\n",
    "        model.fit(logistic_X_train, logistic_y_train)\n",
    "        y_pred = model.predict(logistic_X_test)\n",
    "        y_prob = model.predict_proba(logistic_X_test)[:, 1]\n",
    "    else:\n",
    "        model.fit(decisiontree_X_train, decisiontree_y_train)\n",
    "        y_pred = model.predict(decisiontree_X_test)\n",
    "        y_prob = model.predict_proba(decisiontree_X_test)[:, 1] if hasattr(model, \"predict_proba\") else [0] * len(y_pred)\n",
    "    \n",
    "    results.append({\n",
    "        \"Model\": name,\n",
    "        \"Accuracy\": accuracy_score(logistic_y_test, y_pred),\n",
    "        \"Precision\": precision_score(logistic_y_test, y_pred, zero_division=0),\n",
    "        \"Recall\": recall_score(logistic_y_test, y_pred, zero_division=0),\n",
    "        \"F1 Score\": f1_score(logistic_y_test, y_pred, zero_division=0),\n",
    "        \"ROC AUC\": roc_auc_score(logistic_y_test, y_prob)\n",
    "    })\n",
    "\n",
    "# ---------- Display results ----------\n",
    "results_df = pd.DataFrame(results)\n",
    "print(results_df)"
   ]
  },
  {
   "cell_type": "markdown",
   "id": "e53cce09-5a20-4a12-8803-d90997aeac40",
   "metadata": {},
   "source": [
    "## Feature Selection (Training Data)"
   ]
  },
  {
   "cell_type": "markdown",
   "id": "834fe57f-9dc8-433c-afd1-7bdd895634ef",
   "metadata": {},
   "source": [
    "### Logistic Regression"
   ]
  },
  {
   "cell_type": "markdown",
   "id": "6a3b74c4-be84-483e-be84-3083f6d7c968",
   "metadata": {},
   "source": [
    "#### SelectKBest"
   ]
  },
  {
   "cell_type": "code",
   "execution_count": 40,
   "id": "56f287bf-c61b-4818-99a8-e7235c57f409",
   "metadata": {},
   "outputs": [
    {
     "name": "stdout",
     "output_type": "stream",
     "text": [
      "Selected features:\n",
      " ['Age', 'BMI', 'SBP', 'DBP', 'FPG', 'BUN', 'FFPG', 'MAP', 'Glucose_Change', 'BUN_CCR_Ratio', 'BMI_Age', 'FPG_BMI', 'Non_HDL', 'Pulse_Pressure', 'TG_HDL_Obesity', 'smoking_3', 'drinking_2', 'drinking_3', 'Obesity_Class_1', 'Impaired_FPG_Flag_1']\n",
      "\n",
      "Model Performance (Logistic Regression with SelectKBest k=20):\n",
      "  Recall  Accuracy  Precision  F1 Score  ROC AUC\n",
      "0.853846  0.895349   0.810219  0.831461 0.935577\n"
     ]
    }
   ],
   "source": [
    "# Step 1: Feature Selection (k = 20)\n",
    "logistic_k = 20\n",
    "logistic_selector = SelectKBest(score_func=f_classif, k=logistic_k)\n",
    "logistic_X_train_selected = logistic_selector.fit_transform(logistic_X_train, logistic_y_train)\n",
    "logistic_X_test_selected = logistic_selector.transform(logistic_X_test)\n",
    "\n",
    "# Optional: Feature names\n",
    "logistic_selected_features = logistic_X_train.columns[logistic_selector.get_support()]\n",
    "print(\"Selected features:\\n\", logistic_selected_features.tolist())\n",
    "\n",
    "# Step 2: Model Training\n",
    "logistic_model = LogisticRegression(max_iter=1000)\n",
    "logistic_model.fit(logistic_X_train_selected, logistic_y_train)\n",
    "\n",
    "# Step 3: Prediction\n",
    "logistic_y_pred = logistic_model.predict(logistic_X_test_selected)\n",
    "logistic_y_proba = logistic_model.predict_proba(logistic_X_test_selected)[:, 1]\n",
    "\n",
    "# Step 4: Evaluation Metrics\n",
    "logistic_metrics = {\n",
    "    \"Recall\": recall_score(logistic_y_test, logistic_y_pred),\n",
    "    \"Accuracy\": accuracy_score(logistic_y_test, logistic_y_pred),\n",
    "    \"Precision\": precision_score(logistic_y_test, logistic_y_pred),\n",
    "    \"F1 Score\": f1_score(logistic_y_test, logistic_y_pred),\n",
    "    \"ROC AUC\": roc_auc_score(logistic_y_test, logistic_y_proba)\n",
    "}\n",
    "\n",
    "# Display metrics in a table\n",
    "logistic_results_df = pd.DataFrame([logistic_metrics])\n",
    "print(\"\\nModel Performance (Logistic Regression with SelectKBest k=20):\")\n",
    "print(logistic_results_df.to_string(index=False))"
   ]
  },
  {
   "cell_type": "markdown",
   "id": "c8b18df4-3dc0-486f-a94f-1bdcf6bc4c3c",
   "metadata": {},
   "source": [
    "#### Variance Threshold"
   ]
  },
  {
   "cell_type": "code",
   "execution_count": 41,
   "id": "45a1b444-81ca-41e0-99c7-f5c90bdbab74",
   "metadata": {},
   "outputs": [
    {
     "name": "stdout",
     "output_type": "stream",
     "text": [
      "Selected features:\n",
      " ['Age', 'BMI', 'SBP', 'DBP', 'FPG', 'Chol', 'Tri', 'HDL', 'LDL', 'ALT', 'BUN', 'CCR', 'FFPG', 'MAP', 'Glucose_Change', 'Chol_HDL_Ratio', 'LDL_HDL_Ratio', 'BUN_CCR_Ratio', 'BMI_Age', 'FPG_BMI', 'Tri_HDL_Ratio', 'ALT_per_BMI', 'Non_HDL', 'Pulse_Pressure', 'TG_HDL_Obesity', 'ALT_to_CCR', 'Gender_2', 'smoking_3', 'drinking_2', 'drinking_3', 'Obesity_Class_1', 'Impaired_FPG_Flag_1']\n",
      "\n",
      "Model Performance (Logistic Regression with Variance Threshold):\n",
      "  Recall  Accuracy  Precision  F1 Score  ROC AUC\n",
      "0.857692  0.896512   0.810909  0.833645 0.935397\n"
     ]
    }
   ],
   "source": [
    "# Step 1: Apply Variance Threshold\n",
    "# You can adjust threshold (e.g., 0.01 or 0.05); here we use a low threshold to remove near-constant features\n",
    "logistic_variance_threshold = 0.05\n",
    "logistic_selector = VarianceThreshold(threshold=logistic_variance_threshold)\n",
    "logistic_X_train_selected = logistic_selector.fit_transform(logistic_X_train)\n",
    "logistic_X_test_selected = logistic_selector.transform(logistic_X_test)\n",
    "\n",
    "# Optional: Get selected feature names\n",
    "logistic_selected_features = logistic_X_train.columns[logistic_selector.get_support()]\n",
    "print(\"Selected features:\\n\", logistic_selected_features.tolist())\n",
    "\n",
    "# Step 2: Train Logistic Regression model\n",
    "logistic_model = LogisticRegression(max_iter=1000)\n",
    "logistic_model.fit(logistic_X_train_selected, logistic_y_train)\n",
    "\n",
    "# Step 3: Prediction\n",
    "logistic_y_pred = logistic_model.predict(logistic_X_test_selected)\n",
    "logistic_y_proba = logistic_model.predict_proba(logistic_X_test_selected)[:, 1]\n",
    "\n",
    "# Step 4: Evaluate\n",
    "logistic_metrics = {\n",
    "    \"Recall\": recall_score(logistic_y_test, logistic_y_pred),\n",
    "    \"Accuracy\": accuracy_score(logistic_y_test, logistic_y_pred),\n",
    "    \"Precision\": precision_score(logistic_y_test, logistic_y_pred),\n",
    "    \"F1 Score\": f1_score(logistic_y_test, logistic_y_pred),\n",
    "    \"ROC AUC\": roc_auc_score(logistic_y_test, logistic_y_proba)\n",
    "}\n",
    "\n",
    "# Step 5: Display results in a table\n",
    "logistic_results_df = pd.DataFrame([logistic_metrics])\n",
    "print(\"\\nModel Performance (Logistic Regression with Variance Threshold):\")\n",
    "print(logistic_results_df.to_string(index=False))"
   ]
  },
  {
   "cell_type": "markdown",
   "id": "c9c16c24-e642-4163-849e-b9c86778f986",
   "metadata": {},
   "source": [
    "#### Correlation Filter"
   ]
  },
  {
   "cell_type": "code",
   "execution_count": 42,
   "id": "d3e06adf-52c1-438c-8b5a-92f16116a79b",
   "metadata": {},
   "outputs": [
    {
     "name": "stdout",
     "output_type": "stream",
     "text": [
      "Features dropped due to correlation > 0.9:\n",
      " ['MAP', 'LDL_HDL_Ratio', 'BMI_Age', 'Tri_HDL_Ratio', 'ALT_per_BMI', 'Non_HDL', 'TG_HDL_Obesity', 'ALT_to_CCR', 'drinking_3']\n",
      "\n",
      "Model Performance (Logistic Regression with Correlation Filter):\n",
      "  Recall  Accuracy  Precision  F1 Score  ROC AUC\n",
      "0.857692  0.893023   0.802158  0.828996  0.93391\n"
     ]
    }
   ],
   "source": [
    "# Step 1: Compute correlation matrix on training data\n",
    "logistic_corr_matrix = logistic_X_train.corr().abs()\n",
    "\n",
    "# Step 2: Upper triangle of correlation matrix\n",
    "logistic_upper = logistic_corr_matrix.where(np.triu(np.ones(logistic_corr_matrix.shape), k=1).astype(bool))\n",
    "\n",
    "# Step 3: Identify features to drop (correlation > threshold)\n",
    "logistic_corr_threshold = 0.9\n",
    "logistic_to_drop = [column for column in logistic_upper.columns if any(logistic_upper[column] > logistic_corr_threshold)]\n",
    "print(f\"Features dropped due to correlation > {logistic_corr_threshold}:\\n\", logistic_to_drop)\n",
    "\n",
    "# Step 4: Drop highly correlated features\n",
    "logistic_X_train_selected = logistic_X_train.drop(columns=logistic_to_drop)\n",
    "logistic_X_test_selected = logistic_X_test.drop(columns=logistic_to_drop)\n",
    "\n",
    "# Step 5: Train logistic regression\n",
    "logistic_model = LogisticRegression(max_iter=1000)\n",
    "logistic_model.fit(logistic_X_train_selected, logistic_y_train)\n",
    "\n",
    "# Step 6: Prediction\n",
    "logistic_y_pred = logistic_model.predict(logistic_X_test_selected)\n",
    "logistic_y_proba = logistic_model.predict_proba(logistic_X_test_selected)[:, 1]\n",
    "\n",
    "# Step 7: Evaluation metrics\n",
    "logistic_metrics = {\n",
    "    \"Recall\": recall_score(logistic_y_test, logistic_y_pred),\n",
    "    \"Accuracy\": accuracy_score(logistic_y_test, logistic_y_pred),\n",
    "    \"Precision\": precision_score(logistic_y_test, logistic_y_pred),\n",
    "    \"F1 Score\": f1_score(logistic_y_test, logistic_y_pred),\n",
    "    \"ROC AUC\": roc_auc_score(logistic_y_test, logistic_y_proba)\n",
    "}\n",
    "\n",
    "# Step 8: Display results in a table\n",
    "logistic_results_df = pd.DataFrame([logistic_metrics])\n",
    "print(\"\\nModel Performance (Logistic Regression with Correlation Filter):\")\n",
    "print(logistic_results_df.to_string(index=False))"
   ]
  },
  {
   "cell_type": "markdown",
   "id": "4c0ea582-18ec-4eed-814a-e2f1b541e5f6",
   "metadata": {},
   "source": [
    "#### Recursive Feature Elimination (RFE)"
   ]
  },
  {
   "cell_type": "code",
   "execution_count": 43,
   "id": "71cf0f1a-f023-4951-85a7-8f81a42eb3ca",
   "metadata": {},
   "outputs": [
    {
     "name": "stdout",
     "output_type": "stream",
     "text": [
      "Selected features (RFE):\n",
      " ['Age', 'BMI', 'DBP', 'FPG', 'HDL', 'ALT', 'FFPG', 'MAP', 'Glucose_Change', 'Chol_HDL_Ratio', 'BMI_Age', 'FPG_BMI', 'ALT_per_BMI', 'Non_HDL', 'Pulse_Pressure', 'smoking_3', 'drinking_2', 'drinking_3', 'Obesity_Class_3', 'Impaired_FPG_Flag_1']\n",
      "\n",
      "Model Performance (Logistic Regression with RFE):\n",
      "  Recall  Accuracy  Precision  F1 Score  ROC AUC\n",
      "0.869231  0.896512    0.80427   0.83549 0.936487\n"
     ]
    }
   ],
   "source": [
    "# Step 1: Define model and number of features to select\n",
    "logistic_estimator = LogisticRegression(max_iter=1000)\n",
    "logistic_rfe_n_features = 20  # you can tune this value\n",
    "\n",
    "# Step 2: Apply RFE\n",
    "logistic_selector = RFE(estimator=logistic_estimator, n_features_to_select=logistic_rfe_n_features)\n",
    "logistic_selector.fit(logistic_X_train, logistic_y_train)\n",
    "\n",
    "# Step 3: Transform datasets\n",
    "logistic_X_train_selected = logistic_selector.transform(logistic_X_train)\n",
    "logistic_X_test_selected = logistic_selector.transform(logistic_X_test)\n",
    "\n",
    "# Optional: Feature names\n",
    "logistic_selected_features = logistic_X_train.columns[logistic_selector.support_]\n",
    "print(\"Selected features (RFE):\\n\", logistic_selected_features.tolist())\n",
    "\n",
    "# Step 4: Train model\n",
    "logistic_model = LogisticRegression(max_iter=1000)\n",
    "logistic_model.fit(logistic_X_train_selected, logistic_y_train)\n",
    "\n",
    "# Step 5: Predict\n",
    "logistic_y_pred = logistic_model.predict(logistic_X_test_selected)\n",
    "logistic_y_proba = logistic_model.predict_proba(logistic_X_test_selected)[:, 1]\n",
    "\n",
    "# Step 6: Evaluate\n",
    "logistic_metrics = {\n",
    "    \"Recall\": recall_score(logistic_y_test, logistic_y_pred),\n",
    "    \"Accuracy\": accuracy_score(logistic_y_test, logistic_y_pred),\n",
    "    \"Precision\": precision_score(logistic_y_test, logistic_y_pred),\n",
    "    \"F1 Score\": f1_score(logistic_y_test, logistic_y_pred),\n",
    "    \"ROC AUC\": roc_auc_score(logistic_y_test, logistic_y_proba)\n",
    "}\n",
    "\n",
    "# Step 7: Display results\n",
    "logistic_results_df = pd.DataFrame([logistic_metrics])\n",
    "print(\"\\nModel Performance (Logistic Regression with RFE):\")\n",
    "print(logistic_results_df.to_string(index=False))"
   ]
  },
  {
   "cell_type": "markdown",
   "id": "276bc991-6324-43ae-bf63-11631e70244a",
   "metadata": {},
   "source": [
    "#### Sequential Feature Selection (SFS)"
   ]
  },
  {
   "cell_type": "code",
   "execution_count": 44,
   "id": "240971c5-eae0-4349-9bd0-1dddedfee478",
   "metadata": {},
   "outputs": [
    {
     "name": "stdout",
     "output_type": "stream",
     "text": [
      "Selected features (SFS):\n",
      " ['Age', 'HDL', 'ALT', 'BUN', 'CCR', 'FFPG', 'Chol_HDL_Ratio', 'LDL_HDL_Ratio', 'FPG_BMI', 'Tri_HDL_Ratio', 'ALT_per_BMI', 'smoking_2', 'smoking_3', 'drinking_2', 'drinking_3', 'family_history_1', 'Obesity_Class_1', 'Obesity_Class_2', 'Obesity_Class_3', 'Obesity_Class_4']\n",
      "\n",
      "Model Performance (Logistic Regression with SFS):\n",
      "  Recall  Accuracy  Precision  F1 Score  ROC AUC\n",
      "0.853846  0.901163   0.825279  0.839319 0.934692\n"
     ]
    }
   ],
   "source": [
    "# Step 1: Define model and number of features to select\n",
    "logistic_estimator = LogisticRegression(max_iter=1000)\n",
    "logistic_sfs_n_features = 20  # You can adjust this\n",
    "\n",
    "# Step 2: Apply SFS (forward selection)\n",
    "logistic_selector = SequentialFeatureSelector(\n",
    "    estimator=logistic_estimator,\n",
    "    n_features_to_select=logistic_sfs_n_features,\n",
    "    direction='forward',\n",
    "    scoring='recall',\n",
    "    cv=5,\n",
    "    n_jobs=-1\n",
    ")\n",
    "logistic_selector.fit(logistic_X_train, logistic_y_train)\n",
    "\n",
    "# Step 3: Transform datasets\n",
    "logistic_X_train_selected = logistic_selector.transform(logistic_X_train)\n",
    "logistic_X_test_selected = logistic_selector.transform(logistic_X_test)\n",
    "\n",
    "# Optional: Feature names\n",
    "logistic_selected_features = logistic_X_train.columns[logistic_selector.get_support()]\n",
    "print(\"Selected features (SFS):\\n\", logistic_selected_features.tolist())\n",
    "\n",
    "# Step 4: Train logistic regression model\n",
    "logistic_model = LogisticRegression(max_iter=1000)\n",
    "logistic_model.fit(logistic_X_train_selected, logistic_y_train)\n",
    "\n",
    "# Step 5: Predict\n",
    "logistic_y_pred = logistic_model.predict(logistic_X_test_selected)\n",
    "logistic_y_proba = logistic_model.predict_proba(logistic_X_test_selected)[:, 1]\n",
    "\n",
    "# Step 6: Evaluate\n",
    "logistic_metrics = {\n",
    "    \"Recall\": recall_score(logistic_y_test, logistic_y_pred),\n",
    "    \"Accuracy\": accuracy_score(logistic_y_test, logistic_y_pred),\n",
    "    \"Precision\": precision_score(logistic_y_test, logistic_y_pred),\n",
    "    \"F1 Score\": f1_score(logistic_y_test, logistic_y_pred),\n",
    "    \"ROC AUC\": roc_auc_score(logistic_y_test, logistic_y_proba)\n",
    "}\n",
    "\n",
    "# Step 7: Display results in a table\n",
    "logistic_results_df = pd.DataFrame([logistic_metrics])\n",
    "print(\"\\nModel Performance (Logistic Regression with SFS):\")\n",
    "print(logistic_results_df.to_string(index=False))"
   ]
  },
  {
   "cell_type": "markdown",
   "id": "5a5db35e-5cf0-460c-ab62-3303ac29765c",
   "metadata": {},
   "source": [
    "#### L1 regularization (Lasso)"
   ]
  },
  {
   "cell_type": "code",
   "execution_count": 45,
   "id": "14c71a41-b7b1-49e1-82c5-2d27fffbf606",
   "metadata": {},
   "outputs": [
    {
     "name": "stdout",
     "output_type": "stream",
     "text": [
      "Selected features (L1 Regularization):\n",
      " ['Age', 'BMI', 'DBP', 'FPG', 'HDL', 'LDL', 'ALT', 'BUN', 'CCR', 'FFPG', 'MAP', 'Chol_HDL_Ratio', 'LDL_HDL_Ratio', 'FPG_BMI', 'Tri_HDL_Ratio', 'ALT_per_BMI', 'Non_HDL', 'Pulse_Pressure', 'TG_HDL_Obesity', 'Gender_2', 'smoking_2', 'smoking_3', 'drinking_2', 'drinking_3', 'family_history_1', 'Obesity_Class_1', 'Impaired_FPG_Flag_1']\n",
      "\n",
      "Model Performance (Logistic Regression with L1 Feature Selection):\n",
      "  Recall  Accuracy  Precision  F1 Score  ROC AUC\n",
      "0.857692  0.894186   0.805054   0.83054 0.935378\n"
     ]
    }
   ],
   "source": [
    "# Step 1: Train logistic regression with L1 regularization\n",
    "logistic_l1_model = LogisticRegression(penalty='l1', solver='liblinear', max_iter=1000, C=1.0)\n",
    "logistic_selector = SelectFromModel(estimator=logistic_l1_model, prefit=False)\n",
    "\n",
    "# Fit on training data\n",
    "logistic_selector.fit(logistic_X_train, logistic_y_train)\n",
    "\n",
    "# Step 2: Transform datasets to selected features\n",
    "logistic_X_train_selected = logistic_selector.transform(logistic_X_train)\n",
    "logistic_X_test_selected = logistic_selector.transform(logistic_X_test)\n",
    "\n",
    "# Optional: Get selected feature names\n",
    "logistic_selected_features = logistic_X_train.columns[logistic_selector.get_support()]\n",
    "print(\"Selected features (L1 Regularization):\\n\", logistic_selected_features.tolist())\n",
    "\n",
    "# Step 3: Retrain model on selected features\n",
    "logistic_final_model = LogisticRegression(max_iter=1000)\n",
    "logistic_final_model.fit(logistic_X_train_selected, logistic_y_train)\n",
    "\n",
    "# Step 4: Predict\n",
    "logistic_y_pred = logistic_final_model.predict(logistic_X_test_selected)\n",
    "logistic_y_proba = logistic_final_model.predict_proba(logistic_X_test_selected)[:, 1]\n",
    "\n",
    "# Step 5: Evaluate\n",
    "logistic_metrics = {\n",
    "    \"Recall\": recall_score(logistic_y_test, logistic_y_pred),\n",
    "    \"Accuracy\": accuracy_score(logistic_y_test, logistic_y_pred),\n",
    "    \"Precision\": precision_score(logistic_y_test, logistic_y_pred),\n",
    "    \"F1 Score\": f1_score(logistic_y_test, logistic_y_pred),\n",
    "    \"ROC AUC\": roc_auc_score(logistic_y_test, logistic_y_proba)\n",
    "}\n",
    "\n",
    "# Step 6: Display results\n",
    "logistic_results_df = pd.DataFrame([logistic_metrics])\n",
    "print(\"\\nModel Performance (Logistic Regression with L1 Feature Selection):\")\n",
    "print(logistic_results_df.to_string(index=False))"
   ]
  },
  {
   "cell_type": "markdown",
   "id": "d0ff4869-1dda-4085-a69e-ab117760790b",
   "metadata": {},
   "source": [
    "Since RFE produces the best recall, we choose RFE for logistic regression"
   ]
  },
  {
   "cell_type": "code",
   "execution_count": 46,
   "id": "86a64b70-f981-4836-901c-19f43fbf8461",
   "metadata": {},
   "outputs": [
    {
     "name": "stdout",
     "output_type": "stream",
     "text": [
      "Selected features using RFE:\n",
      " ['Age', 'BMI', 'DBP', 'FPG', 'HDL', 'ALT', 'FFPG', 'MAP', 'Glucose_Change', 'Chol_HDL_Ratio', 'BMI_Age', 'FPG_BMI', 'ALT_per_BMI', 'Non_HDL', 'Pulse_Pressure', 'smoking_3', 'drinking_2', 'drinking_3', 'Obesity_Class_3', 'Impaired_FPG_Flag_1']\n"
     ]
    }
   ],
   "source": [
    "# Step 1: Define estimator and number of features to select\n",
    "logistic_estimator = LogisticRegression(max_iter=1000)\n",
    "logistic_rfe_n_features = 20  # Adjust this as needed\n",
    "\n",
    "# Step 2: Apply RFE\n",
    "logistic_selector = RFE(estimator=logistic_estimator, n_features_to_select=logistic_rfe_n_features)\n",
    "logistic_selector.fit(logistic_X_train, logistic_y_train)\n",
    "\n",
    "# Step 3: Create new train and test sets with selected features\n",
    "logistic_X_train_selected = logistic_X_train.loc[:, logistic_selector.get_support()]\n",
    "logistic_X_test_selected = logistic_X_test.loc[:, logistic_selector.get_support()]\n",
    "\n",
    "# Optional: Print selected feature names\n",
    "logistic_selected_features = logistic_X_train_selected.columns\n",
    "print(\"Selected features using RFE:\\n\", logistic_selected_features.tolist())"
   ]
  },
  {
   "cell_type": "code",
   "execution_count": null,
   "id": "88717e2d-ca17-497e-8dc0-973a3238e275",
   "metadata": {},
   "outputs": [],
   "source": []
  },
  {
   "cell_type": "markdown",
   "id": "d11cfd2c-1fad-42b6-855b-43081cda2cd2",
   "metadata": {},
   "source": [
    "### K-Neareast Neighbors (KNN)"
   ]
  },
  {
   "cell_type": "markdown",
   "id": "cc548f9e-8f9e-4cdd-890f-6efdfe3913db",
   "metadata": {},
   "source": [
    "#### SelectKBest"
   ]
  },
  {
   "cell_type": "code",
   "execution_count": 47,
   "id": "b2871248-945c-4fbc-bd37-2cf779b2e9a5",
   "metadata": {},
   "outputs": [
    {
     "name": "stdout",
     "output_type": "stream",
     "text": [
      "Selected features:\n",
      " ['Age', 'BMI', 'SBP', 'DBP', 'FPG', 'BUN', 'FFPG', 'MAP', 'Glucose_Change', 'BUN_CCR_Ratio', 'BMI_Age', 'FPG_BMI', 'Non_HDL', 'Pulse_Pressure', 'TG_HDL_Obesity', 'smoking_3', 'drinking_2', 'drinking_3', 'Obesity_Class_1', 'Impaired_FPG_Flag_1']\n",
      "\n",
      "Model Performance (KNN with SelectKBest k=20):\n",
      " Recall  Accuracy  Precision  F1 Score  ROC AUC\n",
      "   0.85  0.873256    0.75945  0.802178  0.90508\n"
     ]
    }
   ],
   "source": [
    "# Step 1: Feature Selection (k = 20)\n",
    "knn_k = 20\n",
    "knn_selector = SelectKBest(score_func=f_classif, k=knn_k)\n",
    "knn_X_train_selected = knn_selector.fit_transform(knn_X_train, knn_y_train)\n",
    "knn_X_test_selected = knn_selector.transform(knn_X_test)\n",
    "\n",
    "# Optional: Feature names\n",
    "knn_selected_features = knn_X_train.columns[knn_selector.get_support()]\n",
    "print(\"Selected features:\\n\", knn_selected_features.tolist())\n",
    "\n",
    "# Step 2: Model Training\n",
    "knn_model = KNeighborsClassifier(n_neighbors=5)\n",
    "knn_model.fit(knn_X_train_selected, knn_y_train)\n",
    "\n",
    "# Step 3: Prediction\n",
    "knn_y_pred = knn_model.predict(knn_X_test_selected)\n",
    "knn_y_proba = knn_model.predict_proba(knn_X_test_selected)[:, 1]\n",
    "\n",
    "# Step 4: Evaluation Metrics\n",
    "knn_metrics = {\n",
    "    \"Recall\": recall_score(knn_y_test, knn_y_pred),\n",
    "    \"Accuracy\": accuracy_score(knn_y_test, knn_y_pred),\n",
    "    \"Precision\": precision_score(knn_y_test, knn_y_pred),\n",
    "    \"F1 Score\": f1_score(knn_y_test, knn_y_pred),\n",
    "    \"ROC AUC\": roc_auc_score(knn_y_test, knn_y_proba)\n",
    "}\n",
    "\n",
    "# Display metrics in a table\n",
    "knn_results_df = pd.DataFrame([knn_metrics])\n",
    "print(\"\\nModel Performance (KNN with SelectKBest k=20):\")\n",
    "print(knn_results_df.to_string(index=False))"
   ]
  },
  {
   "cell_type": "markdown",
   "id": "b46af8c3-a58e-4908-a287-0f7a1d8282cf",
   "metadata": {},
   "source": [
    "#### Variance Threshold"
   ]
  },
  {
   "cell_type": "code",
   "execution_count": 48,
   "id": "b061bcd8-145f-46b7-b171-3472df75f6c4",
   "metadata": {},
   "outputs": [
    {
     "name": "stdout",
     "output_type": "stream",
     "text": [
      "Selected features (Variance Threshold):\n",
      " ['Age', 'BMI', 'SBP', 'DBP', 'FPG', 'Chol', 'Tri', 'HDL', 'LDL', 'ALT', 'BUN', 'CCR', 'FFPG', 'MAP', 'Glucose_Change', 'Chol_HDL_Ratio', 'LDL_HDL_Ratio', 'BUN_CCR_Ratio', 'BMI_Age', 'FPG_BMI', 'Tri_HDL_Ratio', 'ALT_per_BMI', 'Non_HDL', 'Pulse_Pressure', 'TG_HDL_Obesity', 'ALT_to_CCR', 'Gender_2', 'smoking_2', 'smoking_3', 'drinking_2', 'drinking_3', 'family_history_1', 'Obesity_Class_1', 'Obesity_Class_2', 'Impaired_FPG_Flag_1']\n",
      "\n",
      "Model Performance (KNN with Variance Threshold):\n",
      "  Recall  Accuracy  Precision  F1 Score  ROC AUC\n",
      "0.830769  0.833721   0.685714  0.751304 0.901724\n"
     ]
    }
   ],
   "source": [
    "# Step 1: Feature Selection (Variance Threshold)\n",
    "knn_variance_threshold = 0.01  # You can tune this\n",
    "knn_selector = VarianceThreshold(threshold=knn_variance_threshold)\n",
    "knn_X_train_selected = knn_selector.fit_transform(knn_X_train)\n",
    "knn_X_test_selected = knn_selector.transform(knn_X_test)\n",
    "\n",
    "# Optional: Feature names\n",
    "knn_selected_features = knn_X_train.columns[knn_selector.get_support()]\n",
    "print(\"Selected features (Variance Threshold):\\n\", knn_selected_features.tolist())\n",
    "\n",
    "# Step 2: Model Training\n",
    "knn_model = KNeighborsClassifier(n_neighbors=5)\n",
    "knn_model.fit(knn_X_train_selected, knn_y_train)\n",
    "\n",
    "# Step 3: Prediction\n",
    "knn_y_pred = knn_model.predict(knn_X_test_selected)\n",
    "knn_y_proba = knn_model.predict_proba(knn_X_test_selected)[:, 1]\n",
    "\n",
    "# Step 4: Evaluation Metrics\n",
    "knn_metrics = {\n",
    "    \"Recall\": recall_score(knn_y_test, knn_y_pred),\n",
    "    \"Accuracy\": accuracy_score(knn_y_test, knn_y_pred),\n",
    "    \"Precision\": precision_score(knn_y_test, knn_y_pred),\n",
    "    \"F1 Score\": f1_score(knn_y_test, knn_y_pred),\n",
    "    \"ROC AUC\": roc_auc_score(knn_y_test, knn_y_proba)\n",
    "}\n",
    "\n",
    "# Display metrics in a table\n",
    "knn_results_df = pd.DataFrame([knn_metrics])\n",
    "print(\"\\nModel Performance (KNN with Variance Threshold):\")\n",
    "print(knn_results_df.to_string(index=False))"
   ]
  },
  {
   "cell_type": "markdown",
   "id": "327ef3c1-d020-4d38-858b-9e066a395cb2",
   "metadata": {},
   "source": [
    "#### Correlation Filter"
   ]
  },
  {
   "cell_type": "code",
   "execution_count": 49,
   "id": "57d3b0cd-edc9-4740-9cfc-1fa3da4ab954",
   "metadata": {},
   "outputs": [
    {
     "name": "stdout",
     "output_type": "stream",
     "text": [
      "Features dropped due to correlation > 0.9:\n",
      " ['MAP', 'LDL_HDL_Ratio', 'BMI_Age', 'Tri_HDL_Ratio', 'ALT_per_BMI', 'Non_HDL', 'TG_HDL_Obesity', 'ALT_to_CCR', 'drinking_3']\n",
      "Selected features (Correlation Filter):\n",
      " ['Age', 'BMI', 'SBP', 'DBP', 'FPG', 'Chol', 'Tri', 'HDL', 'LDL', 'ALT', 'BUN', 'CCR', 'FFPG', 'Glucose_Change', 'Chol_HDL_Ratio', 'BUN_CCR_Ratio', 'FPG_BMI', 'Pulse_Pressure', 'Gender_2', 'smoking_2', 'smoking_3', 'drinking_2', 'family_history_1', 'Obesity_Class_1', 'Obesity_Class_2', 'Obesity_Class_3', 'Obesity_Class_4', 'Impaired_FPG_Flag_1']\n",
      "\n",
      "Model Performance (KNN with Correlation Filter):\n",
      "  Recall  Accuracy  Precision  F1 Score  ROC AUC\n",
      "0.807692  0.844186   0.714286  0.758123    0.896\n"
     ]
    }
   ],
   "source": [
    "# Step 1: Compute correlation matrix on training set\n",
    "knn_corr_matrix = knn_X_train.corr().abs()\n",
    "\n",
    "# Step 2: Get upper triangle of the correlation matrix\n",
    "knn_upper = knn_corr_matrix.where(np.triu(np.ones(knn_corr_matrix.shape), k=1).astype(bool))\n",
    "\n",
    "# Step 3: Identify highly correlated features to drop\n",
    "knn_corr_threshold = 0.9\n",
    "knn_to_drop = [column for column in knn_upper.columns if any(knn_upper[column] > knn_corr_threshold)]\n",
    "print(f\"Features dropped due to correlation > {knn_corr_threshold}:\\n\", knn_to_drop)\n",
    "\n",
    "# Step 4: Drop from both train and test sets\n",
    "knn_X_train_selected = knn_X_train.drop(columns=knn_to_drop)\n",
    "knn_X_test_selected = knn_X_test.drop(columns=knn_to_drop)\n",
    "\n",
    "# Optional: Feature names after correlation filter\n",
    "knn_selected_features = knn_X_train_selected.columns\n",
    "print(\"Selected features (Correlation Filter):\\n\", knn_selected_features.tolist())\n",
    "\n",
    "# Step 5: Train KNN model\n",
    "knn_model = KNeighborsClassifier(n_neighbors=5)\n",
    "knn_model.fit(knn_X_train_selected, knn_y_train)\n",
    "\n",
    "# Step 6: Predict\n",
    "knn_y_pred = knn_model.predict(knn_X_test_selected)\n",
    "knn_y_proba = knn_model.predict_proba(knn_X_test_selected)[:, 1]\n",
    "\n",
    "# Step 7: Evaluation metrics\n",
    "knn_metrics = {\n",
    "    \"Recall\": recall_score(knn_y_test, knn_y_pred),\n",
    "    \"Accuracy\": accuracy_score(knn_y_test, knn_y_pred),\n",
    "    \"Precision\": precision_score(knn_y_test, knn_y_pred),\n",
    "    \"F1 Score\": f1_score(knn_y_test, knn_y_pred),\n",
    "    \"ROC AUC\": roc_auc_score(knn_y_test, knn_y_proba)\n",
    "}\n",
    "\n",
    "# Step 8: Display metrics in a table\n",
    "knn_results_df = pd.DataFrame([knn_metrics])\n",
    "print(\"\\nModel Performance (KNN with Correlation Filter):\")\n",
    "print(knn_results_df.to_string(index=False))"
   ]
  },
  {
   "cell_type": "markdown",
   "id": "f709a53b-08ff-473f-ace7-1e1030cdc3e2",
   "metadata": {},
   "source": [
    "#### Sequential Feature Selection (SFS)"
   ]
  },
  {
   "cell_type": "code",
   "execution_count": 50,
   "id": "deeaafb1-af44-4557-9a03-a3e4350b1370",
   "metadata": {},
   "outputs": [
    {
     "name": "stdout",
     "output_type": "stream",
     "text": [
      "Selected features (SFS):\n",
      " ['Age', 'SBP', 'Tri', 'ALT', 'CCR', 'FFPG', 'BUN_CCR_Ratio', 'BMI_Age', 'FPG_BMI', 'Tri_HDL_Ratio', 'Non_HDL', 'Pulse_Pressure', 'TG_HDL_Obesity', 'smoking_2', 'smoking_3', 'drinking_2', 'family_history_1', 'Obesity_Class_2', 'Obesity_Class_3', 'Obesity_Class_4']\n",
      "\n",
      "Model Performance (KNN with SFS):\n",
      "  Recall  Accuracy  Precision  F1 Score  ROC AUC\n",
      "0.803846   0.82093   0.669872  0.730769 0.885346\n"
     ]
    }
   ],
   "source": [
    "# Step 1: Define estimator and number of features to select\n",
    "knn_estimator = KNeighborsClassifier(n_neighbors=5)\n",
    "knn_sfs_n_features = 20  # You can adjust this\n",
    "\n",
    "# Step 2: Apply Sequential Feature Selector (forward selection)\n",
    "knn_selector = SequentialFeatureSelector(\n",
    "    estimator=knn_estimator,\n",
    "    n_features_to_select=knn_sfs_n_features,\n",
    "    direction='forward',\n",
    "    scoring='recall',\n",
    "    cv=5,\n",
    "    n_jobs=-1\n",
    ")\n",
    "knn_selector.fit(knn_X_train, knn_y_train)\n",
    "\n",
    "# Step 3: Transform datasets\n",
    "knn_X_train_selected = knn_selector.transform(knn_X_train)\n",
    "knn_X_test_selected = knn_selector.transform(knn_X_test)\n",
    "\n",
    "# Optional: Feature names\n",
    "knn_selected_features = knn_X_train.columns[knn_selector.get_support()]\n",
    "print(\"Selected features (SFS):\\n\", knn_selected_features.tolist())\n",
    "\n",
    "# Step 4: Train KNN model\n",
    "knn_model = KNeighborsClassifier(n_neighbors=5)\n",
    "knn_model.fit(knn_X_train_selected, knn_y_train)\n",
    "\n",
    "# Step 5: Prediction\n",
    "knn_y_pred = knn_model.predict(knn_X_test_selected)\n",
    "knn_y_proba = knn_model.predict_proba(knn_X_test_selected)[:, 1]\n",
    "\n",
    "# Step 6: Evaluation metrics\n",
    "knn_metrics = {\n",
    "    \"Recall\": recall_score(knn_y_test, knn_y_pred),\n",
    "    \"Accuracy\": accuracy_score(knn_y_test, knn_y_pred),\n",
    "    \"Precision\": precision_score(knn_y_test, knn_y_pred),\n",
    "    \"F1 Score\": f1_score(knn_y_test, knn_y_pred),\n",
    "    \"ROC AUC\": roc_auc_score(knn_y_test, knn_y_proba)\n",
    "}\n",
    "\n",
    "# Step 7: Display results in a table\n",
    "knn_results_df = pd.DataFrame([knn_metrics])\n",
    "print(\"\\nModel Performance (KNN with SFS):\")\n",
    "print(knn_results_df.to_string(index=False))"
   ]
  },
  {
   "cell_type": "markdown",
   "id": "7b66b734-820a-4148-8088-5f19b87f20e9",
   "metadata": {},
   "source": [
    "Since SelectKBest produces the best recall, we choose SelectKBest for KNN"
   ]
  },
  {
   "cell_type": "code",
   "execution_count": 51,
   "id": "aec24a8a-4fb2-464c-9fa5-bc7b46c83f13",
   "metadata": {},
   "outputs": [
    {
     "name": "stdout",
     "output_type": "stream",
     "text": [
      "Selected features for KNN using SelectKBest:\n",
      " ['Age', 'BMI', 'SBP', 'DBP', 'FPG', 'BUN', 'FFPG', 'MAP', 'Glucose_Change', 'BUN_CCR_Ratio', 'BMI_Age', 'FPG_BMI', 'Non_HDL', 'Pulse_Pressure', 'TG_HDL_Obesity', 'smoking_3', 'drinking_2', 'drinking_3', 'Obesity_Class_1', 'Impaired_FPG_Flag_1']\n"
     ]
    }
   ],
   "source": [
    "# Step 1: Set number of features to select\n",
    "knn_k = 20  # You can adjust this\n",
    "\n",
    "# Step 2: Apply SelectKBest with ANOVA F-test\n",
    "knn_selector = SelectKBest(score_func=f_classif, k=knn_k)\n",
    "knn_selector.fit(knn_X_train, knn_y_train)\n",
    "\n",
    "# Step 3: Get mask of selected features\n",
    "knn_support_mask = knn_selector.get_support()\n",
    "knn_selected_feature_names = knn_X_train.columns[knn_support_mask]\n",
    "\n",
    "# Step 4: Create new DataFrames with selected features\n",
    "knn_X_train_selected = knn_X_train.loc[:, knn_selected_feature_names]\n",
    "knn_X_test_selected = knn_X_test.loc[:, knn_selected_feature_names]\n",
    "\n",
    "# Optional: Print selected feature names\n",
    "print(\"Selected features for KNN using SelectKBest:\\n\", knn_selected_feature_names.tolist())"
   ]
  },
  {
   "cell_type": "code",
   "execution_count": null,
   "id": "291cdd7f-8959-483d-a4ab-38151465a067",
   "metadata": {},
   "outputs": [],
   "source": []
  },
  {
   "cell_type": "markdown",
   "id": "e254c9b9-95aa-4bae-91a7-b35db72b9065",
   "metadata": {},
   "source": [
    "### Support Vector Machine (SVM)"
   ]
  },
  {
   "cell_type": "markdown",
   "id": "3eae62c9-08b6-48f5-a6b1-5cf0a9065041",
   "metadata": {},
   "source": [
    "#### SelectKBest"
   ]
  },
  {
   "cell_type": "code",
   "execution_count": 52,
   "id": "f8e64a69-3e56-47e1-b4d5-ca3b4a91e010",
   "metadata": {},
   "outputs": [
    {
     "name": "stdout",
     "output_type": "stream",
     "text": [
      "Selected features for SVM using SelectKBest:\n",
      " ['Age', 'BMI', 'SBP', 'DBP', 'FPG', 'BUN', 'FFPG', 'MAP', 'Glucose_Change', 'BUN_CCR_Ratio', 'BMI_Age', 'FPG_BMI', 'Non_HDL', 'Pulse_Pressure', 'TG_HDL_Obesity', 'smoking_3', 'drinking_2', 'drinking_3', 'Obesity_Class_1', 'Impaired_FPG_Flag_1']\n",
      "\n",
      "Model Performance (SVM with SelectKBest k=20):\n",
      "  Recall  Accuracy  Precision  F1 Score  ROC AUC\n",
      "0.838462  0.894186   0.816479  0.827324 0.931667\n"
     ]
    }
   ],
   "source": [
    "# Step 1: Feature Selection (k = 20)\n",
    "svm_k = 20\n",
    "svm_selector = SelectKBest(score_func=f_classif, k=svm_k)\n",
    "svm_selector.fit(svm_X_train, svm_y_train)\n",
    "\n",
    "# Create DataFrames with selected features\n",
    "svm_selected_features = svm_X_train.columns[svm_selector.get_support()]\n",
    "svm_X_train_selected = svm_X_train.loc[:, svm_selected_features]\n",
    "svm_X_test_selected = svm_X_test.loc[:, svm_selected_features]\n",
    "\n",
    "print(\"Selected features for SVM using SelectKBest:\\n\", svm_selected_features.tolist())\n",
    "\n",
    "# Step 2: Train SVM model\n",
    "svm_model = SVC(kernel='rbf', probability=True)\n",
    "svm_model.fit(svm_X_train_selected, svm_y_train)\n",
    "\n",
    "# Step 3: Predict\n",
    "svm_y_pred = svm_model.predict(svm_X_test_selected)\n",
    "svm_y_proba = svm_model.predict_proba(svm_X_test_selected)[:, 1]\n",
    "\n",
    "# Step 4: Evaluation Metrics\n",
    "svm_metrics = {\n",
    "    \"Recall\": recall_score(svm_y_test, svm_y_pred),\n",
    "    \"Accuracy\": accuracy_score(svm_y_test, svm_y_pred),\n",
    "    \"Precision\": precision_score(svm_y_test, svm_y_pred),\n",
    "    \"F1 Score\": f1_score(svm_y_test, svm_y_pred),\n",
    "    \"ROC AUC\": roc_auc_score(svm_y_test, svm_y_proba)\n",
    "}\n",
    "\n",
    "# Step 5: Display results in a table\n",
    "svm_results_df = pd.DataFrame([svm_metrics])\n",
    "print(\"\\nModel Performance (SVM with SelectKBest k=20):\")\n",
    "print(svm_results_df.to_string(index=False))"
   ]
  },
  {
   "cell_type": "markdown",
   "id": "35209e65-c4b7-4a05-9cfd-f35092b51887",
   "metadata": {},
   "source": [
    "#### Variance Threshold"
   ]
  },
  {
   "cell_type": "code",
   "execution_count": 53,
   "id": "1d805867-4e46-4372-b212-8315bc7466d2",
   "metadata": {},
   "outputs": [
    {
     "name": "stdout",
     "output_type": "stream",
     "text": [
      "Selected features for SVM using Variance Threshold:\n",
      " ['Age', 'BMI', 'SBP', 'DBP', 'FPG', 'Chol', 'Tri', 'HDL', 'LDL', 'ALT', 'BUN', 'CCR', 'FFPG', 'MAP', 'Glucose_Change', 'Chol_HDL_Ratio', 'LDL_HDL_Ratio', 'BUN_CCR_Ratio', 'BMI_Age', 'FPG_BMI', 'Tri_HDL_Ratio', 'ALT_per_BMI', 'Non_HDL', 'Pulse_Pressure', 'TG_HDL_Obesity', 'ALT_to_CCR', 'Gender_2', 'smoking_2', 'smoking_3', 'drinking_2', 'drinking_3', 'family_history_1', 'Obesity_Class_1', 'Obesity_Class_2', 'Impaired_FPG_Flag_1']\n",
      "\n",
      "Model Performance (SVM with Variance Threshold):\n",
      "  Recall  Accuracy  Precision  F1 Score  ROC AUC\n",
      "0.823077   0.89186   0.819923  0.821497 0.929064\n"
     ]
    }
   ],
   "source": [
    "# Step 1: Apply Variance Threshold\n",
    "svm_variance_threshold = 0.01  # You can adjust this value\n",
    "svm_selector = VarianceThreshold(threshold=svm_variance_threshold)\n",
    "svm_selector.fit(svm_X_train)\n",
    "\n",
    "# Step 2: Get selected feature names and transform data\n",
    "svm_selected_features = svm_X_train.columns[svm_selector.get_support()]\n",
    "svm_X_train_selected = svm_X_train.loc[:, svm_selected_features]\n",
    "svm_X_test_selected = svm_X_test.loc[:, svm_selected_features]\n",
    "\n",
    "print(\"Selected features for SVM using Variance Threshold:\\n\", svm_selected_features.tolist())\n",
    "\n",
    "# Step 3: Train SVM model\n",
    "svm_model = SVC(kernel='rbf', probability=True)\n",
    "svm_model.fit(svm_X_train_selected, svm_y_train)\n",
    "\n",
    "# Step 4: Prediction\n",
    "svm_y_pred = svm_model.predict(svm_X_test_selected)\n",
    "svm_y_proba = svm_model.predict_proba(svm_X_test_selected)[:, 1]\n",
    "\n",
    "# Step 5: Evaluation Metrics\n",
    "svm_metrics = {\n",
    "    \"Recall\": recall_score(svm_y_test, svm_y_pred),\n",
    "    \"Accuracy\": accuracy_score(svm_y_test, svm_y_pred),\n",
    "    \"Precision\": precision_score(svm_y_test, svm_y_pred),\n",
    "    \"F1 Score\": f1_score(svm_y_test, svm_y_pred),\n",
    "    \"ROC AUC\": roc_auc_score(svm_y_test, svm_y_proba)\n",
    "}\n",
    "\n",
    "# Step 6: Display results in a table\n",
    "svm_results_df = pd.DataFrame([svm_metrics])\n",
    "print(\"\\nModel Performance (SVM with Variance Threshold):\")\n",
    "print(svm_results_df.to_string(index=False))"
   ]
  },
  {
   "cell_type": "code",
   "execution_count": 54,
   "id": "0ac29dad-7287-4432-be51-52293181bfad",
   "metadata": {},
   "outputs": [
    {
     "name": "stdout",
     "output_type": "stream",
     "text": [
      "Features dropped due to correlation > 0.9:\n",
      " ['MAP', 'LDL_HDL_Ratio', 'BMI_Age', 'Tri_HDL_Ratio', 'ALT_per_BMI', 'Non_HDL', 'TG_HDL_Obesity', 'ALT_to_CCR', 'drinking_3']\n",
      "Selected features for SVM using Correlation Filter:\n",
      " ['Age', 'BMI', 'SBP', 'DBP', 'FPG', 'Chol', 'Tri', 'HDL', 'LDL', 'ALT', 'BUN', 'CCR', 'FFPG', 'Glucose_Change', 'Chol_HDL_Ratio', 'BUN_CCR_Ratio', 'FPG_BMI', 'Pulse_Pressure', 'Gender_2', 'smoking_2', 'smoking_3', 'drinking_2', 'family_history_1', 'Obesity_Class_1', 'Obesity_Class_2', 'Obesity_Class_3', 'Obesity_Class_4', 'Impaired_FPG_Flag_1']\n",
      "\n",
      "Model Performance (SVM with Correlation Filter):\n",
      "  Recall  Accuracy  Precision  F1 Score  ROC AUC\n",
      "0.826923  0.896512   0.830116  0.828516 0.929705\n"
     ]
    }
   ],
   "source": [
    "# Step 1: Compute correlation matrix on training data\n",
    "svm_corr_matrix = svm_X_train.corr().abs()\n",
    "\n",
    "# Step 2: Get upper triangle of correlation matrix\n",
    "svm_upper = svm_corr_matrix.where(np.triu(np.ones(svm_corr_matrix.shape), k=1).astype(bool))\n",
    "\n",
    "# Step 3: Identify highly correlated features to drop\n",
    "svm_corr_threshold = 0.9\n",
    "svm_to_drop = [column for column in svm_upper.columns if any(svm_upper[column] > svm_corr_threshold)]\n",
    "print(f\"Features dropped due to correlation > {svm_corr_threshold}:\\n\", svm_to_drop)\n",
    "\n",
    "# Step 4: Drop selected features\n",
    "svm_X_train_selected = svm_X_train.drop(columns=svm_to_drop)\n",
    "svm_X_test_selected = svm_X_test.drop(columns=svm_to_drop)\n",
    "\n",
    "# Optional: Print final selected feature names\n",
    "svm_selected_features = svm_X_train_selected.columns\n",
    "print(\"Selected features for SVM using Correlation Filter:\\n\", svm_selected_features.tolist())\n",
    "\n",
    "# Step 5: Train SVM model\n",
    "svm_model = SVC(kernel='rbf', probability=True)\n",
    "svm_model.fit(svm_X_train_selected, svm_y_train)\n",
    "\n",
    "# Step 6: Prediction\n",
    "svm_y_pred = svm_model.predict(svm_X_test_selected)\n",
    "svm_y_proba = svm_model.predict_proba(svm_X_test_selected)[:, 1]\n",
    "\n",
    "# Step 7: Evaluation metrics\n",
    "svm_metrics = {\n",
    "    \"Recall\": recall_score(svm_y_test, svm_y_pred),\n",
    "    \"Accuracy\": accuracy_score(svm_y_test, svm_y_pred),\n",
    "    \"Precision\": precision_score(svm_y_test, svm_y_pred),\n",
    "    \"F1 Score\": f1_score(svm_y_test, svm_y_pred),\n",
    "    \"ROC AUC\": roc_auc_score(svm_y_test, svm_y_proba)\n",
    "}\n",
    "\n",
    "# Step 8: Display metrics in a table\n",
    "svm_results_df = pd.DataFrame([svm_metrics])\n",
    "print(\"\\nModel Performance (SVM with Correlation Filter):\")\n",
    "print(svm_results_df.to_string(index=False))"
   ]
  },
  {
   "cell_type": "markdown",
   "id": "14f07093-e1cd-4359-89ea-7635d48609e7",
   "metadata": {},
   "source": [
    "#### Recursive Feature Elimination (RFE)"
   ]
  },
  {
   "cell_type": "code",
   "execution_count": 55,
   "id": "71abd183-6cd2-4224-8610-e2a712867c20",
   "metadata": {},
   "outputs": [
    {
     "name": "stdout",
     "output_type": "stream",
     "text": [
      "Selected features using RFE for SVM:\n",
      " ['Age', 'BMI', 'SBP', 'DBP', 'HDL', 'ALT', 'FFPG', 'MAP', 'Glucose_Change', 'Chol_HDL_Ratio', 'FPG_BMI', 'ALT_per_BMI', 'Pulse_Pressure', 'smoking_3', 'drinking_2', 'drinking_3', 'Obesity_Class_1', 'Obesity_Class_2', 'Obesity_Class_3', 'Impaired_FPG_Flag_1']\n",
      "\n",
      "Model Performance (SVM with RFE):\n",
      "  Recall  Accuracy  Precision  F1 Score  ROC AUC\n",
      "0.826923  0.886047   0.802239  0.814394 0.931295\n"
     ]
    }
   ],
   "source": [
    "# Step 1: Define estimator and number of features to select\n",
    "svm_estimator = SVC(kernel='linear')  # linear kernel required for RFE to access coef_\n",
    "svm_rfe_n_features = 20  # You can change this\n",
    "\n",
    "# Step 2: Apply RFE\n",
    "svm_selector = RFE(estimator=svm_estimator, n_features_to_select=svm_rfe_n_features)\n",
    "svm_selector.fit(svm_X_train, svm_y_train)\n",
    "\n",
    "# Step 3: Select features\n",
    "svm_selected_features = svm_X_train.columns[svm_selector.support_]\n",
    "svm_X_train_selected = svm_X_train.loc[:, svm_selected_features]\n",
    "svm_X_test_selected = svm_X_test.loc[:, svm_selected_features]\n",
    "\n",
    "print(\"Selected features using RFE for SVM:\\n\", svm_selected_features.tolist())\n",
    "\n",
    "# Step 4: Train final SVM model\n",
    "svm_model = SVC(kernel='rbf', probability=True)\n",
    "svm_model.fit(svm_X_train_selected, svm_y_train)\n",
    "\n",
    "# Step 5: Prediction\n",
    "svm_y_pred = svm_model.predict(svm_X_test_selected)\n",
    "svm_y_proba = svm_model.predict_proba(svm_X_test_selected)[:, 1]\n",
    "\n",
    "# Step 6: Evaluation metrics\n",
    "svm_metrics = {\n",
    "    \"Recall\": recall_score(svm_y_test, svm_y_pred),\n",
    "    \"Accuracy\": accuracy_score(svm_y_test, svm_y_pred),\n",
    "    \"Precision\": precision_score(svm_y_test, svm_y_pred),\n",
    "    \"F1 Score\": f1_score(svm_y_test, svm_y_pred),\n",
    "    \"ROC AUC\": roc_auc_score(svm_y_test, svm_y_proba)\n",
    "}\n",
    "\n",
    "# Step 7: Display results in a table\n",
    "svm_results_df = pd.DataFrame([svm_metrics])\n",
    "print(\"\\nModel Performance (SVM with RFE):\")\n",
    "print(svm_results_df.to_string(index=False))"
   ]
  },
  {
   "cell_type": "markdown",
   "id": "5f62c565-144f-4be2-99d8-03393a1d3819",
   "metadata": {},
   "source": [
    "#### L1 regularization"
   ]
  },
  {
   "cell_type": "code",
   "execution_count": 56,
   "id": "8ed2c066-2791-43bc-87a4-d420b83b6c11",
   "metadata": {},
   "outputs": [
    {
     "name": "stderr",
     "output_type": "stream",
     "text": [
      "C:\\Users\\Admin\\AppData\\Local\\Programs\\Python\\Python311\\Lib\\site-packages\\sklearn\\svm\\_base.py:1249: ConvergenceWarning: Liblinear failed to converge, increase the number of iterations.\n",
      "  warnings.warn(\n"
     ]
    },
    {
     "name": "stdout",
     "output_type": "stream",
     "text": [
      "Selected features using L1-Regularized SVM:\n",
      " ['Age', 'BMI', 'SBP', 'DBP', 'FPG', 'Tri', 'HDL', 'LDL', 'ALT', 'BUN', 'CCR', 'FFPG', 'MAP', 'Glucose_Change', 'Chol_HDL_Ratio', 'BMI_Age', 'FPG_BMI', 'Tri_HDL_Ratio', 'ALT_per_BMI', 'Non_HDL', 'Pulse_Pressure', 'ALT_to_CCR', 'Gender_2', 'smoking_2', 'smoking_3', 'drinking_2', 'drinking_3', 'Obesity_Class_1', 'Obesity_Class_2', 'Obesity_Class_3', 'Impaired_FPG_Flag_1']\n",
      "\n",
      "Model Performance (SVM with L1-based Feature Selection):\n",
      "  Recall  Accuracy  Precision  F1 Score  ROC AUC\n",
      "0.826923  0.889535   0.811321  0.819048 0.928641\n"
     ]
    }
   ],
   "source": [
    "# Step 1: L1-based feature selector (LinearSVC with L1 penalty)\n",
    "svm_l1_model = LinearSVC(penalty='l1', dual=False, C=1.0, max_iter=1000)\n",
    "svm_selector = SelectFromModel(estimator=svm_l1_model)\n",
    "svm_selector.fit(svm_X_train, svm_y_train)\n",
    "\n",
    "# Step 2: Get selected features and reduce train/test sets\n",
    "svm_selected_features = svm_X_train.columns[svm_selector.get_support()]\n",
    "svm_X_train_selected = svm_X_train.loc[:, svm_selected_features]\n",
    "svm_X_test_selected = svm_X_test.loc[:, svm_selected_features]\n",
    "\n",
    "print(\"Selected features using L1-Regularized SVM:\\n\", svm_selected_features.tolist())\n",
    "\n",
    "# Step 3: Train final SVM model (e.g., RBF kernel)\n",
    "svm_final_model = SVC(kernel='rbf', probability=True)\n",
    "svm_final_model.fit(svm_X_train_selected, svm_y_train)\n",
    "\n",
    "# Step 4: Predict\n",
    "svm_y_pred = svm_final_model.predict(svm_X_test_selected)\n",
    "svm_y_proba = svm_final_model.predict_proba(svm_X_test_selected)[:, 1]\n",
    "\n",
    "# Step 5: Evaluation metrics\n",
    "svm_metrics = {\n",
    "    \"Recall\": recall_score(svm_y_test, svm_y_pred),\n",
    "    \"Accuracy\": accuracy_score(svm_y_test, svm_y_pred),\n",
    "    \"Precision\": precision_score(svm_y_test, svm_y_pred),\n",
    "    \"F1 Score\": f1_score(svm_y_test, svm_y_pred),\n",
    "    \"ROC AUC\": roc_auc_score(svm_y_test, svm_y_proba)\n",
    "}\n",
    "\n",
    "# Step 6: Display metrics in a table\n",
    "svm_results_df = pd.DataFrame([svm_metrics])\n",
    "print(\"\\nModel Performance (SVM with L1-based Feature Selection):\")\n",
    "print(svm_results_df.to_string(index=False))"
   ]
  },
  {
   "cell_type": "markdown",
   "id": "0ee54984-13ad-473c-aa2f-48f1fd51e4a7",
   "metadata": {},
   "source": [
    "Since SelectKBest produces the best recall, we choose SelectKBest for SVM"
   ]
  },
  {
   "cell_type": "code",
   "execution_count": 57,
   "id": "95f9f10e-1535-43c3-b00c-3dca275b4198",
   "metadata": {},
   "outputs": [
    {
     "name": "stdout",
     "output_type": "stream",
     "text": [
      "Selected features for SVM using SelectKBest:\n",
      " ['Age', 'BMI', 'SBP', 'DBP', 'FPG', 'BUN', 'FFPG', 'MAP', 'Glucose_Change', 'BUN_CCR_Ratio', 'BMI_Age', 'FPG_BMI', 'Non_HDL', 'Pulse_Pressure', 'TG_HDL_Obesity', 'smoking_3', 'drinking_2', 'drinking_3', 'Obesity_Class_1', 'Impaired_FPG_Flag_1']\n"
     ]
    }
   ],
   "source": [
    "# Step 1: Set number of features to select\n",
    "svm_k = 20  # You can adjust this based on tuning\n",
    "\n",
    "# Step 2: Apply SelectKBest\n",
    "svm_selector = SelectKBest(score_func=f_classif, k=svm_k)\n",
    "svm_selector.fit(svm_X_train, svm_y_train)\n",
    "\n",
    "# Step 3: Get selected feature names\n",
    "svm_selected_features = svm_X_train.columns[svm_selector.get_support()]\n",
    "\n",
    "# Step 4: Create new DataFrames with selected features\n",
    "svm_X_train_selected = svm_X_train.loc[:, svm_selected_features]\n",
    "svm_X_test_selected = svm_X_test.loc[:, svm_selected_features]\n",
    "\n",
    "# Optional: Display selected features\n",
    "print(\"Selected features for SVM using SelectKBest:\\n\", svm_selected_features.tolist())"
   ]
  },
  {
   "cell_type": "code",
   "execution_count": null,
   "id": "0ddc1dc4-21f0-4915-a153-f3e9420232fe",
   "metadata": {},
   "outputs": [],
   "source": []
  },
  {
   "cell_type": "markdown",
   "id": "1707edc6-3fe2-4af6-9145-a9c395f8b890",
   "metadata": {},
   "source": [
    "### Neural Networks"
   ]
  },
  {
   "cell_type": "code",
   "execution_count": 58,
   "id": "2e5b0713-f2b4-452b-8d2a-713a54623e1e",
   "metadata": {},
   "outputs": [],
   "source": [
    "bool_cols = ['Gender_2', 'smoking_2', 'smoking_3', 'drinking_2', 'drinking_3', 'family_history_1', 'Obesity_Class_1', 'Obesity_Class_2', 'Obesity_Class_3', 'Obesity_Class_4', 'Impaired_FPG_Flag_1']\n",
    "\n",
    "neural_X_train[bool_cols] = neural_X_train[bool_cols].astype(int)\n",
    "neural_X_test[bool_cols] = neural_X_test[bool_cols].astype(int)"
   ]
  },
  {
   "cell_type": "markdown",
   "id": "cb63f2b9-95de-4e40-badc-c1ecb710d1e2",
   "metadata": {},
   "source": [
    "#### SelectKBest"
   ]
  },
  {
   "cell_type": "code",
   "execution_count": 59,
   "id": "5d71879e-6a72-4398-a79f-49b00f0041cc",
   "metadata": {},
   "outputs": [
    {
     "name": "stdout",
     "output_type": "stream",
     "text": [
      "Selected features for Neural Network using SelectKBest:\n",
      " ['Age', 'BMI', 'SBP', 'DBP', 'FPG', 'BUN', 'FFPG', 'MAP', 'Glucose_Change', 'BUN_CCR_Ratio', 'BMI_Age', 'FPG_BMI', 'Non_HDL', 'Pulse_Pressure', 'TG_HDL_Obesity', 'smoking_3', 'drinking_2', 'drinking_3', 'Obesity_Class_1', 'Impaired_FPG_Flag_1']\n"
     ]
    },
    {
     "name": "stderr",
     "output_type": "stream",
     "text": [
      "C:\\Users\\Admin\\AppData\\Local\\Programs\\Python\\Python311\\Lib\\site-packages\\keras\\src\\layers\\core\\dense.py:93: UserWarning: Do not pass an `input_shape`/`input_dim` argument to a layer. When using Sequential models, prefer using an `Input(shape)` object as the first layer in the model instead.\n",
      "  super().__init__(activity_regularizer=activity_regularizer, **kwargs)\n"
     ]
    },
    {
     "name": "stdout",
     "output_type": "stream",
     "text": [
      "\u001b[1m27/27\u001b[0m \u001b[32m━━━━━━━━━━━━━━━━━━━━\u001b[0m\u001b[37m\u001b[0m \u001b[1m0s\u001b[0m 7ms/step\n",
      "\n",
      "Model Performance (Neural Network with SelectKBest k=20):\n",
      "  Recall  Accuracy  Precision  F1 Score  ROC AUC\n",
      "0.780769  0.894186    0.85654  0.816901   0.9285\n"
     ]
    }
   ],
   "source": [
    "# Step 1: Feature Selection (k = 20)\n",
    "neural_k = 20\n",
    "neural_selector = SelectKBest(score_func=f_classif, k=neural_k)\n",
    "neural_selector.fit(neural_X_train, neural_y_train)\n",
    "\n",
    "# Get selected feature names and reduce datasets\n",
    "neural_selected_features = neural_X_train.columns[neural_selector.get_support()]\n",
    "neural_X_train_selected = neural_X_train.loc[:, neural_selected_features]\n",
    "neural_X_test_selected = neural_X_test.loc[:, neural_selected_features]\n",
    "\n",
    "print(\"Selected features for Neural Network using SelectKBest:\\n\", neural_selected_features.tolist())\n",
    "\n",
    "# Step 2: Build Neural Network Model\n",
    "neural_model = Sequential([\n",
    "    Dense(32, activation='relu', input_shape=(neural_X_train_selected.shape[1],)),\n",
    "    Dense(16, activation='relu'),\n",
    "    Dense(1, activation='sigmoid')\n",
    "])\n",
    "\n",
    "neural_model.compile(optimizer=Adam(learning_rate=0.001),\n",
    "                     loss='binary_crossentropy',\n",
    "                     metrics=[Recall()])\n",
    "\n",
    "# Step 3: Train the model\n",
    "neural_model.fit(neural_X_train_selected, neural_y_train, epochs=50, batch_size=32, verbose=0)\n",
    "\n",
    "# Step 4: Predict\n",
    "neural_y_proba = neural_model.predict(neural_X_test_selected).flatten()\n",
    "neural_y_pred = (neural_y_proba >= 0.5).astype(int)\n",
    "\n",
    "# Step 5: Evaluation Metrics\n",
    "neural_metrics = {\n",
    "    \"Recall\": recall_score(neural_y_test, neural_y_pred),\n",
    "    \"Accuracy\": accuracy_score(neural_y_test, neural_y_pred),\n",
    "    \"Precision\": precision_score(neural_y_test, neural_y_pred),\n",
    "    \"F1 Score\": f1_score(neural_y_test, neural_y_pred),\n",
    "    \"ROC AUC\": roc_auc_score(neural_y_test, neural_y_proba)\n",
    "}\n",
    "\n",
    "# Step 6: Display metrics in a table\n",
    "neural_results_df = pd.DataFrame([neural_metrics])\n",
    "print(\"\\nModel Performance (Neural Network with SelectKBest k=20):\")\n",
    "print(neural_results_df.to_string(index=False))"
   ]
  },
  {
   "cell_type": "markdown",
   "id": "af87be95-b474-4b74-984d-8c02cbae1ca8",
   "metadata": {},
   "source": [
    "#### Variance Threshold"
   ]
  },
  {
   "cell_type": "code",
   "execution_count": 60,
   "id": "96fc45d9-6e4c-4f02-a491-775466fa0491",
   "metadata": {},
   "outputs": [
    {
     "name": "stdout",
     "output_type": "stream",
     "text": [
      "Selected features for Neural Network using Variance Threshold:\n",
      " ['Age', 'BMI', 'SBP', 'DBP', 'FPG', 'Chol', 'Tri', 'HDL', 'LDL', 'ALT', 'BUN', 'CCR', 'FFPG', 'MAP', 'Glucose_Change', 'Chol_HDL_Ratio', 'LDL_HDL_Ratio', 'BUN_CCR_Ratio', 'BMI_Age', 'FPG_BMI', 'Tri_HDL_Ratio', 'ALT_per_BMI', 'Non_HDL', 'Pulse_Pressure', 'TG_HDL_Obesity', 'ALT_to_CCR', 'Gender_2', 'smoking_2', 'smoking_3', 'drinking_2', 'drinking_3', 'family_history_1', 'Obesity_Class_1', 'Obesity_Class_2', 'Impaired_FPG_Flag_1']\n"
     ]
    },
    {
     "name": "stderr",
     "output_type": "stream",
     "text": [
      "C:\\Users\\Admin\\AppData\\Local\\Programs\\Python\\Python311\\Lib\\site-packages\\keras\\src\\layers\\core\\dense.py:93: UserWarning: Do not pass an `input_shape`/`input_dim` argument to a layer. When using Sequential models, prefer using an `Input(shape)` object as the first layer in the model instead.\n",
      "  super().__init__(activity_regularizer=activity_regularizer, **kwargs)\n"
     ]
    },
    {
     "name": "stdout",
     "output_type": "stream",
     "text": [
      "\u001b[1m27/27\u001b[0m \u001b[32m━━━━━━━━━━━━━━━━━━━━\u001b[0m\u001b[37m\u001b[0m \u001b[1m0s\u001b[0m 5ms/step\n",
      "\n",
      "Model Performance (Neural Network with Variance Threshold):\n",
      "  Recall  Accuracy  Precision  F1 Score  ROC AUC\n",
      "0.796154  0.880233   0.805447  0.800774 0.930788\n"
     ]
    }
   ],
   "source": [
    "# Step 1: Apply Variance Threshold\n",
    "neural_variance_threshold = 0.01\n",
    "neural_selector = VarianceThreshold(threshold=neural_variance_threshold)\n",
    "neural_selector.fit(neural_X_train)\n",
    "\n",
    "# Step 2: Get selected features and transform data\n",
    "neural_selected_features = neural_X_train.columns[neural_selector.get_support()]\n",
    "neural_X_train_selected = neural_X_train.loc[:, neural_selected_features]\n",
    "neural_X_test_selected = neural_X_test.loc[:, neural_selected_features]\n",
    "\n",
    "print(\"Selected features for Neural Network using Variance Threshold:\\n\", neural_selected_features.tolist())\n",
    "\n",
    "# Step 3: Build Neural Network Model\n",
    "neural_model = Sequential([\n",
    "    Dense(32, activation='relu', input_shape=(neural_X_train_selected.shape[1],)),\n",
    "    Dense(16, activation='relu'),\n",
    "    Dense(1, activation='sigmoid')\n",
    "])\n",
    "\n",
    "neural_model.compile(\n",
    "    optimizer=Adam(learning_rate=0.001),\n",
    "    loss='binary_crossentropy',\n",
    "    metrics=[Recall(), 'accuracy']\n",
    ")\n",
    "\n",
    "# Step 4: Train the model\n",
    "neural_model.fit(neural_X_train_selected, neural_y_train, epochs=50, batch_size=32, verbose=0)\n",
    "\n",
    "# Step 5: Predict\n",
    "neural_y_proba = neural_model.predict(neural_X_test_selected).flatten()\n",
    "neural_y_pred = (neural_y_proba >= 0.5).astype(int)\n",
    "\n",
    "# Step 6: Evaluation Metrics\n",
    "neural_metrics = {\n",
    "    \"Recall\": recall_score(neural_y_test, neural_y_pred),\n",
    "    \"Accuracy\": accuracy_score(neural_y_test, neural_y_pred),\n",
    "    \"Precision\": precision_score(neural_y_test, neural_y_pred),\n",
    "    \"F1 Score\": f1_score(neural_y_test, neural_y_pred),\n",
    "    \"ROC AUC\": roc_auc_score(neural_y_test, neural_y_proba)\n",
    "}\n",
    "\n",
    "# Step 7: Display results\n",
    "neural_results_df = pd.DataFrame([neural_metrics])\n",
    "print(\"\\nModel Performance (Neural Network with Variance Threshold):\")\n",
    "print(neural_results_df.to_string(index=False))"
   ]
  },
  {
   "cell_type": "markdown",
   "id": "152c9d78-8ff0-4168-81f9-709b5c88dc70",
   "metadata": {},
   "source": [
    "#### Correlation Filter"
   ]
  },
  {
   "cell_type": "code",
   "execution_count": 61,
   "id": "e0c23897-d29b-4ce6-b3fb-3e145057903a",
   "metadata": {},
   "outputs": [
    {
     "name": "stdout",
     "output_type": "stream",
     "text": [
      "Features dropped due to correlation > 0.9:\n",
      " ['MAP', 'LDL_HDL_Ratio', 'BMI_Age', 'Tri_HDL_Ratio', 'ALT_per_BMI', 'Non_HDL', 'TG_HDL_Obesity', 'ALT_to_CCR', 'drinking_3']\n",
      "Selected features for Neural Network using Correlation Filter:\n",
      " ['Age', 'BMI', 'SBP', 'DBP', 'FPG', 'Chol', 'Tri', 'HDL', 'LDL', 'ALT', 'BUN', 'CCR', 'FFPG', 'Glucose_Change', 'Chol_HDL_Ratio', 'BUN_CCR_Ratio', 'FPG_BMI', 'Pulse_Pressure', 'Gender_2', 'smoking_2', 'smoking_3', 'drinking_2', 'family_history_1', 'Obesity_Class_1', 'Obesity_Class_2', 'Obesity_Class_3', 'Obesity_Class_4', 'Impaired_FPG_Flag_1']\n"
     ]
    },
    {
     "name": "stderr",
     "output_type": "stream",
     "text": [
      "C:\\Users\\Admin\\AppData\\Local\\Programs\\Python\\Python311\\Lib\\site-packages\\keras\\src\\layers\\core\\dense.py:93: UserWarning: Do not pass an `input_shape`/`input_dim` argument to a layer. When using Sequential models, prefer using an `Input(shape)` object as the first layer in the model instead.\n",
      "  super().__init__(activity_regularizer=activity_regularizer, **kwargs)\n"
     ]
    },
    {
     "name": "stdout",
     "output_type": "stream",
     "text": [
      "\u001b[1m27/27\u001b[0m \u001b[32m━━━━━━━━━━━━━━━━━━━━\u001b[0m\u001b[37m\u001b[0m \u001b[1m0s\u001b[0m 6ms/step\n",
      "\n",
      "Model Performance (Neural Network with Correlation Filter):\n",
      "  Recall  Accuracy  Precision  F1 Score  ROC AUC\n",
      "0.807692  0.887209   0.817121  0.812379 0.928622\n"
     ]
    }
   ],
   "source": [
    "# Step 1: Correlation Threshold Filter\n",
    "correlation_threshold = 0.9\n",
    "correlation_matrix = neural_X_train.corr().abs()\n",
    "\n",
    "# Upper triangle of correlation matrix\n",
    "upper_triangle = correlation_matrix.where(np.triu(np.ones(correlation_matrix.shape), k=1).astype(bool))\n",
    "\n",
    "# Identify features to drop\n",
    "features_to_drop = [column for column in upper_triangle.columns if any(upper_triangle[column] > correlation_threshold)]\n",
    "print(f\"Features dropped due to correlation > {correlation_threshold}:\\n\", features_to_drop)\n",
    "\n",
    "# Step 2: Drop correlated features from train and test sets\n",
    "neural_X_train_selected = neural_X_train.drop(columns=features_to_drop)\n",
    "neural_X_test_selected = neural_X_test.drop(columns=features_to_drop)\n",
    "\n",
    "# Optional: print selected features\n",
    "print(\"Selected features for Neural Network using Correlation Filter:\\n\", neural_X_train_selected.columns.tolist())\n",
    "\n",
    "# Step 3: Build Neural Network Model\n",
    "neural_model = Sequential([\n",
    "    Dense(32, activation='relu', input_shape=(neural_X_train_selected.shape[1],)),\n",
    "    Dense(16, activation='relu'),\n",
    "    Dense(1, activation='sigmoid')\n",
    "])\n",
    "\n",
    "neural_model.compile(\n",
    "    optimizer=Adam(learning_rate=0.001),\n",
    "    loss='binary_crossentropy',\n",
    "    metrics=[Recall(), 'accuracy']\n",
    ")\n",
    "\n",
    "# Step 4: Train the model\n",
    "neural_model.fit(neural_X_train_selected, neural_y_train, epochs=50, batch_size=32, verbose=0)\n",
    "\n",
    "# Step 5: Predict\n",
    "neural_y_proba = neural_model.predict(neural_X_test_selected).flatten()\n",
    "neural_y_pred = (neural_y_proba >= 0.5).astype(int)\n",
    "\n",
    "# Step 6: Evaluation Metrics\n",
    "neural_metrics = {\n",
    "    \"Recall\": recall_score(neural_y_test, neural_y_pred),\n",
    "    \"Accuracy\": accuracy_score(neural_y_test, neural_y_pred),\n",
    "    \"Precision\": precision_score(neural_y_test, neural_y_pred),\n",
    "    \"F1 Score\": f1_score(neural_y_test, neural_y_pred),\n",
    "    \"ROC AUC\": roc_auc_score(neural_y_test, neural_y_proba)\n",
    "}\n",
    "\n",
    "# Step 7: Display metrics in a table\n",
    "neural_results_df = pd.DataFrame([neural_metrics])\n",
    "print(\"\\nModel Performance (Neural Network with Correlation Filter):\")\n",
    "print(neural_results_df.to_string(index=False))"
   ]
  },
  {
   "cell_type": "markdown",
   "id": "6f9f7bf2-abbe-44a9-82fd-198c6c6784c7",
   "metadata": {},
   "source": [
    "Since SelectKBest produces the best recall, we choose SelectKBest for neural networks"
   ]
  },
  {
   "cell_type": "code",
   "execution_count": 62,
   "id": "206ccaae-b49c-4bca-9ef7-03f1bad73204",
   "metadata": {},
   "outputs": [
    {
     "name": "stdout",
     "output_type": "stream",
     "text": [
      "Selected features for Neural Network using SelectKBest:\n",
      " ['Age', 'BMI', 'SBP', 'DBP', 'FPG', 'BUN', 'FFPG', 'MAP', 'Glucose_Change', 'BUN_CCR_Ratio', 'BMI_Age', 'FPG_BMI', 'Non_HDL', 'Pulse_Pressure', 'TG_HDL_Obesity', 'smoking_3', 'drinking_2', 'drinking_3', 'Obesity_Class_1', 'Impaired_FPG_Flag_1']\n"
     ]
    }
   ],
   "source": [
    "# Step 1: Set number of top features to select\n",
    "neural_k = 20  # You can adjust this number as needed\n",
    "\n",
    "# Step 2: Apply SelectKBest with ANOVA F-test\n",
    "neural_selector = SelectKBest(score_func=f_classif, k=neural_k)\n",
    "neural_selector.fit(neural_X_train, neural_y_train)\n",
    "\n",
    "# Step 3: Get selected feature names\n",
    "neural_selected_features = neural_X_train.columns[neural_selector.get_support()]\n",
    "\n",
    "# Step 4: Filter train and test sets using selected features\n",
    "neural_X_train_selected = neural_X_train.loc[:, neural_selected_features]\n",
    "neural_X_test_selected = neural_X_test.loc[:, neural_selected_features]\n",
    "\n",
    "# Optional: Display selected feature names\n",
    "print(\"Selected features for Neural Network using SelectKBest:\\n\", neural_selected_features.tolist())"
   ]
  },
  {
   "cell_type": "markdown",
   "id": "29b13dc1-353a-47f3-a1c7-5592317414a8",
   "metadata": {},
   "source": [
    "### Decision Tree"
   ]
  },
  {
   "cell_type": "code",
   "execution_count": 63,
   "id": "562145a1-6b4a-427c-a4db-af5e0f3c3ef8",
   "metadata": {},
   "outputs": [
    {
     "name": "stdout",
     "output_type": "stream",
     "text": [
      "Top 10 selected features using Tree-Based Importance:\n",
      " ['FFPG', 'BMI_Age', 'Age', 'FPG', 'smoking', 'Impaired_FPG_Flag', 'LDL_HDL_Ratio', 'BUN_CCR_Ratio', 'BUN', 'BMI']\n",
      "\n",
      "Model Performance (Decision Tree with Top 10 Features):\n",
      "  Recall  Accuracy  Precision  F1 Score  ROC AUC\n",
      "0.780769   0.84186   0.719858  0.749077 0.824551\n"
     ]
    }
   ],
   "source": [
    "# Step 1: Train decision tree on full feature set\n",
    "tree_model = DecisionTreeClassifier(random_state=42)\n",
    "tree_model.fit(decisiontree_X_train, decisiontree_y_train)\n",
    "\n",
    "# Step 2: Get top 10 feature importances\n",
    "importances = tree_model.feature_importances_\n",
    "feature_names = decisiontree_X_train.columns\n",
    "\n",
    "# Sort features by importance and select top 10\n",
    "top_n = 10\n",
    "top_indices = np.argsort(importances)[::-1][:top_n]\n",
    "selected_features = feature_names[top_indices]\n",
    "\n",
    "# Step 3: Filter training and testing sets\n",
    "decisiontree_X_train_selected = decisiontree_X_train[selected_features]\n",
    "decisiontree_X_test_selected = decisiontree_X_test[selected_features]\n",
    "\n",
    "print(\"Top 10 selected features using Tree-Based Importance:\\n\", selected_features.tolist())\n",
    "\n",
    "# Step 4: Retrain model on selected features\n",
    "final_model = DecisionTreeClassifier(random_state=42)\n",
    "final_model.fit(decisiontree_X_train_selected, decisiontree_y_train)\n",
    "\n",
    "# Step 5: Predict and evaluate\n",
    "y_pred = final_model.predict(decisiontree_X_test_selected)\n",
    "y_proba = final_model.predict_proba(decisiontree_X_test_selected)[:, 1]\n",
    "\n",
    "decisiontree_metrics = {\n",
    "    \"Recall\": recall_score(decisiontree_y_test, y_pred),\n",
    "    \"Accuracy\": accuracy_score(decisiontree_y_test, y_pred),\n",
    "    \"Precision\": precision_score(decisiontree_y_test, y_pred),\n",
    "    \"F1 Score\": f1_score(decisiontree_y_test, y_pred),\n",
    "    \"ROC AUC\": roc_auc_score(decisiontree_y_test, y_proba)\n",
    "}\n",
    "\n",
    "# Step 6: Display metrics in table\n",
    "results_df = pd.DataFrame([decisiontree_metrics])\n",
    "print(\"\\nModel Performance (Decision Tree with Top 10 Features):\")\n",
    "print(results_df.to_string(index=False))"
   ]
  },
  {
   "cell_type": "markdown",
   "id": "e6a1e5c0-8c80-4275-826b-dd19de14ada5",
   "metadata": {},
   "source": [
    "### Random Forest"
   ]
  },
  {
   "cell_type": "code",
   "execution_count": 64,
   "id": "4f040ff5-9e5a-43dc-8e0a-afb60c8ce621",
   "metadata": {},
   "outputs": [
    {
     "name": "stdout",
     "output_type": "stream",
     "text": [
      "Top 10 selected features using Random Forest Importance:\n",
      " ['FFPG', 'FPG', 'Age', 'Impaired_FPG_Flag', 'Glucose_Change', 'BMI_Age', 'FPG_BMI', 'smoking', 'drinking', 'TG_HDL_Obesity']\n",
      "\n",
      "Model Performance (Random Forest with Top 10 Features):\n",
      "  Recall  Accuracy  Precision  F1 Score  ROC AUC\n",
      "0.834615  0.904651   0.847656  0.841085 0.933965\n"
     ]
    }
   ],
   "source": [
    "# Step 1: Train Random Forest on full training data\n",
    "rf_model = RandomForestClassifier(random_state=42)\n",
    "rf_model.fit(randomforest_X_train, randomforest_y_train)\n",
    "\n",
    "# Step 2: Get top 10 features based on feature importances\n",
    "importances = rf_model.feature_importances_\n",
    "feature_names = randomforest_X_train.columns\n",
    "\n",
    "top_n = 10\n",
    "top_indices = np.argsort(importances)[::-1][:top_n]\n",
    "selected_features = feature_names[top_indices]\n",
    "\n",
    "# Step 3: Select top features from train and test sets\n",
    "randomforest_X_train_selected = randomforest_X_train[selected_features]\n",
    "randomforest_X_test_selected = randomforest_X_test[selected_features]\n",
    "\n",
    "print(\"Top 10 selected features using Random Forest Importance:\\n\", selected_features.tolist())\n",
    "\n",
    "# Step 4: Retrain Random Forest on selected features\n",
    "final_rf_model = RandomForestClassifier(random_state=42)\n",
    "final_rf_model.fit(randomforest_X_train_selected, randomforest_y_train)\n",
    "\n",
    "# Step 5: Predict and evaluate\n",
    "y_pred = final_rf_model.predict(randomforest_X_test_selected)\n",
    "y_proba = final_rf_model.predict_proba(randomforest_X_test_selected)[:, 1]\n",
    "\n",
    "randomforest_metrics = {\n",
    "    \"Recall\": recall_score(randomforest_y_test, y_pred),\n",
    "    \"Accuracy\": accuracy_score(randomforest_y_test, y_pred),\n",
    "    \"Precision\": precision_score(randomforest_y_test, y_pred),\n",
    "    \"F1 Score\": f1_score(randomforest_y_test, y_pred),\n",
    "    \"ROC AUC\": roc_auc_score(randomforest_y_test, y_proba)\n",
    "}\n",
    "\n",
    "# Step 6: Display results in a table\n",
    "results_df = pd.DataFrame([randomforest_metrics])\n",
    "print(\"\\nModel Performance (Random Forest with Top 10 Features):\")\n",
    "print(results_df.to_string(index=False))"
   ]
  },
  {
   "cell_type": "markdown",
   "id": "677b5165-9211-4859-bd18-244910f75349",
   "metadata": {},
   "source": [
    "### XGBoost"
   ]
  },
  {
   "cell_type": "code",
   "execution_count": 65,
   "id": "29b0d980-7d55-47d4-8e3c-e5a84db48921",
   "metadata": {},
   "outputs": [],
   "source": [
    "# List of categorical columns to convert\n",
    "categorical_columns = [\n",
    "    'Gender', 'smoking', 'drinking', 'family_history', 'Impaired_FPG_Flag'\n",
    "]\n",
    "\n",
    "# Convert category dtype to int (e.g. label-encoded categories)\n",
    "xgboost_X_train[categorical_columns] = xgboost_X_train[categorical_columns].astype(int)\n",
    "xgboost_X_test[categorical_columns] = xgboost_X_test[categorical_columns].astype(int)"
   ]
  },
  {
   "cell_type": "code",
   "execution_count": 66,
   "id": "c378a96a-5dca-47c4-9519-57166a87e27c",
   "metadata": {},
   "outputs": [
    {
     "name": "stderr",
     "output_type": "stream",
     "text": [
      "C:\\Users\\Admin\\AppData\\Local\\Programs\\Python\\Python311\\Lib\\site-packages\\xgboost\\training.py:183: UserWarning: [21:15:48] WARNING: C:\\actions-runner\\_work\\xgboost\\xgboost\\src\\learner.cc:738: \n",
      "Parameters: { \"use_label_encoder\" } are not used.\n",
      "\n",
      "  bst.update(dtrain, iteration=i, fobj=obj)\n"
     ]
    },
    {
     "name": "stdout",
     "output_type": "stream",
     "text": [
      "Top 10 selected features using XGBoost Importance:\n",
      " ['FFPG', 'Impaired_FPG_Flag', 'smoking', 'Age', 'drinking', 'BMI_Age', 'family_history', 'FPG', 'Gender', 'Pulse_Pressure']\n",
      "\n",
      "Model Performance (XGBoost with Top 10 Features):\n",
      "  Recall  Accuracy  Precision  F1 Score  ROC AUC\n",
      "0.826923  0.884884   0.799257  0.812854 0.935154\n"
     ]
    },
    {
     "name": "stderr",
     "output_type": "stream",
     "text": [
      "C:\\Users\\Admin\\AppData\\Local\\Programs\\Python\\Python311\\Lib\\site-packages\\xgboost\\training.py:183: UserWarning: [21:15:49] WARNING: C:\\actions-runner\\_work\\xgboost\\xgboost\\src\\learner.cc:738: \n",
      "Parameters: { \"use_label_encoder\" } are not used.\n",
      "\n",
      "  bst.update(dtrain, iteration=i, fobj=obj)\n"
     ]
    }
   ],
   "source": [
    "# Step 1: Train XGBoost on full training data\n",
    "xgb_model = XGBClassifier(use_label_encoder=False, eval_metric='logloss', random_state=42)\n",
    "xgb_model.fit(xgboost_X_train, xgboost_y_train)\n",
    "\n",
    "# Step 2: Get top 10 features by importance\n",
    "importances = xgb_model.feature_importances_\n",
    "feature_names = xgboost_X_train.columns\n",
    "\n",
    "top_n = 10\n",
    "top_indices = np.argsort(importances)[::-1][:top_n]\n",
    "selected_features = feature_names[top_indices]\n",
    "\n",
    "# Step 3: Subset the data\n",
    "xgboost_X_train_selected = xgboost_X_train[selected_features]\n",
    "xgboost_X_test_selected = xgboost_X_test[selected_features]\n",
    "\n",
    "print(\"Top 10 selected features using XGBoost Importance:\\n\", selected_features.tolist())\n",
    "\n",
    "# Step 4: Retrain XGBoost on selected features\n",
    "final_xgb_model = XGBClassifier(use_label_encoder=False, eval_metric='logloss', random_state=42)\n",
    "final_xgb_model.fit(xgboost_X_train_selected, xgboost_y_train)\n",
    "\n",
    "# Step 5: Predict and evaluate\n",
    "y_pred = final_xgb_model.predict(xgboost_X_test_selected)\n",
    "y_proba = final_xgb_model.predict_proba(xgboost_X_test_selected)[:, 1]\n",
    "\n",
    "xgboost_metrics = {\n",
    "    \"Recall\": recall_score(xgboost_y_test, y_pred),\n",
    "    \"Accuracy\": accuracy_score(xgboost_y_test, y_pred),\n",
    "    \"Precision\": precision_score(xgboost_y_test, y_pred),\n",
    "    \"F1 Score\": f1_score(xgboost_y_test, y_pred),\n",
    "    \"ROC AUC\": roc_auc_score(xgboost_y_test, y_proba)\n",
    "}\n",
    "\n",
    "# Step 6: Show metrics in a table\n",
    "results_df = pd.DataFrame([xgboost_metrics])\n",
    "print(\"\\nModel Performance (XGBoost with Top 10 Features):\")\n",
    "print(results_df.to_string(index=False))"
   ]
  },
  {
   "cell_type": "markdown",
   "id": "7b8cdabc-d720-4f8f-a850-7ba310db66ef",
   "metadata": {},
   "source": [
    "### LightGBM"
   ]
  },
  {
   "cell_type": "code",
   "execution_count": 67,
   "id": "7611d441-c10d-4ed0-9fc9-c3ba20c76f9c",
   "metadata": {},
   "outputs": [
    {
     "name": "stdout",
     "output_type": "stream",
     "text": [
      "[LightGBM] [Info] Number of positive: 2398, number of negative: 2398\n",
      "[LightGBM] [Info] Auto-choosing col-wise multi-threading, the overhead of testing was 0.001922 seconds.\n",
      "You can set `force_col_wise=true` to remove the overhead.\n",
      "[LightGBM] [Info] Total Bins 5955\n",
      "[LightGBM] [Info] Number of data points in the train set: 4796, number of used features: 32\n",
      "[LightGBM] [Info] [binary:BoostFromScore]: pavg=0.500000 -> initscore=0.000000\n",
      "Top 10 selected features using LightGBM:\n",
      " ['FPG', 'BMI_Age', 'FFPG', 'HDL', 'CCR', 'Glucose_Change', 'Pulse_Pressure', 'BUN_CCR_Ratio', 'Age', 'BUN']\n",
      "[LightGBM] [Info] Number of positive: 2398, number of negative: 2398\n",
      "[LightGBM] [Info] Auto-choosing col-wise multi-threading, the overhead of testing was 0.000395 seconds.\n",
      "You can set `force_col_wise=true` to remove the overhead.\n",
      "[LightGBM] [Info] Total Bins 2191\n",
      "[LightGBM] [Info] Number of data points in the train set: 4796, number of used features: 10\n",
      "[LightGBM] [Info] [binary:BoostFromScore]: pavg=0.500000 -> initscore=0.000000\n",
      "\n",
      "Model Performance (LightGBM with Top 10 Features):\n",
      "  Recall  Accuracy  Precision  F1 Score  ROC AUC\n",
      "0.826923  0.886047   0.802239  0.814394 0.926218\n"
     ]
    }
   ],
   "source": [
    "# Step 1: Train LightGBM on the full feature set\n",
    "lgbm_model = LGBMClassifier(random_state=42)\n",
    "lgbm_model.fit(lightgbm_X_train, lightgbm_y_train)\n",
    "\n",
    "# Step 2: Get top 10 features based on importance\n",
    "importances = lgbm_model.feature_importances_\n",
    "feature_names = lightgbm_X_train.columns\n",
    "\n",
    "top_n = 10\n",
    "top_indices = np.argsort(importances)[::-1][:top_n]\n",
    "selected_features = feature_names[top_indices]\n",
    "\n",
    "# Step 3: Subset the data using selected features\n",
    "lightgbm_X_train_selected = lightgbm_X_train[selected_features]\n",
    "lightgbm_X_test_selected = lightgbm_X_test[selected_features]\n",
    "\n",
    "print(\"Top 10 selected features using LightGBM:\\n\", selected_features.tolist())\n",
    "\n",
    "# Step 4: Retrain LightGBM on selected features\n",
    "final_lgbm_model = LGBMClassifier(random_state=42)\n",
    "final_lgbm_model.fit(lightgbm_X_train_selected, lightgbm_y_train)\n",
    "\n",
    "# Step 5: Predict and evaluate\n",
    "y_pred = final_lgbm_model.predict(lightgbm_X_test_selected)\n",
    "y_proba = final_lgbm_model.predict_proba(lightgbm_X_test_selected)[:, 1]\n",
    "\n",
    "lightgbm_metrics = {\n",
    "    \"Recall\": recall_score(lightgbm_y_test, y_pred),\n",
    "    \"Accuracy\": accuracy_score(lightgbm_y_test, y_pred),\n",
    "    \"Precision\": precision_score(lightgbm_y_test, y_pred),\n",
    "    \"F1 Score\": f1_score(lightgbm_y_test, y_pred),\n",
    "    \"ROC AUC\": roc_auc_score(lightgbm_y_test, y_proba)\n",
    "}\n",
    "\n",
    "# Step 6: Display evaluation metrics\n",
    "results_df = pd.DataFrame([lightgbm_metrics])\n",
    "print(\"\\nModel Performance (LightGBM with Top 10 Features):\")\n",
    "print(results_df.to_string(index=False))"
   ]
  },
  {
   "cell_type": "code",
   "execution_count": null,
   "id": "2d1d29be-df14-4a66-bbad-f0d557a3d927",
   "metadata": {},
   "outputs": [],
   "source": []
  },
  {
   "cell_type": "markdown",
   "id": "7fa3bee2-9b3a-430d-b72f-2a4188f2eb37",
   "metadata": {},
   "source": [
    "# Part IV. Building Models"
   ]
  },
  {
   "cell_type": "markdown",
   "id": "a7587361-016b-4d33-8710-3993a5a770c7",
   "metadata": {},
   "source": [
    "## Building Models"
   ]
  },
  {
   "cell_type": "markdown",
   "id": "b4c545f8-ee86-469f-b593-0787a2219af1",
   "metadata": {},
   "source": [
    "### Logistic Regression"
   ]
  },
  {
   "cell_type": "code",
   "execution_count": 68,
   "id": "60caddac-9d94-4453-b88f-cf1b4dfa3d5b",
   "metadata": {},
   "outputs": [
    {
     "name": "stdout",
     "output_type": "stream",
     "text": [
      "Logistic Regression Evaluation:\n",
      "Accuracy     : 0.8953\n",
      "Precision    : 0.7993\n",
      "Recall       : 0.8731\n",
      "F1 Score     : 0.8346\n",
      "ROC AUC Score: 0.9364\n",
      "\n",
      "Classification Report:\n",
      "              precision    recall  f1-score   support\n",
      "\n",
      "           0       0.94      0.91      0.92       600\n",
      "           1       0.80      0.87      0.83       260\n",
      "\n",
      "    accuracy                           0.90       860\n",
      "   macro avg       0.87      0.89      0.88       860\n",
      "weighted avg       0.90      0.90      0.90       860\n",
      "\n",
      "Confusion Matrix:\n",
      "[[543  57]\n",
      " [ 33 227]]\n"
     ]
    }
   ],
   "source": [
    "# Step 1: Initialize and train the model\n",
    "logistic_model = LogisticRegression(solver='liblinear', random_state=42)\n",
    "logistic_model.fit(logistic_X_train_selected, logistic_y_train)\n",
    "\n",
    "# Step 2: Predict on test set\n",
    "y_pred = logistic_model.predict(logistic_X_test_selected)\n",
    "y_prob = logistic_model.predict_proba(logistic_X_test_selected)[:, 1]  # Probabilities for ROC AUC\n",
    "\n",
    "# Step 3: Evaluate the model\n",
    "accuracy = accuracy_score(logistic_y_test, y_pred)\n",
    "precision = precision_score(logistic_y_test, y_pred)\n",
    "recall = recall_score(logistic_y_test, y_pred)\n",
    "f1 = f1_score(logistic_y_test, y_pred)\n",
    "roc_auc = roc_auc_score(logistic_y_test, y_prob)\n",
    "\n",
    "# Print metrics\n",
    "print(\"Logistic Regression Evaluation:\")\n",
    "print(f\"Accuracy     : {accuracy:.4f}\")\n",
    "print(f\"Precision    : {precision:.4f}\")\n",
    "print(f\"Recall       : {recall:.4f}\")\n",
    "print(f\"F1 Score     : {f1:.4f}\")\n",
    "print(f\"ROC AUC Score: {roc_auc:.4f}\")\n",
    "print(\"\\nClassification Report:\")\n",
    "print(classification_report(logistic_y_test, y_pred))\n",
    "print(\"Confusion Matrix:\")\n",
    "print(confusion_matrix(logistic_y_test, y_pred))"
   ]
  },
  {
   "cell_type": "markdown",
   "id": "48b00ccb-4caa-4cd5-b0c5-41857735b5aa",
   "metadata": {},
   "source": [
    "### KNN"
   ]
  },
  {
   "cell_type": "code",
   "execution_count": 69,
   "id": "9d8bd519-746b-4f50-abcb-4d19103696b3",
   "metadata": {},
   "outputs": [
    {
     "name": "stdout",
     "output_type": "stream",
     "text": [
      "KNN Model Evaluation:\n",
      "Accuracy     : 0.8733\n",
      "Precision    : 0.7595\n",
      "Recall       : 0.8500\n",
      "F1 Score     : 0.8022\n",
      "ROC AUC Score: 0.9051\n",
      "\n",
      "Classification Report:\n",
      "              precision    recall  f1-score   support\n",
      "\n",
      "           0       0.93      0.88      0.91       600\n",
      "           1       0.76      0.85      0.80       260\n",
      "\n",
      "    accuracy                           0.87       860\n",
      "   macro avg       0.85      0.87      0.85       860\n",
      "weighted avg       0.88      0.87      0.88       860\n",
      "\n",
      "Confusion Matrix:\n",
      "[[530  70]\n",
      " [ 39 221]]\n"
     ]
    }
   ],
   "source": [
    "# Step 1: Initialize the KNN model (you can tune n_neighbors later)\n",
    "knn_model = KNeighborsClassifier(n_neighbors=5)\n",
    "knn_model.fit(knn_X_train_selected, knn_y_train)\n",
    "\n",
    "# Step 2: Predict on test set\n",
    "y_pred = knn_model.predict(knn_X_test_selected)\n",
    "y_prob = knn_model.predict_proba(knn_X_test_selected)[:, 1]\n",
    "\n",
    "# Step 3: Evaluate the model\n",
    "accuracy = accuracy_score(knn_y_test, y_pred)\n",
    "precision = precision_score(knn_y_test, y_pred)\n",
    "recall = recall_score(knn_y_test, y_pred)\n",
    "f1 = f1_score(knn_y_test, y_pred)\n",
    "roc_auc = roc_auc_score(knn_y_test, y_prob)\n",
    "\n",
    "# Step 4: Print evaluation results\n",
    "print(\"KNN Model Evaluation:\")\n",
    "print(f\"Accuracy     : {accuracy:.4f}\")\n",
    "print(f\"Precision    : {precision:.4f}\")\n",
    "print(f\"Recall       : {recall:.4f}\")\n",
    "print(f\"F1 Score     : {f1:.4f}\")\n",
    "print(f\"ROC AUC Score: {roc_auc:.4f}\")\n",
    "print(\"\\nClassification Report:\")\n",
    "print(classification_report(knn_y_test, y_pred))\n",
    "print(\"Confusion Matrix:\")\n",
    "print(confusion_matrix(knn_y_test, y_pred))"
   ]
  },
  {
   "cell_type": "markdown",
   "id": "b788fa70-e24c-40bf-bc6f-83678fcf8853",
   "metadata": {},
   "source": [
    "### SVM"
   ]
  },
  {
   "cell_type": "code",
   "execution_count": 70,
   "id": "fdbecb38-b055-40c9-bdd6-cc50a4c100a8",
   "metadata": {},
   "outputs": [
    {
     "name": "stdout",
     "output_type": "stream",
     "text": [
      "SVM Model Evaluation:\n",
      "Accuracy     : 0.8942\n",
      "Precision    : 0.8165\n",
      "Recall       : 0.8385\n",
      "F1 Score     : 0.8273\n",
      "ROC AUC Score: 0.9317\n",
      "\n",
      "Classification Report:\n",
      "              precision    recall  f1-score   support\n",
      "\n",
      "           0       0.93      0.92      0.92       600\n",
      "           1       0.82      0.84      0.83       260\n",
      "\n",
      "    accuracy                           0.89       860\n",
      "   macro avg       0.87      0.88      0.88       860\n",
      "weighted avg       0.90      0.89      0.89       860\n",
      "\n",
      "Confusion Matrix:\n",
      "[[551  49]\n",
      " [ 42 218]]\n"
     ]
    }
   ],
   "source": [
    "# Step 1: Initialize the SVM model with probability enabled for ROC AUC\n",
    "svm_model = SVC(kernel='rbf', probability=True, random_state=42)\n",
    "svm_model.fit(svm_X_train_selected, svm_y_train)\n",
    "\n",
    "# Step 2: Predict on test set\n",
    "y_pred = svm_model.predict(svm_X_test_selected)\n",
    "y_prob = svm_model.predict_proba(svm_X_test_selected)[:, 1]\n",
    "\n",
    "# Step 3: Evaluate the model\n",
    "accuracy = accuracy_score(svm_y_test, y_pred)\n",
    "precision = precision_score(svm_y_test, y_pred)\n",
    "recall = recall_score(svm_y_test, y_pred)\n",
    "f1 = f1_score(svm_y_test, y_pred)\n",
    "roc_auc = roc_auc_score(svm_y_test, y_prob)\n",
    "\n",
    "# Step 4: Print evaluation results\n",
    "print(\"SVM Model Evaluation:\")\n",
    "print(f\"Accuracy     : {accuracy:.4f}\")\n",
    "print(f\"Precision    : {precision:.4f}\")\n",
    "print(f\"Recall       : {recall:.4f}\")\n",
    "print(f\"F1 Score     : {f1:.4f}\")\n",
    "print(f\"ROC AUC Score: {roc_auc:.4f}\")\n",
    "print(\"\\nClassification Report:\")\n",
    "print(classification_report(svm_y_test, y_pred))\n",
    "print(\"Confusion Matrix:\")\n",
    "print(confusion_matrix(svm_y_test, y_pred))"
   ]
  },
  {
   "cell_type": "markdown",
   "id": "76603308-c848-4858-9abc-ed7f06294fa0",
   "metadata": {},
   "source": [
    "### Neural Networks"
   ]
  },
  {
   "cell_type": "code",
   "execution_count": 71,
   "id": "8f11bbd7-a976-448e-b16a-01c147f8015b",
   "metadata": {},
   "outputs": [
    {
     "name": "stderr",
     "output_type": "stream",
     "text": [
      "C:\\Users\\Admin\\AppData\\Local\\Programs\\Python\\Python311\\Lib\\site-packages\\keras\\src\\layers\\core\\dense.py:93: UserWarning: Do not pass an `input_shape`/`input_dim` argument to a layer. When using Sequential models, prefer using an `Input(shape)` object as the first layer in the model instead.\n",
      "  super().__init__(activity_regularizer=activity_regularizer, **kwargs)\n"
     ]
    },
    {
     "name": "stdout",
     "output_type": "stream",
     "text": [
      "\u001b[1m27/27\u001b[0m \u001b[32m━━━━━━━━━━━━━━━━━━━━\u001b[0m\u001b[37m\u001b[0m \u001b[1m0s\u001b[0m 6ms/step\n",
      "Neural Network Evaluation:\n",
      "Accuracy     : 0.8860\n",
      "Precision    : 0.8045\n",
      "Recall       : 0.8231\n",
      "F1 Score     : 0.8137\n",
      "ROC AUC Score: 0.9283\n",
      "\n",
      "Classification Report:\n",
      "              precision    recall  f1-score   support\n",
      "\n",
      "           0       0.92      0.91      0.92       600\n",
      "           1       0.80      0.82      0.81       260\n",
      "\n",
      "    accuracy                           0.89       860\n",
      "   macro avg       0.86      0.87      0.87       860\n",
      "weighted avg       0.89      0.89      0.89       860\n",
      "\n",
      "Confusion Matrix:\n",
      "[[548  52]\n",
      " [ 46 214]]\n"
     ]
    }
   ],
   "source": [
    "# Step 1: Define the model\n",
    "model = Sequential([\n",
    "    Dense(32, activation='relu', input_shape=(neural_X_train_selected.shape[1],)),\n",
    "    Dense(16, activation='relu'),\n",
    "    Dense(1, activation='sigmoid')  # Binary classification\n",
    "])\n",
    "\n",
    "# Step 2: Compile the model\n",
    "model.compile(optimizer=Adam(learning_rate=0.001),\n",
    "              loss='binary_crossentropy',\n",
    "              metrics=['accuracy'])\n",
    "\n",
    "# Step 3: Fit the model\n",
    "model.fit(neural_X_train_selected, neural_y_train, epochs=50, batch_size=32, verbose=0)\n",
    "\n",
    "# Step 4: Predict\n",
    "y_prob = model.predict(neural_X_test_selected).flatten()\n",
    "y_pred = (y_prob >= 0.5).astype(int)\n",
    "\n",
    "# Step 5: Evaluate the model\n",
    "accuracy = accuracy_score(neural_y_test, y_pred)\n",
    "precision = precision_score(neural_y_test, y_pred)\n",
    "recall = recall_score(neural_y_test, y_pred)\n",
    "f1 = f1_score(neural_y_test, y_pred)\n",
    "roc_auc = roc_auc_score(neural_y_test, y_prob)\n",
    "\n",
    "# Step 6: Print evaluation\n",
    "print(\"Neural Network Evaluation:\")\n",
    "print(f\"Accuracy     : {accuracy:.4f}\")\n",
    "print(f\"Precision    : {precision:.4f}\")\n",
    "print(f\"Recall       : {recall:.4f}\")\n",
    "print(f\"F1 Score     : {f1:.4f}\")\n",
    "print(f\"ROC AUC Score: {roc_auc:.4f}\")\n",
    "print(\"\\nClassification Report:\")\n",
    "print(classification_report(neural_y_test, y_pred))\n",
    "print(\"Confusion Matrix:\")\n",
    "print(confusion_matrix(neural_y_test, y_pred))"
   ]
  },
  {
   "cell_type": "markdown",
   "id": "e803ee12-a166-4e61-ade5-863b5172bd70",
   "metadata": {},
   "source": [
    "### Decision Tree"
   ]
  },
  {
   "cell_type": "code",
   "execution_count": 72,
   "id": "245eef9c-e044-4057-9704-8599fc6ceec1",
   "metadata": {},
   "outputs": [
    {
     "name": "stdout",
     "output_type": "stream",
     "text": [
      "Decision Tree Evaluation:\n",
      "Accuracy     : 0.8419\n",
      "Precision    : 0.7199\n",
      "Recall       : 0.7808\n",
      "F1 Score     : 0.7491\n",
      "ROC AUC Score: 0.8246\n",
      "\n",
      "Classification Report:\n",
      "              precision    recall  f1-score   support\n",
      "\n",
      "           0       0.90      0.87      0.88       600\n",
      "           1       0.72      0.78      0.75       260\n",
      "\n",
      "    accuracy                           0.84       860\n",
      "   macro avg       0.81      0.82      0.82       860\n",
      "weighted avg       0.85      0.84      0.84       860\n",
      "\n",
      "Confusion Matrix:\n",
      "[[521  79]\n",
      " [ 57 203]]\n"
     ]
    }
   ],
   "source": [
    "# Step 1: Initialize and train the decision tree\n",
    "dt_model = DecisionTreeClassifier(random_state=42)\n",
    "dt_model.fit(decisiontree_X_train_selected, decisiontree_y_train)\n",
    "\n",
    "# Step 2: Predict on test set\n",
    "y_pred = dt_model.predict(decisiontree_X_test_selected)\n",
    "y_prob = dt_model.predict_proba(decisiontree_X_test_selected)[:, 1]\n",
    "\n",
    "# Step 3: Evaluate the model\n",
    "accuracy = accuracy_score(decisiontree_y_test, y_pred)\n",
    "precision = precision_score(decisiontree_y_test, y_pred)\n",
    "recall = recall_score(decisiontree_y_test, y_pred)\n",
    "f1 = f1_score(decisiontree_y_test, y_pred)\n",
    "roc_auc = roc_auc_score(decisiontree_y_test, y_prob)\n",
    "\n",
    "# Step 4: Print evaluation results\n",
    "print(\"Decision Tree Evaluation:\")\n",
    "print(f\"Accuracy     : {accuracy:.4f}\")\n",
    "print(f\"Precision    : {precision:.4f}\")\n",
    "print(f\"Recall       : {recall:.4f}\")\n",
    "print(f\"F1 Score     : {f1:.4f}\")\n",
    "print(f\"ROC AUC Score: {roc_auc:.4f}\")\n",
    "print(\"\\nClassification Report:\")\n",
    "print(classification_report(decisiontree_y_test, y_pred))\n",
    "print(\"Confusion Matrix:\")\n",
    "print(confusion_matrix(decisiontree_y_test, y_pred))"
   ]
  },
  {
   "cell_type": "markdown",
   "id": "acd79969-f2e3-4e7c-822c-2badcfcece9f",
   "metadata": {},
   "source": [
    "### Random Forest"
   ]
  },
  {
   "cell_type": "code",
   "execution_count": 73,
   "id": "c2f55bad-2852-4aef-a82e-ef458ecb337c",
   "metadata": {},
   "outputs": [
    {
     "name": "stdout",
     "output_type": "stream",
     "text": [
      "Random Forest Evaluation:\n",
      "Accuracy     : 0.9047\n",
      "Precision    : 0.8477\n",
      "Recall       : 0.8346\n",
      "F1 Score     : 0.8411\n",
      "ROC AUC Score: 0.9340\n",
      "\n",
      "Classification Report:\n",
      "              precision    recall  f1-score   support\n",
      "\n",
      "           0       0.93      0.94      0.93       600\n",
      "           1       0.85      0.83      0.84       260\n",
      "\n",
      "    accuracy                           0.90       860\n",
      "   macro avg       0.89      0.88      0.89       860\n",
      "weighted avg       0.90      0.90      0.90       860\n",
      "\n",
      "Confusion Matrix:\n",
      "[[561  39]\n",
      " [ 43 217]]\n"
     ]
    }
   ],
   "source": [
    "# Step 1: Initialize and train the model\n",
    "rf_model = RandomForestClassifier(n_estimators=100, random_state=42)\n",
    "rf_model.fit(randomforest_X_train_selected, randomforest_y_train)\n",
    "\n",
    "# Step 2: Predict on test set\n",
    "y_pred = rf_model.predict(randomforest_X_test_selected)\n",
    "y_prob = rf_model.predict_proba(randomforest_X_test_selected)[:, 1]\n",
    "\n",
    "# Step 3: Evaluate the model\n",
    "accuracy = accuracy_score(randomforest_y_test, y_pred)\n",
    "precision = precision_score(randomforest_y_test, y_pred)\n",
    "recall = recall_score(randomforest_y_test, y_pred)\n",
    "f1 = f1_score(randomforest_y_test, y_pred)\n",
    "roc_auc = roc_auc_score(randomforest_y_test, y_prob)\n",
    "\n",
    "# Step 4: Print evaluation results\n",
    "print(\"Random Forest Evaluation:\")\n",
    "print(f\"Accuracy     : {accuracy:.4f}\")\n",
    "print(f\"Precision    : {precision:.4f}\")\n",
    "print(f\"Recall       : {recall:.4f}\")\n",
    "print(f\"F1 Score     : {f1:.4f}\")\n",
    "print(f\"ROC AUC Score: {roc_auc:.4f}\")\n",
    "print(\"\\nClassification Report:\")\n",
    "print(classification_report(randomforest_y_test, y_pred))\n",
    "print(\"Confusion Matrix:\")\n",
    "print(confusion_matrix(randomforest_y_test, y_pred))"
   ]
  },
  {
   "cell_type": "markdown",
   "id": "b3ef1b6e-1687-4a75-8529-1f10a7ee5957",
   "metadata": {},
   "source": [
    "### XGBoost"
   ]
  },
  {
   "cell_type": "code",
   "execution_count": 74,
   "id": "88c6ac58-4924-4e2a-892f-afd13521cb24",
   "metadata": {},
   "outputs": [
    {
     "name": "stderr",
     "output_type": "stream",
     "text": [
      "C:\\Users\\Admin\\AppData\\Local\\Programs\\Python\\Python311\\Lib\\site-packages\\xgboost\\training.py:183: UserWarning: [21:16:25] WARNING: C:\\actions-runner\\_work\\xgboost\\xgboost\\src\\learner.cc:738: \n",
      "Parameters: { \"use_label_encoder\" } are not used.\n",
      "\n",
      "  bst.update(dtrain, iteration=i, fobj=obj)\n"
     ]
    },
    {
     "name": "stdout",
     "output_type": "stream",
     "text": [
      "XGBoost Evaluation:\n",
      "Accuracy     : 0.8849\n",
      "Precision    : 0.7993\n",
      "Recall       : 0.8269\n",
      "F1 Score     : 0.8129\n",
      "ROC AUC Score: 0.9352\n",
      "\n",
      "Classification Report:\n",
      "              precision    recall  f1-score   support\n",
      "\n",
      "           0       0.92      0.91      0.92       600\n",
      "           1       0.80      0.83      0.81       260\n",
      "\n",
      "    accuracy                           0.88       860\n",
      "   macro avg       0.86      0.87      0.86       860\n",
      "weighted avg       0.89      0.88      0.89       860\n",
      "\n",
      "Confusion Matrix:\n",
      "[[546  54]\n",
      " [ 45 215]]\n"
     ]
    }
   ],
   "source": [
    "# Step 1: Initialize and train the model\n",
    "xgb_model = XGBClassifier(use_label_encoder=False, eval_metric='logloss', random_state=42)\n",
    "xgb_model.fit(xgboost_X_train_selected, xgboost_y_train)\n",
    "\n",
    "# Step 2: Predict on test set\n",
    "y_pred = xgb_model.predict(xgboost_X_test_selected)\n",
    "y_prob = xgb_model.predict_proba(xgboost_X_test_selected)[:, 1]\n",
    "\n",
    "# Step 3: Evaluate the model\n",
    "accuracy = accuracy_score(xgboost_y_test, y_pred)\n",
    "precision = precision_score(xgboost_y_test, y_pred)\n",
    "recall = recall_score(xgboost_y_test, y_pred)\n",
    "f1 = f1_score(xgboost_y_test, y_pred)\n",
    "roc_auc = roc_auc_score(xgboost_y_test, y_prob)\n",
    "\n",
    "# Step 4: Print evaluation results\n",
    "print(\"XGBoost Evaluation:\")\n",
    "print(f\"Accuracy     : {accuracy:.4f}\")\n",
    "print(f\"Precision    : {precision:.4f}\")\n",
    "print(f\"Recall       : {recall:.4f}\")\n",
    "print(f\"F1 Score     : {f1:.4f}\")\n",
    "print(f\"ROC AUC Score: {roc_auc:.4f}\")\n",
    "print(\"\\nClassification Report:\")\n",
    "print(classification_report(xgboost_y_test, y_pred))\n",
    "print(\"Confusion Matrix:\")\n",
    "print(confusion_matrix(xgboost_y_test, y_pred))"
   ]
  },
  {
   "cell_type": "markdown",
   "id": "f1bef499-9b78-4b00-9421-e9807d9a309a",
   "metadata": {},
   "source": [
    "### LightGBM"
   ]
  },
  {
   "cell_type": "code",
   "execution_count": 75,
   "id": "185f8d48-46ad-44d5-aacb-1d55dea6d0e6",
   "metadata": {},
   "outputs": [
    {
     "name": "stdout",
     "output_type": "stream",
     "text": [
      "[LightGBM] [Info] Number of positive: 2398, number of negative: 2398\n",
      "[LightGBM] [Info] Auto-choosing col-wise multi-threading, the overhead of testing was 0.000457 seconds.\n",
      "You can set `force_col_wise=true` to remove the overhead.\n",
      "[LightGBM] [Info] Total Bins 2191\n",
      "[LightGBM] [Info] Number of data points in the train set: 4796, number of used features: 10\n",
      "[LightGBM] [Info] [binary:BoostFromScore]: pavg=0.500000 -> initscore=0.000000\n",
      "LightGBM Evaluation:\n",
      "Accuracy     : 0.8860\n",
      "Precision    : 0.8022\n",
      "Recall       : 0.8269\n",
      "F1 Score     : 0.8144\n",
      "ROC AUC Score: 0.9262\n",
      "\n",
      "Classification Report:\n",
      "              precision    recall  f1-score   support\n",
      "\n",
      "           0       0.92      0.91      0.92       600\n",
      "           1       0.80      0.83      0.81       260\n",
      "\n",
      "    accuracy                           0.89       860\n",
      "   macro avg       0.86      0.87      0.87       860\n",
      "weighted avg       0.89      0.89      0.89       860\n",
      "\n",
      "Confusion Matrix:\n",
      "[[547  53]\n",
      " [ 45 215]]\n"
     ]
    }
   ],
   "source": [
    "# Step 1: Initialize and train the model\n",
    "lgbm_model = LGBMClassifier(random_state=42)\n",
    "lgbm_model.fit(lightgbm_X_train_selected, lightgbm_y_train)\n",
    "\n",
    "# Step 2: Predict on test set\n",
    "y_pred = lgbm_model.predict(lightgbm_X_test_selected)\n",
    "y_prob = lgbm_model.predict_proba(lightgbm_X_test_selected)[:, 1]\n",
    "\n",
    "# Step 3: Evaluate the model\n",
    "accuracy = accuracy_score(lightgbm_y_test, y_pred)\n",
    "precision = precision_score(lightgbm_y_test, y_pred)\n",
    "recall = recall_score(lightgbm_y_test, y_pred)\n",
    "f1 = f1_score(lightgbm_y_test, y_pred)\n",
    "roc_auc = roc_auc_score(lightgbm_y_test, y_prob)\n",
    "\n",
    "# Step 4: Print evaluation results\n",
    "print(\"LightGBM Evaluation:\")\n",
    "print(f\"Accuracy     : {accuracy:.4f}\")\n",
    "print(f\"Precision    : {precision:.4f}\")\n",
    "print(f\"Recall       : {recall:.4f}\")\n",
    "print(f\"F1 Score     : {f1:.4f}\")\n",
    "print(f\"ROC AUC Score: {roc_auc:.4f}\")\n",
    "print(\"\\nClassification Report:\")\n",
    "print(classification_report(lightgbm_y_test, y_pred))\n",
    "print(\"Confusion Matrix:\")\n",
    "print(confusion_matrix(lightgbm_y_test, y_pred))"
   ]
  },
  {
   "cell_type": "code",
   "execution_count": null,
   "id": "bd63fc49-7214-47b4-9e94-3c1e28e48827",
   "metadata": {},
   "outputs": [],
   "source": []
  },
  {
   "cell_type": "markdown",
   "id": "7617a93f-bdb2-4bc0-aca9-10c413c20189",
   "metadata": {},
   "source": [
    "# Part V. Evaluate Models"
   ]
  },
  {
   "cell_type": "markdown",
   "id": "c68c30f4-86d0-4e17-b3c5-1a6c31071629",
   "metadata": {},
   "source": [
    "Logistic Regression, KNN, SVM and Random Forest produce the best recall. Hence, we choose to tune these models"
   ]
  },
  {
   "cell_type": "code",
   "execution_count": null,
   "id": "24edd6d0-5e7f-49dc-b388-6e25958e5e0c",
   "metadata": {},
   "outputs": [],
   "source": []
  },
  {
   "cell_type": "markdown",
   "id": "101dc53f-2072-46bb-8c68-40b125b0356c",
   "metadata": {},
   "source": [
    "# Part VI. Hyperparameter Tuning"
   ]
  },
  {
   "cell_type": "markdown",
   "id": "798f19a5-ba7e-46b3-9443-43b76848b5b3",
   "metadata": {},
   "source": [
    "## Logistic Regression"
   ]
  },
  {
   "cell_type": "code",
   "execution_count": 76,
   "id": "53abff57-0047-4471-a9f7-eed352ad6a0f",
   "metadata": {},
   "outputs": [
    {
     "name": "stdout",
     "output_type": "stream",
     "text": [
      "Fitting 5 folds for each of 80 candidates, totalling 400 fits\n",
      "Best Parameters: {'C': 0.0001, 'class_weight': None, 'penalty': 'l2', 'solver': 'liblinear'}\n",
      "\n",
      "Logistic Regression Evaluation (After Tuning):\n",
      "Accuracy     : 0.8186\n",
      "Precision    : 0.6469\n",
      "Recall       : 0.8808\n",
      "F1 Score     : 0.7459\n",
      "ROC AUC Score: 0.9061\n",
      "\n",
      "Classification Report:\n",
      "              precision    recall  f1-score   support\n",
      "\n",
      "           0       0.94      0.79      0.86       600\n",
      "           1       0.65      0.88      0.75       260\n",
      "\n",
      "    accuracy                           0.82       860\n",
      "   macro avg       0.79      0.84      0.80       860\n",
      "weighted avg       0.85      0.82      0.82       860\n",
      "\n",
      "Confusion Matrix:\n",
      "[[475 125]\n",
      " [ 31 229]]\n"
     ]
    }
   ],
   "source": [
    "# Step 1: Define expanded parameter grid\n",
    "param_grid = {\n",
    "    'C': np.logspace(-4, 4, 20),  # Log-spaced values between 1e-4 and 1e4\n",
    "    'penalty': ['l1', 'l2'],\n",
    "    'solver': ['liblinear'],  # Supports both l1 and l2\n",
    "    'class_weight': [None, 'balanced']\n",
    "}\n",
    "\n",
    "# Step 2: Define Stratified K-Fold CV\n",
    "cv = StratifiedKFold(n_splits=5, shuffle=True, random_state=42)\n",
    "\n",
    "# Step 3: Initialize GridSearchCV\n",
    "grid_search = GridSearchCV(\n",
    "    estimator=LogisticRegression(random_state=42, max_iter=1000),\n",
    "    param_grid=param_grid,\n",
    "    scoring='recall',  # Prioritize recall\n",
    "    cv=cv,\n",
    "    n_jobs=-1,\n",
    "    verbose=1\n",
    ")\n",
    "\n",
    "# Step 4: Fit grid search\n",
    "grid_search.fit(logistic_X_train_selected, logistic_y_train)\n",
    "\n",
    "# Step 5: Get best model and make predictions\n",
    "best_model = grid_search.best_estimator_\n",
    "y_pred = best_model.predict(logistic_X_test_selected)\n",
    "y_prob = best_model.predict_proba(logistic_X_test_selected)[:, 1]\n",
    "\n",
    "# Step 6: Evaluate performance\n",
    "accuracy = accuracy_score(logistic_y_test, y_pred)\n",
    "precision = precision_score(logistic_y_test, y_pred)\n",
    "recall = recall_score(logistic_y_test, y_pred)\n",
    "f1 = f1_score(logistic_y_test, y_pred)\n",
    "roc_auc = roc_auc_score(logistic_y_test, y_prob)\n",
    "\n",
    "# Step 7: Print results\n",
    "print(\"Best Parameters:\", grid_search.best_params_)\n",
    "print(\"\\nLogistic Regression Evaluation (After Tuning):\")\n",
    "print(f\"Accuracy     : {accuracy:.4f}\")\n",
    "print(f\"Precision    : {precision:.4f}\")\n",
    "print(f\"Recall       : {recall:.4f}\")\n",
    "print(f\"F1 Score     : {f1:.4f}\")\n",
    "print(f\"ROC AUC Score: {roc_auc:.4f}\")\n",
    "print(\"\\nClassification Report:\")\n",
    "print(classification_report(logistic_y_test, y_pred))\n",
    "print(\"Confusion Matrix:\")\n",
    "print(confusion_matrix(logistic_y_test, y_pred))"
   ]
  },
  {
   "cell_type": "markdown",
   "id": "11f8a2f0-0813-4e3d-a9c9-5a36d718507e",
   "metadata": {},
   "source": [
    "## KNN"
   ]
  },
  {
   "cell_type": "code",
   "execution_count": 77,
   "id": "cbefe132-a140-4b6d-8112-6d967944c8e0",
   "metadata": {},
   "outputs": [
    {
     "name": "stdout",
     "output_type": "stream",
     "text": [
      "Fitting 5 folds for each of 44 candidates, totalling 220 fits\n",
      "Best Parameters: {'metric': 'manhattan', 'n_neighbors': 6, 'weights': 'distance'}\n",
      "\n",
      "KNN Model Evaluation (After Tuning):\n",
      "Accuracy     : 0.8709\n",
      "Precision    : 0.7651\n",
      "Recall       : 0.8269\n",
      "F1 Score     : 0.7948\n",
      "ROC AUC Score: 0.9126\n",
      "\n",
      "Classification Report:\n",
      "              precision    recall  f1-score   support\n",
      "\n",
      "           0       0.92      0.89      0.91       600\n",
      "           1       0.77      0.83      0.79       260\n",
      "\n",
      "    accuracy                           0.87       860\n",
      "   macro avg       0.84      0.86      0.85       860\n",
      "weighted avg       0.87      0.87      0.87       860\n",
      "\n",
      "Confusion Matrix:\n",
      "[[534  66]\n",
      " [ 45 215]]\n"
     ]
    }
   ],
   "source": [
    "# Step 1: Define parameter grid for KNN\n",
    "param_grid = {\n",
    "    'n_neighbors': range(5, 16),        # Avoid overfitting from k=1 or 2\n",
    "    'weights': ['uniform', 'distance'],\n",
    "    'metric': ['euclidean', 'manhattan']\n",
    "}\n",
    "\n",
    "# Step 2: Define Stratified K-Fold CV\n",
    "cv = StratifiedKFold(n_splits=5, shuffle=True, random_state=42)\n",
    "\n",
    "# Step 3: Initialize GridSearchCV\n",
    "grid_search = GridSearchCV(\n",
    "    estimator=KNeighborsClassifier(),\n",
    "    param_grid=param_grid,\n",
    "    scoring='recall',  # Focus on recall\n",
    "    cv=cv,\n",
    "    n_jobs=-1,\n",
    "    verbose=1\n",
    ")\n",
    "\n",
    "# Step 4: Fit the grid search\n",
    "grid_search.fit(knn_X_train_selected, knn_y_train)\n",
    "\n",
    "# Step 5: Get the best model and predict\n",
    "best_knn_model = grid_search.best_estimator_\n",
    "y_pred = best_knn_model.predict(knn_X_test_selected)\n",
    "y_prob = best_knn_model.predict_proba(knn_X_test_selected)[:, 1]\n",
    "\n",
    "# Step 6: Evaluate performance\n",
    "accuracy = accuracy_score(knn_y_test, y_pred)\n",
    "precision = precision_score(knn_y_test, y_pred)\n",
    "recall = recall_score(knn_y_test, y_pred)\n",
    "f1 = f1_score(knn_y_test, y_pred)\n",
    "roc_auc = roc_auc_score(knn_y_test, y_prob)\n",
    "\n",
    "# Step 7: Print results\n",
    "print(\"Best Parameters:\", grid_search.best_params_)\n",
    "print(\"\\nKNN Model Evaluation (After Tuning):\")\n",
    "print(f\"Accuracy     : {accuracy:.4f}\")\n",
    "print(f\"Precision    : {precision:.4f}\")\n",
    "print(f\"Recall       : {recall:.4f}\")\n",
    "print(f\"F1 Score     : {f1:.4f}\")\n",
    "print(f\"ROC AUC Score: {roc_auc:.4f}\")\n",
    "print(\"\\nClassification Report:\")\n",
    "print(classification_report(knn_y_test, y_pred))\n",
    "print(\"Confusion Matrix:\")\n",
    "print(confusion_matrix(knn_y_test, y_pred))"
   ]
  },
  {
   "cell_type": "code",
   "execution_count": 78,
   "id": "bf44217d-0617-4900-9c57-d83123ebf9d6",
   "metadata": {},
   "outputs": [
    {
     "data": {
      "image/png": "[encoded data removed]",
      "text/plain": [
       "<Figure size 640x480 with 1 Axes>"
      ]
     },
     "metadata": {},
     "output_type": "display_data"
    }
   ],
   "source": [
    "import matplotlib.pyplot as plt\n",
    "\n",
    "k_values = range(1, 31)\n",
    "recalls = []\n",
    "\n",
    "for k in k_values:\n",
    "    model = KNeighborsClassifier(n_neighbors=k)\n",
    "    model.fit(knn_X_train_selected, knn_y_train)\n",
    "    y_pred = model.predict(knn_X_test_selected)\n",
    "    recalls.append(recall_score(knn_y_test, y_pred))\n",
    "\n",
    "plt.plot(k_values, recalls, marker='o')\n",
    "plt.xlabel(\"Number of Neighbors (k)\")\n",
    "plt.ylabel(\"Recall on Test Set\")\n",
    "plt.title(\"Recall vs. k\")\n",
    "plt.grid(True)\n",
    "plt.show()"
   ]
  },
  {
   "cell_type": "code",
   "execution_count": 79,
   "id": "ae00576a-eed1-4290-ba86-8a78d6a8afd1",
   "metadata": {},
   "outputs": [
    {
     "name": "stdout",
     "output_type": "stream",
     "text": [
      "KNN Model Evaluation:\n",
      "Accuracy     : 0.8733\n",
      "Precision    : 0.7542\n",
      "Recall       : 0.8615\n",
      "F1 Score     : 0.8043\n",
      "ROC AUC Score: 0.9237\n",
      "\n",
      "Classification Report:\n",
      "              precision    recall  f1-score   support\n",
      "\n",
      "           0       0.94      0.88      0.91       600\n",
      "           1       0.75      0.86      0.80       260\n",
      "\n",
      "    accuracy                           0.87       860\n",
      "   macro avg       0.85      0.87      0.86       860\n",
      "weighted avg       0.88      0.87      0.88       860\n",
      "\n",
      "Confusion Matrix:\n",
      "[[527  73]\n",
      " [ 36 224]]\n"
     ]
    }
   ],
   "source": [
    "# Step 1: Initialize the KNN model (you can tune n_neighbors later)\n",
    "knn_model = KNeighborsClassifier(n_neighbors=9)\n",
    "knn_model.fit(knn_X_train_selected, knn_y_train)\n",
    "\n",
    "# Step 2: Predict on test set\n",
    "y_pred = knn_model.predict(knn_X_test_selected)\n",
    "y_prob = knn_model.predict_proba(knn_X_test_selected)[:, 1]\n",
    "\n",
    "# Step 3: Evaluate the model\n",
    "accuracy = accuracy_score(knn_y_test, y_pred)\n",
    "precision = precision_score(knn_y_test, y_pred)\n",
    "recall = recall_score(knn_y_test, y_pred)\n",
    "f1 = f1_score(knn_y_test, y_pred)\n",
    "roc_auc = roc_auc_score(knn_y_test, y_prob)\n",
    "\n",
    "# Step 4: Print evaluation results\n",
    "print(\"KNN Model Evaluation:\")\n",
    "print(f\"Accuracy     : {accuracy:.4f}\")\n",
    "print(f\"Precision    : {precision:.4f}\")\n",
    "print(f\"Recall       : {recall:.4f}\")\n",
    "print(f\"F1 Score     : {f1:.4f}\")\n",
    "print(f\"ROC AUC Score: {roc_auc:.4f}\")\n",
    "print(\"\\nClassification Report:\")\n",
    "print(classification_report(knn_y_test, y_pred))\n",
    "print(\"Confusion Matrix:\")\n",
    "print(confusion_matrix(knn_y_test, y_pred))"
   ]
  },
  {
   "cell_type": "markdown",
   "id": "d109fb22-3064-46ea-aa2f-811cd182179a",
   "metadata": {},
   "source": [
    "## SVM"
   ]
  },
  {
   "cell_type": "code",
   "execution_count": 80,
   "id": "42178179-d120-4d61-9931-1d5ea10d4fd4",
   "metadata": {},
   "outputs": [
    {
     "name": "stdout",
     "output_type": "stream",
     "text": [
      "Fitting 5 folds for each of 30 candidates, totalling 150 fits\n",
      "Best Parameters: {'C': 0.1, 'gamma': 1}\n",
      "\n",
      "SVM Model Evaluation (After Tuning):\n",
      "Accuracy     : 0.5581\n",
      "Precision    : 0.4038\n",
      "Recall       : 0.9692\n",
      "F1 Score     : 0.5701\n",
      "ROC AUC Score: 0.9041\n",
      "\n",
      "Classification Report:\n",
      "              precision    recall  f1-score   support\n",
      "\n",
      "           0       0.97      0.38      0.55       600\n",
      "           1       0.40      0.97      0.57       260\n",
      "\n",
      "    accuracy                           0.56       860\n",
      "   macro avg       0.68      0.67      0.56       860\n",
      "weighted avg       0.80      0.56      0.55       860\n",
      "\n",
      "Confusion Matrix:\n",
      "[[228 372]\n",
      " [  8 252]]\n"
     ]
    }
   ],
   "source": [
    "# Step 1: Define parameter grid\n",
    "param_grid = {\n",
    "    'C': [0.01, 0.1, 1, 10, 100],\n",
    "    'gamma': [0.001, 0.01, 0.1, 1, 'scale', 'auto']\n",
    "}\n",
    "\n",
    "# Step 2: Define stratified K-fold cross-validation\n",
    "cv = StratifiedKFold(n_splits=5, shuffle=True, random_state=42)\n",
    "\n",
    "# Step 3: Initialize GridSearchCV\n",
    "grid_search = GridSearchCV(\n",
    "    estimator=SVC(kernel='rbf', probability=True, random_state=42),\n",
    "    param_grid=param_grid,\n",
    "    scoring='recall',  # You can also try 'f1' or 'roc_auc'\n",
    "    cv=cv,\n",
    "    n_jobs=-1,\n",
    "    verbose=1\n",
    ")\n",
    "\n",
    "# Step 4: Fit the grid search\n",
    "grid_search.fit(svm_X_train_selected, svm_y_train)\n",
    "\n",
    "# Step 5: Use best estimator to predict on test set\n",
    "best_svm_model = grid_search.best_estimator_\n",
    "y_pred = best_svm_model.predict(svm_X_test_selected)\n",
    "y_prob = best_svm_model.predict_proba(svm_X_test_selected)[:, 1]\n",
    "\n",
    "# Step 6: Evaluate performance\n",
    "accuracy = accuracy_score(svm_y_test, y_pred)\n",
    "precision = precision_score(svm_y_test, y_pred)\n",
    "recall = recall_score(svm_y_test, y_pred)\n",
    "f1 = f1_score(svm_y_test, y_pred)\n",
    "roc_auc = roc_auc_score(svm_y_test, y_prob)\n",
    "\n",
    "# Step 7: Print results\n",
    "print(\"Best Parameters:\", grid_search.best_params_)\n",
    "print(\"\\nSVM Model Evaluation (After Tuning):\")\n",
    "print(f\"Accuracy     : {accuracy:.4f}\")\n",
    "print(f\"Precision    : {precision:.4f}\")\n",
    "print(f\"Recall       : {recall:.4f}\")\n",
    "print(f\"F1 Score     : {f1:.4f}\")\n",
    "print(f\"ROC AUC Score: {roc_auc:.4f}\")\n",
    "print(\"\\nClassification Report:\")\n",
    "print(classification_report(svm_y_test, y_pred))\n",
    "print(\"Confusion Matrix:\")\n",
    "print(confusion_matrix(svm_y_test, y_pred))"
   ]
  },
  {
   "cell_type": "code",
   "execution_count": 81,
   "id": "6224a15c-def8-44a6-b7da-b2e797bd149f",
   "metadata": {},
   "outputs": [
    {
     "data": {
      "image/png": "[encoded data removed]",
      "text/plain": [
       "<Figure size 640x480 with 1 Axes>"
      ]
     },
     "metadata": {},
     "output_type": "display_data"
    }
   ],
   "source": [
    "from sklearn.metrics import precision_recall_curve\n",
    "import matplotlib.pyplot as plt\n",
    "\n",
    "precision_vals, recall_vals, thresholds = precision_recall_curve(svm_y_test, y_prob)\n",
    "\n",
    "plt.plot(thresholds, precision_vals[:-1], label=\"Precision\")\n",
    "plt.plot(thresholds, recall_vals[:-1], label=\"Recall\")\n",
    "plt.xlabel(\"Threshold\")\n",
    "plt.ylabel(\"Score\")\n",
    "plt.title(\"Precision-Recall vs Threshold\")\n",
    "plt.legend()\n",
    "plt.grid(True)\n",
    "plt.show()"
   ]
  },
  {
   "cell_type": "markdown",
   "id": "2991a6e5-a234-45e1-916f-7488fe39b405",
   "metadata": {},
   "source": [
    "## Random Forest"
   ]
  },
  {
   "cell_type": "code",
   "execution_count": 82,
   "id": "211a52da-38dd-46c8-8c31-9cb0d04b3602",
   "metadata": {},
   "outputs": [
    {
     "name": "stdout",
     "output_type": "stream",
     "text": [
      "Fitting 5 folds for each of 162 candidates, totalling 810 fits\n",
      "Best Parameters: {'max_depth': 20, 'max_features': 'sqrt', 'min_samples_leaf': 1, 'min_samples_split': 2, 'n_estimators': 100}\n",
      "\n",
      "Random Forest Evaluation (After Tuning):\n",
      "Accuracy     : 0.9070\n",
      "Precision    : 0.8543\n",
      "Recall       : 0.8346\n",
      "F1 Score     : 0.8444\n",
      "ROC AUC Score: 0.9346\n",
      "\n",
      "Classification Report:\n",
      "              precision    recall  f1-score   support\n",
      "\n",
      "           0       0.93      0.94      0.93       600\n",
      "           1       0.85      0.83      0.84       260\n",
      "\n",
      "    accuracy                           0.91       860\n",
      "   macro avg       0.89      0.89      0.89       860\n",
      "weighted avg       0.91      0.91      0.91       860\n",
      "\n",
      "Confusion Matrix:\n",
      "[[563  37]\n",
      " [ 43 217]]\n"
     ]
    }
   ],
   "source": [
    "# Step 1: Define hyperparameter grid\n",
    "param_grid = {\n",
    "    'n_estimators': [100, 200, 300],\n",
    "    'max_depth': [10, 20, 30],\n",
    "    'min_samples_split': [2, 5, 10],\n",
    "    'min_samples_leaf': [1, 2, 4],\n",
    "    'max_features': ['sqrt', 'log2']\n",
    "}\n",
    "\n",
    "# Step 2: Stratified K-Fold CV\n",
    "cv = StratifiedKFold(n_splits=5, shuffle=True, random_state=42)\n",
    "\n",
    "# Step 3: Initialize GridSearchCV\n",
    "grid_search = GridSearchCV(\n",
    "    estimator=RandomForestClassifier(random_state=42),\n",
    "    param_grid=param_grid,\n",
    "    scoring='recall',\n",
    "    cv=cv,\n",
    "    n_jobs=-1,\n",
    "    verbose=1\n",
    ")\n",
    "\n",
    "# Step 4: Fit the model\n",
    "grid_search.fit(randomforest_X_train_selected, randomforest_y_train)\n",
    "\n",
    "# Step 5: Evaluate the best model on test set\n",
    "best_rf_model = grid_search.best_estimator_\n",
    "y_pred = best_rf_model.predict(randomforest_X_test_selected)\n",
    "y_prob = best_rf_model.predict_proba(randomforest_X_test_selected)[:, 1]\n",
    "\n",
    "# Step 6: Compute metrics\n",
    "accuracy = accuracy_score(randomforest_y_test, y_pred)\n",
    "precision = precision_score(randomforest_y_test, y_pred)\n",
    "recall = recall_score(randomforest_y_test, y_pred)\n",
    "f1 = f1_score(randomforest_y_test, y_pred)\n",
    "roc_auc = roc_auc_score(randomforest_y_test, y_prob)\n",
    "\n",
    "# Step 7: Display results\n",
    "print(\"Best Parameters:\", grid_search.best_params_)\n",
    "print(\"\\nRandom Forest Evaluation (After Tuning):\")\n",
    "print(f\"Accuracy     : {accuracy:.4f}\")\n",
    "print(f\"Precision    : {precision:.4f}\")\n",
    "print(f\"Recall       : {recall:.4f}\")\n",
    "print(f\"F1 Score     : {f1:.4f}\")\n",
    "print(f\"ROC AUC Score: {roc_auc:.4f}\")\n",
    "print(\"\\nClassification Report:\")\n",
    "print(classification_report(randomforest_y_test, y_pred))\n",
    "print(\"Confusion Matrix:\")\n",
    "print(confusion_matrix(randomforest_y_test, y_pred))"
   ]
  },
  {
   "cell_type": "code",
   "execution_count": null,
   "id": "e233253f-a3f2-4918-8ae3-9d680b10fc87",
   "metadata": {},
   "outputs": [],
   "source": []
  },
  {
   "cell_type": "markdown",
   "id": "7d738b5c-14f9-444b-a131-39fabaf95438",
   "metadata": {},
   "source": [
    "# Part VII. Ensembling"
   ]
  },
  {
   "cell_type": "markdown",
   "id": "38400fc7-6ae5-41a8-8896-d9673fe3e5df",
   "metadata": {},
   "source": [
    "## Voting Classifier"
   ]
  },
  {
   "cell_type": "code",
   "execution_count": 85,
   "id": "63552037-952b-414b-b96b-07c9d68391e8",
   "metadata": {},
   "outputs": [],
   "source": [
    "logistic_clf = LogisticRegression(C=0.0001, solver='liblinear', class_weight=None, penalty='l2', random_state=42)\n",
    "knn_clf = KNeighborsClassifier(n_neighbors=9)\n",
    "svm_clf = SVC(C=0.1, gamma=1, probability=True, random_state=42)\n",
    "randomforest_clf  = RandomForestClassifier(n_estimators=100, max_depth=20, max_features='sqrt', min_samples_leaf=1, min_samples_split=2, random_state=42)"
   ]
  },
  {
   "cell_type": "markdown",
   "id": "87200430-9012-497c-987e-2af39c946739",
   "metadata": {},
   "source": [
    "### Soft Voting"
   ]
  },
  {
   "cell_type": "code",
   "execution_count": 86,
   "id": "b48b1755-d92d-48f7-8d6d-5bd87c3910b7",
   "metadata": {},
   "outputs": [],
   "source": [
    "soft_voting_clf = VotingClassifier(\n",
    "    estimators=[\n",
    "        ('logreg', logistic_clf),\n",
    "        ('knn', knn_clf),\n",
    "        ('svm', svm_clf),\n",
    "        ('rf', randomforest_clf)\n",
    "    ],\n",
    "    voting='soft'\n",
    ")"
   ]
  },
  {
   "cell_type": "code",
   "execution_count": 89,
   "id": "69a083da-ff6a-4001-bbba-9b4096814696",
   "metadata": {},
   "outputs": [
    {
     "name": "stdout",
     "output_type": "stream",
     "text": [
      "Voting Classifier Evaluation:\n",
      "Accuracy     : 0.8814\n",
      "Precision    : 0.7801\n",
      "Recall       : 0.8462\n",
      "F1 Score     : 0.8118\n",
      "ROC AUC Score: 0.9307\n"
     ]
    }
   ],
   "source": [
    "soft_voting_clf.fit(logistic_X_train, logistic_y_train)\n",
    "y_pred = soft_voting_clf.predict(logistic_X_test)\n",
    "y_prob = soft_voting_clf.predict_proba(logistic_X_test)[:, 1]  # For soft voting only\n",
    "\n",
    "print(\"Voting Classifier Evaluation:\")\n",
    "print(f\"Accuracy     : {accuracy_score(logistic_y_test, y_pred):.4f}\")\n",
    "print(f\"Precision    : {precision_score(logistic_y_test, y_pred):.4f}\")\n",
    "print(f\"Recall       : {recall_score(logistic_y_test, y_pred):.4f}\")\n",
    "print(f\"F1 Score     : {f1_score(logistic_y_test, y_pred):.4f}\")\n",
    "print(f\"ROC AUC Score: {roc_auc_score(logistic_y_test, y_prob):.4f}\")  # only if soft voting"
   ]
  },
  {
   "cell_type": "markdown",
   "id": "b716f35b-224f-485c-8270-92c0ea86db73",
   "metadata": {},
   "source": [
    "### Hard Voting"
   ]
  },
  {
   "cell_type": "code",
   "execution_count": 102,
   "id": "d8954744-4547-42ab-a650-d214bc2cda1f",
   "metadata": {},
   "outputs": [],
   "source": [
    "hard_voting_clf = VotingClassifier(\n",
    "    estimators=[\n",
    "        ('logreg', logistic_clf),\n",
    "        ('knn', knn_clf),\n",
    "        ('svm', svm_clf),\n",
    "        ('rf', randomforest_clf)\n",
    "    ],\n",
    "    voting='hard'\n",
    ")"
   ]
  },
  {
   "cell_type": "code",
   "execution_count": 104,
   "id": "e45bdea5-8e01-444a-8a7e-a7c27956facd",
   "metadata": {},
   "outputs": [
    {
     "name": "stdout",
     "output_type": "stream",
     "text": [
      "Voting Classifier Evaluation:\n",
      "Accuracy     : 0.8616\n",
      "Precision    : 0.7311\n",
      "Recall       : 0.8577\n",
      "F1 Score     : 0.7894\n"
     ]
    }
   ],
   "source": [
    "hard_voting_clf.fit(logistic_X_train, logistic_y_train)\n",
    "y_pred = hard_voting_clf.predict(logistic_X_test)\n",
    "\n",
    "print(\"Voting Classifier Evaluation:\")\n",
    "print(f\"Accuracy     : {accuracy_score(logistic_y_test, y_pred):.4f}\")\n",
    "print(f\"Precision    : {precision_score(logistic_y_test, y_pred):.4f}\")\n",
    "print(f\"Recall       : {recall_score(logistic_y_test, y_pred):.4f}\")\n",
    "print(f\"F1 Score     : {f1_score(logistic_y_test, y_pred):.4f}\")"
   ]
  },
  {
   "cell_type": "code",
   "execution_count": null,
   "id": "1dac29ff-70ca-4a01-b898-ec5d37e44ddf",
   "metadata": {},
   "outputs": [],
   "source": []
  },
  {
   "cell_type": "markdown",
   "id": "ddb35563-65bd-4afd-945c-a8c54abcb071",
   "metadata": {},
   "source": [
    "## Stacking Model"
   ]
  },
  {
   "cell_type": "code",
   "execution_count": 105,
   "id": "c7b39b55-7003-48d6-aace-e2dcca1ad045",
   "metadata": {},
   "outputs": [
    {
     "name": "stdout",
     "output_type": "stream",
     "text": [
      "Accuracy     : 0.9000\n",
      "Precision    : 0.8425\n",
      "Recall       : 0.8231\n",
      "F1 Score     : 0.8327\n"
     ]
    }
   ],
   "source": [
    "# Define base models (you can use your tuned models)\n",
    "base_models = [\n",
    "    ('lr', LogisticRegression(C=0.0001, solver='liblinear', class_weight=None, penalty='l2', random_state=42)),\n",
    "    ('knn', KNeighborsClassifier(n_neighbors=9)),\n",
    "    ('svm', SVC(C=0.1, gamma=1, probability=True, random_state=42)),\n",
    "    ('rf', RandomForestClassifier(n_estimators=100, max_depth=20, max_features='sqrt', min_samples_leaf=1, min_samples_split=2, random_state=42))\n",
    "]\n",
    "\n",
    "# Define meta-model (blender)\n",
    "meta_model = LogisticRegression()\n",
    "\n",
    "# Create StackingClassifier\n",
    "stack_model = StackingClassifier(\n",
    "    estimators=base_models,\n",
    "    final_estimator=meta_model,\n",
    "    cv=5,  # 5-fold stacking\n",
    "    passthrough=False,  # if True, also pass original features to meta-model\n",
    "    n_jobs=-1\n",
    ")\n",
    "\n",
    "# Train\n",
    "stack_model.fit(logistic_X_train, logistic_y_train)\n",
    "\n",
    "# Predict\n",
    "y_pred = stack_model.predict(logistic_X_test)\n",
    "\n",
    "# Evaluate\n",
    "print(f\"Accuracy     : {accuracy_score(logistic_y_test, y_pred):.4f}\")\n",
    "print(f\"Precision    : {precision_score(logistic_y_test, y_pred):.4f}\")\n",
    "print(f\"Recall       : {recall_score(logistic_y_test, y_pred):.4f}\")\n",
    "print(f\"F1 Score     : {f1_score(logistic_y_test, y_pred):.4f}\")"
   ]
  },
  {
   "cell_type": "code",
   "execution_count": null,
   "id": "8ba9f838-b30f-4f7f-957b-d54d5fd478b3",
   "metadata": {},
   "outputs": [],
   "source": []
  }
 ],
 "metadata": {
  "kernelspec": {
   "display_name": "Python 3 (ipykernel)",
   "language": "python",
   "name": "python3"
  },
  "language_info": {
   "codemirror_mode": {
    "name": "ipython",
    "version": 3
   },
   "file_extension": ".py",
   "mimetype": "text/x-python",
   "name": "python",
   "nbconvert_exporter": "python",
   "pygments_lexer": "ipython3",
   "version": "3.11.0"
  }
 },
 "nbformat": 4,
 "nbformat_minor": 5
}
